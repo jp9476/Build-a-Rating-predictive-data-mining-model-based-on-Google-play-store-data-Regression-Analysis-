{
  "nbformat": 4,
  "nbformat_minor": 0,
  "metadata": {
    "colab": {
      "name": "Build a Rating predictive data mining model based on Google play store data (Regression Analysis)",
      "provenance": []
    },
    "kernelspec": {
      "name": "python3",
      "display_name": "Python 3"
    },
    "language_info": {
      "name": "python"
    }
  },
  "cells": [
    {
      "cell_type": "markdown",
      "metadata": {
        "id": "b0nkBIUw3DyO"
      },
      "source": [
        "# Jay Patel (CP 8305)\n",
        "### Final Project"
      ]
    },
    {
      "cell_type": "code",
      "metadata": {
        "colab": {
          "resources": {
            "http://localhost:8080/nbextensions/google.colab/files.js": {
              "data": "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",
              "ok": true,
              "headers": [
                [
                  "content-type",
                  "application/javascript"
                ]
              ],
              "status": 200,
              "status_text": ""
            }
          },
          "base_uri": "https://localhost:8080/",
          "height": 74
        },
        "id": "v4nnyclD3GBg",
        "outputId": "18997a57-bc06-45bb-dacb-a598862a8d1e"
      },
      "source": [
        "#importing required libraries and uploading Data file\n",
        "\n",
        "import numpy as np\n",
        "import pandas as pd\n",
        "import seaborn as sns\n",
        "import matplotlib.pyplot as plt \n",
        "import random\n",
        "from google.colab import files \n",
        "upload = files.upload()"
      ],
      "execution_count": null,
      "outputs": [
        {
          "output_type": "display_data",
          "data": {
            "text/html": [
              "\n",
              "     <input type=\"file\" id=\"files-b94c3c87-d813-496c-89c3-d5d0a2b65539\" name=\"files[]\" multiple disabled\n",
              "        style=\"border:none\" />\n",
              "     <output id=\"result-b94c3c87-d813-496c-89c3-d5d0a2b65539\">\n",
              "      Upload widget is only available when the cell has been executed in the\n",
              "      current browser session. Please rerun this cell to enable.\n",
              "      </output>\n",
              "      <script src=\"/nbextensions/google.colab/files.js\"></script> "
            ],
            "text/plain": [
              "<IPython.core.display.HTML object>"
            ]
          },
          "metadata": {}
        },
        {
          "output_type": "stream",
          "name": "stdout",
          "text": [
            "Saving googleplaystore.csv to googleplaystore.csv\n"
          ]
        }
      ]
    },
    {
      "cell_type": "markdown",
      "metadata": {
        "id": "CJuCAtf4ATce"
      },
      "source": [
        "# 1.0 Introduction and Importing libraries"
      ]
    },
    {
      "cell_type": "code",
      "metadata": {
        "colab": {
          "base_uri": "https://localhost:8080/"
        },
        "id": "9Q8PTusiOq-O",
        "outputId": "7433043c-7d2e-4087-f2da-fc968600b262"
      },
      "source": [
        "#importing required libraries and reading the data file\n",
        "\n",
        "playstore = pd.read_csv ('googleplaystore.csv')\n",
        "\n",
        "from sklearn.model_selection import train_test_split\n",
        "from sklearn import svm\n",
        "from sklearn import metrics\n",
        "from sklearn.linear_model import LinearRegression\n",
        "from sklearn.ensemble import RandomForestRegressor\n",
        "from sklearn.neural_network import MLPRegressor\n",
        "playstore.head ()"
      ],
      "execution_count": null,
      "outputs": [
        {
          "output_type": "execute_result",
          "data": {
            "text/html": [
              "<div>\n",
              "<style scoped>\n",
              "    .dataframe tbody tr th:only-of-type {\n",
              "        vertical-align: middle;\n",
              "    }\n",
              "\n",
              "    .dataframe tbody tr th {\n",
              "        vertical-align: top;\n",
              "    }\n",
              "\n",
              "    .dataframe thead th {\n",
              "        text-align: right;\n",
              "    }\n",
              "</style>\n",
              "<table border=\"1\" class=\"dataframe\">\n",
              "  <thead>\n",
              "    <tr style=\"text-align: right;\">\n",
              "      <th></th>\n",
              "      <th>App</th>\n",
              "      <th>Category</th>\n",
              "      <th>Rating</th>\n",
              "      <th>Reviews</th>\n",
              "      <th>Size</th>\n",
              "      <th>Installs</th>\n",
              "      <th>Type</th>\n",
              "      <th>Price</th>\n",
              "      <th>Content Rating</th>\n",
              "      <th>Genres</th>\n",
              "      <th>Last Updated</th>\n",
              "      <th>Current Ver</th>\n",
              "      <th>Android Ver</th>\n",
              "    </tr>\n",
              "  </thead>\n",
              "  <tbody>\n",
              "    <tr>\n",
              "      <th>0</th>\n",
              "      <td>Photo Editor &amp; Candy Camera &amp; Grid &amp; ScrapBook</td>\n",
              "      <td>ART_AND_DESIGN</td>\n",
              "      <td>4.1</td>\n",
              "      <td>159</td>\n",
              "      <td>19M</td>\n",
              "      <td>10,000+</td>\n",
              "      <td>Free</td>\n",
              "      <td>0</td>\n",
              "      <td>Everyone</td>\n",
              "      <td>Art &amp; Design</td>\n",
              "      <td>January 7, 2018</td>\n",
              "      <td>1.0.0</td>\n",
              "      <td>4.0.3 and up</td>\n",
              "    </tr>\n",
              "    <tr>\n",
              "      <th>1</th>\n",
              "      <td>Coloring book moana</td>\n",
              "      <td>ART_AND_DESIGN</td>\n",
              "      <td>3.9</td>\n",
              "      <td>967</td>\n",
              "      <td>14M</td>\n",
              "      <td>500,000+</td>\n",
              "      <td>Free</td>\n",
              "      <td>0</td>\n",
              "      <td>Everyone</td>\n",
              "      <td>Art &amp; Design;Pretend Play</td>\n",
              "      <td>January 15, 2018</td>\n",
              "      <td>2.0.0</td>\n",
              "      <td>4.0.3 and up</td>\n",
              "    </tr>\n",
              "    <tr>\n",
              "      <th>2</th>\n",
              "      <td>U Launcher Lite – FREE Live Cool Themes, Hide ...</td>\n",
              "      <td>ART_AND_DESIGN</td>\n",
              "      <td>4.7</td>\n",
              "      <td>87510</td>\n",
              "      <td>8.7M</td>\n",
              "      <td>5,000,000+</td>\n",
              "      <td>Free</td>\n",
              "      <td>0</td>\n",
              "      <td>Everyone</td>\n",
              "      <td>Art &amp; Design</td>\n",
              "      <td>August 1, 2018</td>\n",
              "      <td>1.2.4</td>\n",
              "      <td>4.0.3 and up</td>\n",
              "    </tr>\n",
              "    <tr>\n",
              "      <th>3</th>\n",
              "      <td>Sketch - Draw &amp; Paint</td>\n",
              "      <td>ART_AND_DESIGN</td>\n",
              "      <td>4.5</td>\n",
              "      <td>215644</td>\n",
              "      <td>25M</td>\n",
              "      <td>50,000,000+</td>\n",
              "      <td>Free</td>\n",
              "      <td>0</td>\n",
              "      <td>Teen</td>\n",
              "      <td>Art &amp; Design</td>\n",
              "      <td>June 8, 2018</td>\n",
              "      <td>Varies with device</td>\n",
              "      <td>4.2 and up</td>\n",
              "    </tr>\n",
              "    <tr>\n",
              "      <th>4</th>\n",
              "      <td>Pixel Draw - Number Art Coloring Book</td>\n",
              "      <td>ART_AND_DESIGN</td>\n",
              "      <td>4.3</td>\n",
              "      <td>967</td>\n",
              "      <td>2.8M</td>\n",
              "      <td>100,000+</td>\n",
              "      <td>Free</td>\n",
              "      <td>0</td>\n",
              "      <td>Everyone</td>\n",
              "      <td>Art &amp; Design;Creativity</td>\n",
              "      <td>June 20, 2018</td>\n",
              "      <td>1.1</td>\n",
              "      <td>4.4 and up</td>\n",
              "    </tr>\n",
              "  </tbody>\n",
              "</table>\n",
              "</div>"
            ],
            "text/plain": [
              "                                                 App  ...   Android Ver\n",
              "0     Photo Editor & Candy Camera & Grid & ScrapBook  ...  4.0.3 and up\n",
              "1                                Coloring book moana  ...  4.0.3 and up\n",
              "2  U Launcher Lite – FREE Live Cool Themes, Hide ...  ...  4.0.3 and up\n",
              "3                              Sketch - Draw & Paint  ...    4.2 and up\n",
              "4              Pixel Draw - Number Art Coloring Book  ...    4.4 and up\n",
              "\n",
              "[5 rows x 13 columns]"
            ]
          },
          "metadata": {},
          "execution_count": 2
        }
      ]
    },
    {
      "cell_type": "code",
      "metadata": {
        "colab": {
          "base_uri": "https://localhost:8080/"
        },
        "id": "cPPb3kDIAt1g",
        "outputId": "7284825b-2369-4087-fb80-9435cba1bd42"
      },
      "source": [
        "#To see the data type\n",
        "playstore.info()"
      ],
      "execution_count": null,
      "outputs": [
        {
          "output_type": "stream",
          "name": "stdout",
          "text": [
            "<class 'pandas.core.frame.DataFrame'>\n",
            "RangeIndex: 10841 entries, 0 to 10840\n",
            "Data columns (total 13 columns):\n",
            " #   Column          Non-Null Count  Dtype  \n",
            "---  ------          --------------  -----  \n",
            " 0   App             10841 non-null  object \n",
            " 1   Category        10841 non-null  object \n",
            " 2   Rating          9367 non-null   float64\n",
            " 3   Reviews         10841 non-null  object \n",
            " 4   Size            10841 non-null  object \n",
            " 5   Installs        10841 non-null  object \n",
            " 6   Type            10840 non-null  object \n",
            " 7   Price           10841 non-null  object \n",
            " 8   Content Rating  10840 non-null  object \n",
            " 9   Genres          10841 non-null  object \n",
            " 10  Last Updated    10841 non-null  object \n",
            " 11  Current Ver     10833 non-null  object \n",
            " 12  Android Ver     10838 non-null  object \n",
            "dtypes: float64(1), object(12)\n",
            "memory usage: 1.1+ MB\n"
          ]
        }
      ]
    },
    {
      "cell_type": "code",
      "metadata": {
        "colab": {
          "base_uri": "https://localhost:8080/"
        },
        "id": "Te-B5SoWAvSG",
        "outputId": "71ced656-7cce-4e24-d2dd-83efdf876434"
      },
      "source": [
        "#to find the missing values\n",
        "playstore.isnull().sum()"
      ],
      "execution_count": null,
      "outputs": [
        {
          "output_type": "execute_result",
          "data": {
            "text/plain": [
              "App                  0\n",
              "Category             0\n",
              "Rating            1474\n",
              "Reviews              0\n",
              "Size                 0\n",
              "Installs             0\n",
              "Type                 1\n",
              "Price                0\n",
              "Content Rating       1\n",
              "Genres               0\n",
              "Last Updated         0\n",
              "Current Ver          8\n",
              "Android Ver          3\n",
              "dtype: int64"
            ]
          },
          "metadata": {},
          "execution_count": 4
        }
      ]
    },
    {
      "cell_type": "code",
      "metadata": {
        "colab": {
          "base_uri": "https://localhost:8080/"
        },
        "id": "4-veMItOAz7U",
        "outputId": "80fdd750-2a9a-42c0-efb9-8ba15cab06e5"
      },
      "source": [
        "#shape of the document\n",
        "playstore.shape"
      ],
      "execution_count": null,
      "outputs": [
        {
          "output_type": "execute_result",
          "data": {
            "text/plain": [
              "(10841, 13)"
            ]
          },
          "metadata": {},
          "execution_count": 5
        }
      ]
    },
    {
      "cell_type": "markdown",
      "metadata": {
        "id": "YLBkcPIxJmnF"
      },
      "source": [
        "# 2.0 Preprocessing Cleaning and Transformation "
      ]
    },
    {
      "cell_type": "markdown",
      "metadata": {
        "id": "unfyle8p8JyJ"
      },
      "source": [
        "## Variables of dataset"
      ]
    },
    {
      "cell_type": "code",
      "metadata": {
        "colab": {
          "base_uri": "https://localhost:8080/"
        },
        "id": "5UTnXolc8PVx",
        "outputId": "3391e513-79e1-40b5-a002-3fae217f8212"
      },
      "source": [
        "variable = pd.DataFrame(columns=['Variable Name','Number of variables','Details of Variables'])\n",
        "for i, var in enumerate(playstore.columns):\n",
        "  variable.loc[i] = [var, playstore[var].nunique(), playstore[var].unique().tolist()]\n",
        "    \n",
        "variable"
      ],
      "execution_count": null,
      "outputs": [
        {
          "output_type": "execute_result",
          "data": {
            "text/html": [
              "<div>\n",
              "<style scoped>\n",
              "    .dataframe tbody tr th:only-of-type {\n",
              "        vertical-align: middle;\n",
              "    }\n",
              "\n",
              "    .dataframe tbody tr th {\n",
              "        vertical-align: top;\n",
              "    }\n",
              "\n",
              "    .dataframe thead th {\n",
              "        text-align: right;\n",
              "    }\n",
              "</style>\n",
              "<table border=\"1\" class=\"dataframe\">\n",
              "  <thead>\n",
              "    <tr style=\"text-align: right;\">\n",
              "      <th></th>\n",
              "      <th>Variable Name</th>\n",
              "      <th>Number of variables</th>\n",
              "      <th>Details of Variables</th>\n",
              "    </tr>\n",
              "  </thead>\n",
              "  <tbody>\n",
              "    <tr>\n",
              "      <th>0</th>\n",
              "      <td>App</td>\n",
              "      <td>9660</td>\n",
              "      <td>[Photo Editor &amp; Candy Camera &amp; Grid &amp; ScrapBoo...</td>\n",
              "    </tr>\n",
              "    <tr>\n",
              "      <th>1</th>\n",
              "      <td>Category</td>\n",
              "      <td>34</td>\n",
              "      <td>[ART_AND_DESIGN, AUTO_AND_VEHICLES, BEAUTY, BO...</td>\n",
              "    </tr>\n",
              "    <tr>\n",
              "      <th>2</th>\n",
              "      <td>Rating</td>\n",
              "      <td>40</td>\n",
              "      <td>[4.1, 3.9, 4.7, 4.5, 4.3, 4.4, 3.8, 4.2, 4.6, ...</td>\n",
              "    </tr>\n",
              "    <tr>\n",
              "      <th>3</th>\n",
              "      <td>Reviews</td>\n",
              "      <td>6002</td>\n",
              "      <td>[159, 967, 87510, 215644, 167, 178, 36815, 137...</td>\n",
              "    </tr>\n",
              "    <tr>\n",
              "      <th>4</th>\n",
              "      <td>Size</td>\n",
              "      <td>462</td>\n",
              "      <td>[19M, 14M, 8.7M, 25M, 2.8M, 5.6M, 29M, 33M, 3....</td>\n",
              "    </tr>\n",
              "    <tr>\n",
              "      <th>5</th>\n",
              "      <td>Installs</td>\n",
              "      <td>22</td>\n",
              "      <td>[10,000+, 500,000+, 5,000,000+, 50,000,000+, 1...</td>\n",
              "    </tr>\n",
              "    <tr>\n",
              "      <th>6</th>\n",
              "      <td>Type</td>\n",
              "      <td>3</td>\n",
              "      <td>[Free, Paid, nan, 0]</td>\n",
              "    </tr>\n",
              "    <tr>\n",
              "      <th>7</th>\n",
              "      <td>Price</td>\n",
              "      <td>93</td>\n",
              "      <td>[0, $4.99, $3.99, $6.99, $1.49, $2.99, $7.99, ...</td>\n",
              "    </tr>\n",
              "    <tr>\n",
              "      <th>8</th>\n",
              "      <td>Content Rating</td>\n",
              "      <td>6</td>\n",
              "      <td>[Everyone, Teen, Everyone 10+, Mature 17+, Adu...</td>\n",
              "    </tr>\n",
              "    <tr>\n",
              "      <th>9</th>\n",
              "      <td>Genres</td>\n",
              "      <td>120</td>\n",
              "      <td>[Art &amp; Design, Art &amp; Design;Pretend Play, Art ...</td>\n",
              "    </tr>\n",
              "    <tr>\n",
              "      <th>10</th>\n",
              "      <td>Last Updated</td>\n",
              "      <td>1378</td>\n",
              "      <td>[January 7, 2018, January 15, 2018, August 1, ...</td>\n",
              "    </tr>\n",
              "    <tr>\n",
              "      <th>11</th>\n",
              "      <td>Current Ver</td>\n",
              "      <td>2832</td>\n",
              "      <td>[1.0.0, 2.0.0, 1.2.4, Varies with device, 1.1,...</td>\n",
              "    </tr>\n",
              "    <tr>\n",
              "      <th>12</th>\n",
              "      <td>Android Ver</td>\n",
              "      <td>33</td>\n",
              "      <td>[4.0.3 and up, 4.2 and up, 4.4 and up, 2.3 and...</td>\n",
              "    </tr>\n",
              "  </tbody>\n",
              "</table>\n",
              "</div>"
            ],
            "text/plain": [
              "     Variable Name  ...                               Details of Variables\n",
              "0              App  ...  [Photo Editor & Candy Camera & Grid & ScrapBoo...\n",
              "1         Category  ...  [ART_AND_DESIGN, AUTO_AND_VEHICLES, BEAUTY, BO...\n",
              "2           Rating  ...  [4.1, 3.9, 4.7, 4.5, 4.3, 4.4, 3.8, 4.2, 4.6, ...\n",
              "3          Reviews  ...  [159, 967, 87510, 215644, 167, 178, 36815, 137...\n",
              "4             Size  ...  [19M, 14M, 8.7M, 25M, 2.8M, 5.6M, 29M, 33M, 3....\n",
              "5         Installs  ...  [10,000+, 500,000+, 5,000,000+, 50,000,000+, 1...\n",
              "6             Type  ...                               [Free, Paid, nan, 0]\n",
              "7            Price  ...  [0, $4.99, $3.99, $6.99, $1.49, $2.99, $7.99, ...\n",
              "8   Content Rating  ...  [Everyone, Teen, Everyone 10+, Mature 17+, Adu...\n",
              "9           Genres  ...  [Art & Design, Art & Design;Pretend Play, Art ...\n",
              "10    Last Updated  ...  [January 7, 2018, January 15, 2018, August 1, ...\n",
              "11     Current Ver  ...  [1.0.0, 2.0.0, 1.2.4, Varies with device, 1.1,...\n",
              "12     Android Ver  ...  [4.0.3 and up, 4.2 and up, 4.4 and up, 2.3 and...\n",
              "\n",
              "[13 rows x 3 columns]"
            ]
          },
          "metadata": {},
          "execution_count": 6
        }
      ]
    },
    {
      "cell_type": "markdown",
      "metadata": {
        "id": "gARldeHgJs08"
      },
      "source": [
        "## 2.1 Detecting Outliers"
      ]
    },
    {
      "cell_type": "code",
      "metadata": {
        "colab": {
          "base_uri": "https://localhost:8080/"
        },
        "id": "P2I1IsFRxEPW",
        "outputId": "c14e3cdf-3863-458e-a01a-60764fe3b0f5"
      },
      "source": [
        "playstore.boxplot(\"Rating\")"
      ],
      "execution_count": null,
      "outputs": [
        {
          "output_type": "execute_result",
          "data": {
            "text/plain": [
              "<matplotlib.axes._subplots.AxesSubplot at 0x7fe3e94bcfd0>"
            ]
          },
          "metadata": {},
          "execution_count": 7
        },
        {
          "output_type": "display_data",
          "data": {
            "image/png": "[encoded data removed]",
            "text/plain": [
              "<Figure size 432x288 with 1 Axes>"
            ]
          },
          "metadata": {
            "needs_background": "light"
          }
        }
      ]
    },
    {
      "cell_type": "code",
      "metadata": {
        "colab": {
          "base_uri": "https://localhost:8080/"
        },
        "id": "wIjkKaZNxK9O",
        "outputId": "1ebaca98-d630-41e0-8811-9745f57e1339"
      },
      "source": [
        "playstore.hist(\"Rating\")"
      ],
      "execution_count": null,
      "outputs": [
        {
          "output_type": "execute_result",
          "data": {
            "text/plain": [
              "array([[<matplotlib.axes._subplots.AxesSubplot object at 0x7fe3e9396290>]],\n",
              "      dtype=object)"
            ]
          },
          "metadata": {},
          "execution_count": 8
        },
        {
          "output_type": "display_data",
          "data": {
            "image/png": "[encoded data removed]",
            "text/plain": [
              "<Figure size 432x288 with 1 Axes>"
            ]
          },
          "metadata": {
            "needs_background": "light"
          }
        }
      ]
    },
    {
      "cell_type": "code",
      "metadata": {
        "colab": {
          "base_uri": "https://localhost:8080/"
        },
        "id": "VxS-vHD9xOBd",
        "outputId": "d341bd96-8b56-4719-e364-bef8ab678dbf"
      },
      "source": [
        "playstore[playstore.Rating>5]"
      ],
      "execution_count": null,
      "outputs": [
        {
          "output_type": "execute_result",
          "data": {
            "text/html": [
              "<div>\n",
              "<style scoped>\n",
              "    .dataframe tbody tr th:only-of-type {\n",
              "        vertical-align: middle;\n",
              "    }\n",
              "\n",
              "    .dataframe tbody tr th {\n",
              "        vertical-align: top;\n",
              "    }\n",
              "\n",
              "    .dataframe thead th {\n",
              "        text-align: right;\n",
              "    }\n",
              "</style>\n",
              "<table border=\"1\" class=\"dataframe\">\n",
              "  <thead>\n",
              "    <tr style=\"text-align: right;\">\n",
              "      <th></th>\n",
              "      <th>App</th>\n",
              "      <th>Category</th>\n",
              "      <th>Rating</th>\n",
              "      <th>Reviews</th>\n",
              "      <th>Size</th>\n",
              "      <th>Installs</th>\n",
              "      <th>Type</th>\n",
              "      <th>Price</th>\n",
              "      <th>Content Rating</th>\n",
              "      <th>Genres</th>\n",
              "      <th>Last Updated</th>\n",
              "      <th>Current Ver</th>\n",
              "      <th>Android Ver</th>\n",
              "    </tr>\n",
              "  </thead>\n",
              "  <tbody>\n",
              "    <tr>\n",
              "      <th>10472</th>\n",
              "      <td>Life Made WI-Fi Touchscreen Photo Frame</td>\n",
              "      <td>1.9</td>\n",
              "      <td>19.0</td>\n",
              "      <td>3.0M</td>\n",
              "      <td>1,000+</td>\n",
              "      <td>Free</td>\n",
              "      <td>0</td>\n",
              "      <td>Everyone</td>\n",
              "      <td>NaN</td>\n",
              "      <td>February 11, 2018</td>\n",
              "      <td>1.0.19</td>\n",
              "      <td>4.0 and up</td>\n",
              "      <td>NaN</td>\n",
              "    </tr>\n",
              "  </tbody>\n",
              "</table>\n",
              "</div>"
            ],
            "text/plain": [
              "                                           App Category  ...  Current Ver Android Ver\n",
              "10472  Life Made WI-Fi Touchscreen Photo Frame      1.9  ...   4.0 and up         NaN\n",
              "\n",
              "[1 rows x 13 columns]"
            ]
          },
          "metadata": {},
          "execution_count": 9
        }
      ]
    },
    {
      "cell_type": "code",
      "metadata": {
        "colab": {
          "base_uri": "https://localhost:8080/"
        },
        "id": "-hErVIeYxgHh",
        "outputId": "7239969a-450c-4ba6-aeb2-9bdbff28ddbc"
      },
      "source": [
        "playstore.drop([10472], inplace=True)\n",
        "playstore[10471:10474]"
      ],
      "execution_count": null,
      "outputs": [
        {
          "output_type": "execute_result",
          "data": {
            "text/html": [
              "<div>\n",
              "<style scoped>\n",
              "    .dataframe tbody tr th:only-of-type {\n",
              "        vertical-align: middle;\n",
              "    }\n",
              "\n",
              "    .dataframe tbody tr th {\n",
              "        vertical-align: top;\n",
              "    }\n",
              "\n",
              "    .dataframe thead th {\n",
              "        text-align: right;\n",
              "    }\n",
              "</style>\n",
              "<table border=\"1\" class=\"dataframe\">\n",
              "  <thead>\n",
              "    <tr style=\"text-align: right;\">\n",
              "      <th></th>\n",
              "      <th>App</th>\n",
              "      <th>Category</th>\n",
              "      <th>Rating</th>\n",
              "      <th>Reviews</th>\n",
              "      <th>Size</th>\n",
              "      <th>Installs</th>\n",
              "      <th>Type</th>\n",
              "      <th>Price</th>\n",
              "      <th>Content Rating</th>\n",
              "      <th>Genres</th>\n",
              "      <th>Last Updated</th>\n",
              "      <th>Current Ver</th>\n",
              "      <th>Android Ver</th>\n",
              "    </tr>\n",
              "  </thead>\n",
              "  <tbody>\n",
              "    <tr>\n",
              "      <th>10471</th>\n",
              "      <td>Xposed Wi-Fi-Pwd</td>\n",
              "      <td>PERSONALIZATION</td>\n",
              "      <td>3.5</td>\n",
              "      <td>1042</td>\n",
              "      <td>404k</td>\n",
              "      <td>100,000+</td>\n",
              "      <td>Free</td>\n",
              "      <td>0</td>\n",
              "      <td>Everyone</td>\n",
              "      <td>Personalization</td>\n",
              "      <td>August 5, 2014</td>\n",
              "      <td>3.0.0</td>\n",
              "      <td>4.0.3 and up</td>\n",
              "    </tr>\n",
              "    <tr>\n",
              "      <th>10473</th>\n",
              "      <td>osmino Wi-Fi: free WiFi</td>\n",
              "      <td>TOOLS</td>\n",
              "      <td>4.2</td>\n",
              "      <td>134203</td>\n",
              "      <td>4.1M</td>\n",
              "      <td>10,000,000+</td>\n",
              "      <td>Free</td>\n",
              "      <td>0</td>\n",
              "      <td>Everyone</td>\n",
              "      <td>Tools</td>\n",
              "      <td>August 7, 2018</td>\n",
              "      <td>6.06.14</td>\n",
              "      <td>4.4 and up</td>\n",
              "    </tr>\n",
              "    <tr>\n",
              "      <th>10474</th>\n",
              "      <td>Sat-Fi Voice</td>\n",
              "      <td>COMMUNICATION</td>\n",
              "      <td>3.4</td>\n",
              "      <td>37</td>\n",
              "      <td>14M</td>\n",
              "      <td>1,000+</td>\n",
              "      <td>Free</td>\n",
              "      <td>0</td>\n",
              "      <td>Everyone</td>\n",
              "      <td>Communication</td>\n",
              "      <td>November 21, 2014</td>\n",
              "      <td>2.2.1.5</td>\n",
              "      <td>2.2 and up</td>\n",
              "    </tr>\n",
              "  </tbody>\n",
              "</table>\n",
              "</div>"
            ],
            "text/plain": [
              "                           App         Category  ...  Current Ver   Android Ver\n",
              "10471         Xposed Wi-Fi-Pwd  PERSONALIZATION  ...        3.0.0  4.0.3 and up\n",
              "10473  osmino Wi-Fi: free WiFi            TOOLS  ...      6.06.14    4.4 and up\n",
              "10474             Sat-Fi Voice    COMMUNICATION  ...      2.2.1.5    2.2 and up\n",
              "\n",
              "[3 rows x 13 columns]"
            ]
          },
          "metadata": {},
          "execution_count": 10
        }
      ]
    },
    {
      "cell_type": "code",
      "metadata": {
        "id": "6GFcFF0OytVL",
        "colab": {
          "base_uri": "https://localhost:8080/"
        },
        "outputId": "536368ae-42e9-4909-dd73-bae565ce0ff2"
      },
      "source": [
        "playstore.boxplot(\"Rating\")"
      ],
      "execution_count": null,
      "outputs": [
        {
          "output_type": "execute_result",
          "data": {
            "text/plain": [
              "<matplotlib.axes._subplots.AxesSubplot at 0x7fe3e8c0e190>"
            ]
          },
          "metadata": {},
          "execution_count": 11
        },
        {
          "output_type": "display_data",
          "data": {
            "image/png": "[encoded data removed]",
            "text/plain": [
              "<Figure size 432x288 with 1 Axes>"
            ]
          },
          "metadata": {
            "needs_background": "light"
          }
        }
      ]
    },
    {
      "cell_type": "markdown",
      "metadata": {
        "id": "xyKvXGrJw7kb"
      },
      "source": [
        "## 2.2 Data Cleaning"
      ]
    },
    {
      "cell_type": "code",
      "metadata": {
        "id": "cTaJ9oDfKHbF"
      },
      "source": [
        "# to deal with missing value we are replacing missing values with mean of all value for specific attribute\n",
        "# Here we are cleaning data for Rating attribute\n",
        "\n",
        "from sklearn.impute import SimpleImputer\n",
        "SmplImptr = SimpleImputer()\n",
        "playstore['Rating'] = SmplImptr.fit_transform(playstore[['Rating']])\n",
        "playstore['Rating'].round(1)\n",
        "\n",
        "\n",
        "# For Type, Content Rating, Current Ver and Android Version, rows were dropped which have missing values.\n",
        "playstore.dropna(axis=0, inplace=True)"
      ],
      "execution_count": null,
      "outputs": []
    },
    {
      "cell_type": "code",
      "metadata": {
        "id": "QpMNEWtINQJ0",
        "colab": {
          "base_uri": "https://localhost:8080/"
        },
        "outputId": "887dd246-b602-4d30-8049-65d3724a053d"
      },
      "source": [
        "playstore.isnull().sum()"
      ],
      "execution_count": null,
      "outputs": [
        {
          "output_type": "execute_result",
          "data": {
            "text/plain": [
              "App               0\n",
              "Category          0\n",
              "Rating            0\n",
              "Reviews           0\n",
              "Size              0\n",
              "Installs          0\n",
              "Type              0\n",
              "Price             0\n",
              "Content Rating    0\n",
              "Genres            0\n",
              "Last Updated      0\n",
              "Current Ver       0\n",
              "Android Ver       0\n",
              "dtype: int64"
            ]
          },
          "metadata": {},
          "execution_count": 13
        }
      ]
    },
    {
      "cell_type": "code",
      "metadata": {
        "id": "Cv3h6ugOOskD",
        "colab": {
          "base_uri": "https://localhost:8080/"
        },
        "outputId": "d88f6224-d2e2-4915-ecd0-462778186992"
      },
      "source": [
        "playstore.shape"
      ],
      "execution_count": null,
      "outputs": [
        {
          "output_type": "execute_result",
          "data": {
            "text/plain": [
              "(10829, 13)"
            ]
          },
          "metadata": {},
          "execution_count": 14
        }
      ]
    },
    {
      "cell_type": "markdown",
      "metadata": {
        "id": "JfTa4e9iO-w0"
      },
      "source": [
        "## 2.2 Data Transformation"
      ]
    },
    {
      "cell_type": "code",
      "metadata": {
        "id": "6ska60T-PFqj",
        "colab": {
          "base_uri": "https://localhost:8080/"
        },
        "outputId": "4a555c31-36a4-4a0e-bb61-fc9b8f6310ae"
      },
      "source": [
        "#Dropping unnecessary columns/attributes from the data\n",
        "\n",
        "playstore.drop(labels= ['Last Updated', 'Current Ver', 'Android Ver', 'App', 'Content Rating', 'Genres'], axis = 1, inplace= True)\n",
        "playstore.info()\n",
        "\n"
      ],
      "execution_count": null,
      "outputs": [
        {
          "output_type": "stream",
          "name": "stdout",
          "text": [
            "<class 'pandas.core.frame.DataFrame'>\n",
            "Int64Index: 10829 entries, 0 to 10840\n",
            "Data columns (total 7 columns):\n",
            " #   Column    Non-Null Count  Dtype  \n",
            "---  ------    --------------  -----  \n",
            " 0   Category  10829 non-null  object \n",
            " 1   Rating    10829 non-null  float64\n",
            " 2   Reviews   10829 non-null  object \n",
            " 3   Size      10829 non-null  object \n",
            " 4   Installs  10829 non-null  object \n",
            " 5   Type      10829 non-null  object \n",
            " 6   Price     10829 non-null  object \n",
            "dtypes: float64(1), object(6)\n",
            "memory usage: 676.8+ KB\n"
          ]
        }
      ]
    },
    {
      "cell_type": "code",
      "metadata": {
        "id": "1LIVCLAdXWvZ",
        "colab": {
          "base_uri": "https://localhost:8080/"
        },
        "outputId": "0321357c-3604-42fa-a1b6-2eec86bc2efa"
      },
      "source": [
        "#Converting attributes values to Numeric\n",
        "\n",
        "#For Reviews Column\n",
        "playstore ['Reviews'] = pd.to_numeric(playstore['Reviews'])\n",
        "\n",
        "#For Size Column\n",
        "playstore ['Size'] = playstore['Size'].apply(lambda x: str(x).replace('M','') if 'M' in str(x) else x)\n",
        "playstore ['Size'] = playstore['Size'].apply(lambda x: str(x).replace('Varies with device','nan') if 'Varies with device' in str(x) else x)\n",
        "\n",
        "playstore ['Size'] = playstore['Size'].apply(lambda x: float(str(x).replace('k',''))/1000 if 'k' in str(x) else x)\n",
        "playstore ['Size'] = playstore['Size'].apply(lambda x: float(x))\n",
        "playstore = playstore[pd.notnull(playstore['Size'])]\n",
        "\n",
        "#for Installs Column\n",
        "playstore ['Installs'] = playstore['Installs'].apply(lambda x: str(x).replace('+','') if '+' in str(x) else x)\n",
        "playstore ['Installs'] = playstore['Installs'].apply(lambda x: str(x).replace(',','') if ',' in str(x) else x)\n",
        "playstore ['Installs'] = playstore['Installs'].apply(lambda x: int(x))\n",
        "\n",
        "#for Type Column (Conerting to Binary)\n",
        "def type_cat(Types_bin):\n",
        "  if Types_bin == 'Free':\n",
        "    return 0\n",
        "  else:\n",
        "    return 1\n",
        "playstore['Type'] = playstore['Type'].map(type_cat)\n",
        "\n",
        "\n",
        "#for Price Column\n",
        "playstore ['Price'] = playstore['Price'].apply(lambda x: str(x).replace('$','') if '$' in str(x) else x)\n",
        "playstore ['Price'] = playstore['Price'].apply(lambda x: float(x))\n",
        "\n",
        "\n",
        "#For Category Column\n",
        "Str_Category = playstore[\"Category\"].unique()\n",
        "lenStr_Category = len(Str_Category)\n",
        "values_Category = {}\n",
        "for i in range (0, lenStr_Category):\n",
        "    values_Category[Str_Category[i]] = i\n",
        "playstore['Category_2'] = playstore['Category'].map(values_Category).astype(int)\n",
        "\n",
        "##For Category Column (Label Encoding)\n",
        "playstore_dummies = pd.get_dummies(playstore, columns=['Category'])"
      ],
      "execution_count": null,
      "outputs": [
        {
          "output_type": "stream",
          "name": "stderr",
          "text": [
            "/usr/local/lib/python3.7/dist-packages/ipykernel_launcher.py:15: SettingWithCopyWarning: \n",
            "A value is trying to be set on a copy of a slice from a DataFrame.\n",
            "Try using .loc[row_indexer,col_indexer] = value instead\n",
            "\n",
            "See the caveats in the documentation: https://pandas.pydata.org/pandas-docs/stable/user_guide/indexing.html#returning-a-view-versus-a-copy\n",
            "  from ipykernel import kernelapp as app\n",
            "/usr/local/lib/python3.7/dist-packages/ipykernel_launcher.py:16: SettingWithCopyWarning: \n",
            "A value is trying to be set on a copy of a slice from a DataFrame.\n",
            "Try using .loc[row_indexer,col_indexer] = value instead\n",
            "\n",
            "See the caveats in the documentation: https://pandas.pydata.org/pandas-docs/stable/user_guide/indexing.html#returning-a-view-versus-a-copy\n",
            "  app.launch_new_instance()\n",
            "/usr/local/lib/python3.7/dist-packages/ipykernel_launcher.py:17: SettingWithCopyWarning: \n",
            "A value is trying to be set on a copy of a slice from a DataFrame.\n",
            "Try using .loc[row_indexer,col_indexer] = value instead\n",
            "\n",
            "See the caveats in the documentation: https://pandas.pydata.org/pandas-docs/stable/user_guide/indexing.html#returning-a-view-versus-a-copy\n",
            "/usr/local/lib/python3.7/dist-packages/ipykernel_launcher.py:25: SettingWithCopyWarning: \n",
            "A value is trying to be set on a copy of a slice from a DataFrame.\n",
            "Try using .loc[row_indexer,col_indexer] = value instead\n",
            "\n",
            "See the caveats in the documentation: https://pandas.pydata.org/pandas-docs/stable/user_guide/indexing.html#returning-a-view-versus-a-copy\n",
            "/usr/local/lib/python3.7/dist-packages/ipykernel_launcher.py:29: SettingWithCopyWarning: \n",
            "A value is trying to be set on a copy of a slice from a DataFrame.\n",
            "Try using .loc[row_indexer,col_indexer] = value instead\n",
            "\n",
            "See the caveats in the documentation: https://pandas.pydata.org/pandas-docs/stable/user_guide/indexing.html#returning-a-view-versus-a-copy\n",
            "/usr/local/lib/python3.7/dist-packages/ipykernel_launcher.py:30: SettingWithCopyWarning: \n",
            "A value is trying to be set on a copy of a slice from a DataFrame.\n",
            "Try using .loc[row_indexer,col_indexer] = value instead\n",
            "\n",
            "See the caveats in the documentation: https://pandas.pydata.org/pandas-docs/stable/user_guide/indexing.html#returning-a-view-versus-a-copy\n",
            "/usr/local/lib/python3.7/dist-packages/ipykernel_launcher.py:39: SettingWithCopyWarning: \n",
            "A value is trying to be set on a copy of a slice from a DataFrame.\n",
            "Try using .loc[row_indexer,col_indexer] = value instead\n",
            "\n",
            "See the caveats in the documentation: https://pandas.pydata.org/pandas-docs/stable/user_guide/indexing.html#returning-a-view-versus-a-copy\n"
          ]
        }
      ]
    },
    {
      "cell_type": "code",
      "metadata": {
        "id": "HISvyKrtoL5b",
        "colab": {
          "base_uri": "https://localhost:8080/"
        },
        "outputId": "3dbde77e-4262-4683-f2cc-182b86012ced"
      },
      "source": [
        "playstore.info()\n"
      ],
      "execution_count": null,
      "outputs": [
        {
          "output_type": "stream",
          "name": "stdout",
          "text": [
            "<class 'pandas.core.frame.DataFrame'>\n",
            "Int64Index: 9135 entries, 0 to 10840\n",
            "Data columns (total 8 columns):\n",
            " #   Column      Non-Null Count  Dtype  \n",
            "---  ------      --------------  -----  \n",
            " 0   Category    9135 non-null   object \n",
            " 1   Rating      9135 non-null   float64\n",
            " 2   Reviews     9135 non-null   int64  \n",
            " 3   Size        9135 non-null   float64\n",
            " 4   Installs    9135 non-null   int64  \n",
            " 5   Type        9135 non-null   int64  \n",
            " 6   Price       9135 non-null   float64\n",
            " 7   Category_2  9135 non-null   int64  \n",
            "dtypes: float64(3), int64(4), object(1)\n",
            "memory usage: 642.3+ KB\n"
          ]
        }
      ]
    },
    {
      "cell_type": "code",
      "metadata": {
        "id": "yJ9EEI2mpErT",
        "colab": {
          "base_uri": "https://localhost:8080/"
        },
        "outputId": "542b25fa-7496-4169-f58e-954c1c28d927"
      },
      "source": [
        "playstore.head()"
      ],
      "execution_count": null,
      "outputs": [
        {
          "output_type": "execute_result",
          "data": {
            "text/html": [
              "<div>\n",
              "<style scoped>\n",
              "    .dataframe tbody tr th:only-of-type {\n",
              "        vertical-align: middle;\n",
              "    }\n",
              "\n",
              "    .dataframe tbody tr th {\n",
              "        vertical-align: top;\n",
              "    }\n",
              "\n",
              "    .dataframe thead th {\n",
              "        text-align: right;\n",
              "    }\n",
              "</style>\n",
              "<table border=\"1\" class=\"dataframe\">\n",
              "  <thead>\n",
              "    <tr style=\"text-align: right;\">\n",
              "      <th></th>\n",
              "      <th>Category</th>\n",
              "      <th>Rating</th>\n",
              "      <th>Reviews</th>\n",
              "      <th>Size</th>\n",
              "      <th>Installs</th>\n",
              "      <th>Type</th>\n",
              "      <th>Price</th>\n",
              "      <th>Category_2</th>\n",
              "    </tr>\n",
              "  </thead>\n",
              "  <tbody>\n",
              "    <tr>\n",
              "      <th>0</th>\n",
              "      <td>ART_AND_DESIGN</td>\n",
              "      <td>4.1</td>\n",
              "      <td>159</td>\n",
              "      <td>19.0</td>\n",
              "      <td>10000</td>\n",
              "      <td>0</td>\n",
              "      <td>0.0</td>\n",
              "      <td>0</td>\n",
              "    </tr>\n",
              "    <tr>\n",
              "      <th>1</th>\n",
              "      <td>ART_AND_DESIGN</td>\n",
              "      <td>3.9</td>\n",
              "      <td>967</td>\n",
              "      <td>14.0</td>\n",
              "      <td>500000</td>\n",
              "      <td>0</td>\n",
              "      <td>0.0</td>\n",
              "      <td>0</td>\n",
              "    </tr>\n",
              "    <tr>\n",
              "      <th>2</th>\n",
              "      <td>ART_AND_DESIGN</td>\n",
              "      <td>4.7</td>\n",
              "      <td>87510</td>\n",
              "      <td>8.7</td>\n",
              "      <td>5000000</td>\n",
              "      <td>0</td>\n",
              "      <td>0.0</td>\n",
              "      <td>0</td>\n",
              "    </tr>\n",
              "    <tr>\n",
              "      <th>3</th>\n",
              "      <td>ART_AND_DESIGN</td>\n",
              "      <td>4.5</td>\n",
              "      <td>215644</td>\n",
              "      <td>25.0</td>\n",
              "      <td>50000000</td>\n",
              "      <td>0</td>\n",
              "      <td>0.0</td>\n",
              "      <td>0</td>\n",
              "    </tr>\n",
              "    <tr>\n",
              "      <th>4</th>\n",
              "      <td>ART_AND_DESIGN</td>\n",
              "      <td>4.3</td>\n",
              "      <td>967</td>\n",
              "      <td>2.8</td>\n",
              "      <td>100000</td>\n",
              "      <td>0</td>\n",
              "      <td>0.0</td>\n",
              "      <td>0</td>\n",
              "    </tr>\n",
              "  </tbody>\n",
              "</table>\n",
              "</div>"
            ],
            "text/plain": [
              "         Category  Rating  Reviews  Size  Installs  Type  Price  Category_2\n",
              "0  ART_AND_DESIGN     4.1      159  19.0     10000     0    0.0           0\n",
              "1  ART_AND_DESIGN     3.9      967  14.0    500000     0    0.0           0\n",
              "2  ART_AND_DESIGN     4.7    87510   8.7   5000000     0    0.0           0\n",
              "3  ART_AND_DESIGN     4.5   215644  25.0  50000000     0    0.0           0\n",
              "4  ART_AND_DESIGN     4.3      967   2.8    100000     0    0.0           0"
            ]
          },
          "metadata": {},
          "execution_count": 18
        }
      ]
    },
    {
      "cell_type": "code",
      "metadata": {
        "id": "NwoG_orjqNYM",
        "colab": {
          "base_uri": "https://localhost:8080/"
        },
        "outputId": "494b9ccf-5095-4047-e988-920a7c1f8f74"
      },
      "source": [
        "playstore_dummies.head()"
      ],
      "execution_count": null,
      "outputs": [
        {
          "output_type": "execute_result",
          "data": {
            "text/html": [
              "<div>\n",
              "<style scoped>\n",
              "    .dataframe tbody tr th:only-of-type {\n",
              "        vertical-align: middle;\n",
              "    }\n",
              "\n",
              "    .dataframe tbody tr th {\n",
              "        vertical-align: top;\n",
              "    }\n",
              "\n",
              "    .dataframe thead th {\n",
              "        text-align: right;\n",
              "    }\n",
              "</style>\n",
              "<table border=\"1\" class=\"dataframe\">\n",
              "  <thead>\n",
              "    <tr style=\"text-align: right;\">\n",
              "      <th></th>\n",
              "      <th>Rating</th>\n",
              "      <th>Reviews</th>\n",
              "      <th>Size</th>\n",
              "      <th>Installs</th>\n",
              "      <th>Type</th>\n",
              "      <th>Price</th>\n",
              "      <th>Category_2</th>\n",
              "      <th>Category_ART_AND_DESIGN</th>\n",
              "      <th>Category_AUTO_AND_VEHICLES</th>\n",
              "      <th>Category_BEAUTY</th>\n",
              "      <th>Category_BOOKS_AND_REFERENCE</th>\n",
              "      <th>Category_BUSINESS</th>\n",
              "      <th>Category_COMICS</th>\n",
              "      <th>Category_COMMUNICATION</th>\n",
              "      <th>Category_DATING</th>\n",
              "      <th>Category_EDUCATION</th>\n",
              "      <th>Category_ENTERTAINMENT</th>\n",
              "      <th>Category_EVENTS</th>\n",
              "      <th>Category_FAMILY</th>\n",
              "      <th>Category_FINANCE</th>\n",
              "      <th>Category_FOOD_AND_DRINK</th>\n",
              "      <th>Category_GAME</th>\n",
              "      <th>Category_HEALTH_AND_FITNESS</th>\n",
              "      <th>Category_HOUSE_AND_HOME</th>\n",
              "      <th>Category_LIBRARIES_AND_DEMO</th>\n",
              "      <th>Category_LIFESTYLE</th>\n",
              "      <th>Category_MAPS_AND_NAVIGATION</th>\n",
              "      <th>Category_MEDICAL</th>\n",
              "      <th>Category_NEWS_AND_MAGAZINES</th>\n",
              "      <th>Category_PARENTING</th>\n",
              "      <th>Category_PERSONALIZATION</th>\n",
              "      <th>Category_PHOTOGRAPHY</th>\n",
              "      <th>Category_PRODUCTIVITY</th>\n",
              "      <th>Category_SHOPPING</th>\n",
              "      <th>Category_SOCIAL</th>\n",
              "      <th>Category_SPORTS</th>\n",
              "      <th>Category_TOOLS</th>\n",
              "      <th>Category_TRAVEL_AND_LOCAL</th>\n",
              "      <th>Category_VIDEO_PLAYERS</th>\n",
              "      <th>Category_WEATHER</th>\n",
              "    </tr>\n",
              "  </thead>\n",
              "  <tbody>\n",
              "    <tr>\n",
              "      <th>0</th>\n",
              "      <td>4.1</td>\n",
              "      <td>159</td>\n",
              "      <td>19.0</td>\n",
              "      <td>10000</td>\n",
              "      <td>0</td>\n",
              "      <td>0.0</td>\n",
              "      <td>0</td>\n",
              "      <td>1</td>\n",
              "      <td>0</td>\n",
              "      <td>0</td>\n",
              "      <td>0</td>\n",
              "      <td>0</td>\n",
              "      <td>0</td>\n",
              "      <td>0</td>\n",
              "      <td>0</td>\n",
              "      <td>0</td>\n",
              "      <td>0</td>\n",
              "      <td>0</td>\n",
              "      <td>0</td>\n",
              "      <td>0</td>\n",
              "      <td>0</td>\n",
              "      <td>0</td>\n",
              "      <td>0</td>\n",
              "      <td>0</td>\n",
              "      <td>0</td>\n",
              "      <td>0</td>\n",
              "      <td>0</td>\n",
              "      <td>0</td>\n",
              "      <td>0</td>\n",
              "      <td>0</td>\n",
              "      <td>0</td>\n",
              "      <td>0</td>\n",
              "      <td>0</td>\n",
              "      <td>0</td>\n",
              "      <td>0</td>\n",
              "      <td>0</td>\n",
              "      <td>0</td>\n",
              "      <td>0</td>\n",
              "      <td>0</td>\n",
              "      <td>0</td>\n",
              "    </tr>\n",
              "    <tr>\n",
              "      <th>1</th>\n",
              "      <td>3.9</td>\n",
              "      <td>967</td>\n",
              "      <td>14.0</td>\n",
              "      <td>500000</td>\n",
              "      <td>0</td>\n",
              "      <td>0.0</td>\n",
              "      <td>0</td>\n",
              "      <td>1</td>\n",
              "      <td>0</td>\n",
              "      <td>0</td>\n",
              "      <td>0</td>\n",
              "      <td>0</td>\n",
              "      <td>0</td>\n",
              "      <td>0</td>\n",
              "      <td>0</td>\n",
              "      <td>0</td>\n",
              "      <td>0</td>\n",
              "      <td>0</td>\n",
              "      <td>0</td>\n",
              "      <td>0</td>\n",
              "      <td>0</td>\n",
              "      <td>0</td>\n",
              "      <td>0</td>\n",
              "      <td>0</td>\n",
              "      <td>0</td>\n",
              "      <td>0</td>\n",
              "      <td>0</td>\n",
              "      <td>0</td>\n",
              "      <td>0</td>\n",
              "      <td>0</td>\n",
              "      <td>0</td>\n",
              "      <td>0</td>\n",
              "      <td>0</td>\n",
              "      <td>0</td>\n",
              "      <td>0</td>\n",
              "      <td>0</td>\n",
              "      <td>0</td>\n",
              "      <td>0</td>\n",
              "      <td>0</td>\n",
              "      <td>0</td>\n",
              "    </tr>\n",
              "    <tr>\n",
              "      <th>2</th>\n",
              "      <td>4.7</td>\n",
              "      <td>87510</td>\n",
              "      <td>8.7</td>\n",
              "      <td>5000000</td>\n",
              "      <td>0</td>\n",
              "      <td>0.0</td>\n",
              "      <td>0</td>\n",
              "      <td>1</td>\n",
              "      <td>0</td>\n",
              "      <td>0</td>\n",
              "      <td>0</td>\n",
              "      <td>0</td>\n",
              "      <td>0</td>\n",
              "      <td>0</td>\n",
              "      <td>0</td>\n",
              "      <td>0</td>\n",
              "      <td>0</td>\n",
              "      <td>0</td>\n",
              "      <td>0</td>\n",
              "      <td>0</td>\n",
              "      <td>0</td>\n",
              "      <td>0</td>\n",
              "      <td>0</td>\n",
              "      <td>0</td>\n",
              "      <td>0</td>\n",
              "      <td>0</td>\n",
              "      <td>0</td>\n",
              "      <td>0</td>\n",
              "      <td>0</td>\n",
              "      <td>0</td>\n",
              "      <td>0</td>\n",
              "      <td>0</td>\n",
              "      <td>0</td>\n",
              "      <td>0</td>\n",
              "      <td>0</td>\n",
              "      <td>0</td>\n",
              "      <td>0</td>\n",
              "      <td>0</td>\n",
              "      <td>0</td>\n",
              "      <td>0</td>\n",
              "    </tr>\n",
              "    <tr>\n",
              "      <th>3</th>\n",
              "      <td>4.5</td>\n",
              "      <td>215644</td>\n",
              "      <td>25.0</td>\n",
              "      <td>50000000</td>\n",
              "      <td>0</td>\n",
              "      <td>0.0</td>\n",
              "      <td>0</td>\n",
              "      <td>1</td>\n",
              "      <td>0</td>\n",
              "      <td>0</td>\n",
              "      <td>0</td>\n",
              "      <td>0</td>\n",
              "      <td>0</td>\n",
              "      <td>0</td>\n",
              "      <td>0</td>\n",
              "      <td>0</td>\n",
              "      <td>0</td>\n",
              "      <td>0</td>\n",
              "      <td>0</td>\n",
              "      <td>0</td>\n",
              "      <td>0</td>\n",
              "      <td>0</td>\n",
              "      <td>0</td>\n",
              "      <td>0</td>\n",
              "      <td>0</td>\n",
              "      <td>0</td>\n",
              "      <td>0</td>\n",
              "      <td>0</td>\n",
              "      <td>0</td>\n",
              "      <td>0</td>\n",
              "      <td>0</td>\n",
              "      <td>0</td>\n",
              "      <td>0</td>\n",
              "      <td>0</td>\n",
              "      <td>0</td>\n",
              "      <td>0</td>\n",
              "      <td>0</td>\n",
              "      <td>0</td>\n",
              "      <td>0</td>\n",
              "      <td>0</td>\n",
              "    </tr>\n",
              "    <tr>\n",
              "      <th>4</th>\n",
              "      <td>4.3</td>\n",
              "      <td>967</td>\n",
              "      <td>2.8</td>\n",
              "      <td>100000</td>\n",
              "      <td>0</td>\n",
              "      <td>0.0</td>\n",
              "      <td>0</td>\n",
              "      <td>1</td>\n",
              "      <td>0</td>\n",
              "      <td>0</td>\n",
              "      <td>0</td>\n",
              "      <td>0</td>\n",
              "      <td>0</td>\n",
              "      <td>0</td>\n",
              "      <td>0</td>\n",
              "      <td>0</td>\n",
              "      <td>0</td>\n",
              "      <td>0</td>\n",
              "      <td>0</td>\n",
              "      <td>0</td>\n",
              "      <td>0</td>\n",
              "      <td>0</td>\n",
              "      <td>0</td>\n",
              "      <td>0</td>\n",
              "      <td>0</td>\n",
              "      <td>0</td>\n",
              "      <td>0</td>\n",
              "      <td>0</td>\n",
              "      <td>0</td>\n",
              "      <td>0</td>\n",
              "      <td>0</td>\n",
              "      <td>0</td>\n",
              "      <td>0</td>\n",
              "      <td>0</td>\n",
              "      <td>0</td>\n",
              "      <td>0</td>\n",
              "      <td>0</td>\n",
              "      <td>0</td>\n",
              "      <td>0</td>\n",
              "      <td>0</td>\n",
              "    </tr>\n",
              "  </tbody>\n",
              "</table>\n",
              "</div>"
            ],
            "text/plain": [
              "   Rating  Reviews  ...  Category_VIDEO_PLAYERS  Category_WEATHER\n",
              "0     4.1      159  ...                       0                 0\n",
              "1     3.9      967  ...                       0                 0\n",
              "2     4.7    87510  ...                       0                 0\n",
              "3     4.5   215644  ...                       0                 0\n",
              "4     4.3      967  ...                       0                 0\n",
              "\n",
              "[5 rows x 40 columns]"
            ]
          },
          "metadata": {},
          "execution_count": 19
        }
      ]
    },
    {
      "cell_type": "code",
      "metadata": {
        "id": "RYEpn69ci0h2",
        "colab": {
          "base_uri": "https://localhost:8080/"
        },
        "outputId": "cd37cd5f-f7ba-4092-fa17-2a84305cbe4c"
      },
      "source": [
        "playstore.describe()"
      ],
      "execution_count": null,
      "outputs": [
        {
          "output_type": "execute_result",
          "data": {
            "text/html": [
              "<div>\n",
              "<style scoped>\n",
              "    .dataframe tbody tr th:only-of-type {\n",
              "        vertical-align: middle;\n",
              "    }\n",
              "\n",
              "    .dataframe tbody tr th {\n",
              "        vertical-align: top;\n",
              "    }\n",
              "\n",
              "    .dataframe thead th {\n",
              "        text-align: right;\n",
              "    }\n",
              "</style>\n",
              "<table border=\"1\" class=\"dataframe\">\n",
              "  <thead>\n",
              "    <tr style=\"text-align: right;\">\n",
              "      <th></th>\n",
              "      <th>Rating</th>\n",
              "      <th>Reviews</th>\n",
              "      <th>Size</th>\n",
              "      <th>Installs</th>\n",
              "      <th>Type</th>\n",
              "      <th>Price</th>\n",
              "      <th>Category_2</th>\n",
              "    </tr>\n",
              "  </thead>\n",
              "  <tbody>\n",
              "    <tr>\n",
              "      <th>count</th>\n",
              "      <td>9135.000000</td>\n",
              "      <td>9.135000e+03</td>\n",
              "      <td>9135.000000</td>\n",
              "      <td>9.135000e+03</td>\n",
              "      <td>9135.000000</td>\n",
              "      <td>9135.000000</td>\n",
              "      <td>9135.000000</td>\n",
              "    </tr>\n",
              "    <tr>\n",
              "      <th>mean</th>\n",
              "      <td>4.176690</td>\n",
              "      <td>2.493186e+05</td>\n",
              "      <td>21.534957</td>\n",
              "      <td>7.122458e+06</td>\n",
              "      <td>0.078927</td>\n",
              "      <td>1.185283</td>\n",
              "      <td>17.610728</td>\n",
              "    </tr>\n",
              "    <tr>\n",
              "      <th>std</th>\n",
              "      <td>0.500816</td>\n",
              "      <td>1.717130e+06</td>\n",
              "      <td>22.593662</td>\n",
              "      <td>4.621827e+07</td>\n",
              "      <td>0.269640</td>\n",
              "      <td>17.365220</td>\n",
              "      <td>7.342431</td>\n",
              "    </tr>\n",
              "    <tr>\n",
              "      <th>min</th>\n",
              "      <td>1.000000</td>\n",
              "      <td>0.000000e+00</td>\n",
              "      <td>0.008500</td>\n",
              "      <td>0.000000e+00</td>\n",
              "      <td>0.000000</td>\n",
              "      <td>0.000000</td>\n",
              "      <td>0.000000</td>\n",
              "    </tr>\n",
              "    <tr>\n",
              "      <th>25%</th>\n",
              "      <td>4.100000</td>\n",
              "      <td>2.200000e+01</td>\n",
              "      <td>4.900000</td>\n",
              "      <td>1.000000e+03</td>\n",
              "      <td>0.000000</td>\n",
              "      <td>0.000000</td>\n",
              "      <td>14.000000</td>\n",
              "    </tr>\n",
              "    <tr>\n",
              "      <th>50%</th>\n",
              "      <td>4.200000</td>\n",
              "      <td>7.420000e+02</td>\n",
              "      <td>13.000000</td>\n",
              "      <td>1.000000e+05</td>\n",
              "      <td>0.000000</td>\n",
              "      <td>0.000000</td>\n",
              "      <td>18.000000</td>\n",
              "    </tr>\n",
              "    <tr>\n",
              "      <th>75%</th>\n",
              "      <td>4.500000</td>\n",
              "      <td>2.516900e+04</td>\n",
              "      <td>30.000000</td>\n",
              "      <td>1.000000e+06</td>\n",
              "      <td>0.000000</td>\n",
              "      <td>0.000000</td>\n",
              "      <td>23.000000</td>\n",
              "    </tr>\n",
              "    <tr>\n",
              "      <th>max</th>\n",
              "      <td>5.000000</td>\n",
              "      <td>4.489389e+07</td>\n",
              "      <td>100.000000</td>\n",
              "      <td>1.000000e+09</td>\n",
              "      <td>1.000000</td>\n",
              "      <td>400.000000</td>\n",
              "      <td>32.000000</td>\n",
              "    </tr>\n",
              "  </tbody>\n",
              "</table>\n",
              "</div>"
            ],
            "text/plain": [
              "            Rating       Reviews  ...        Price   Category_2\n",
              "count  9135.000000  9.135000e+03  ...  9135.000000  9135.000000\n",
              "mean      4.176690  2.493186e+05  ...     1.185283    17.610728\n",
              "std       0.500816  1.717130e+06  ...    17.365220     7.342431\n",
              "min       1.000000  0.000000e+00  ...     0.000000     0.000000\n",
              "25%       4.100000  2.200000e+01  ...     0.000000    14.000000\n",
              "50%       4.200000  7.420000e+02  ...     0.000000    18.000000\n",
              "75%       4.500000  2.516900e+04  ...     0.000000    23.000000\n",
              "max       5.000000  4.489389e+07  ...   400.000000    32.000000\n",
              "\n",
              "[8 rows x 7 columns]"
            ]
          },
          "metadata": {},
          "execution_count": 20
        }
      ]
    },
    {
      "cell_type": "markdown",
      "metadata": {
        "id": "CXmLwj8ly-1C"
      },
      "source": [
        "# 3.0 Data Visualization"
      ]
    },
    {
      "cell_type": "code",
      "metadata": {
        "colab": {
          "base_uri": "https://localhost:8080/"
        },
        "id": "8lOlticyzFlv",
        "outputId": "178ccc6f-f609-4b75-d317-35a91bac761c"
      },
      "source": [
        "group = playstore.groupby('Category')\n",
        "a = group['Installs'].agg(np.mean)\n",
        "b = group['Price'].agg(np.sum)\n",
        "c = group['Reviews'].agg(np.mean)\n",
        "print (a, b, c)"
      ],
      "execution_count": null,
      "outputs": [
        {
          "output_type": "stream",
          "name": "stdout",
          "text": [
            "Category\n",
            "ART_AND_DESIGN         1.628411e+06\n",
            "AUTO_AND_VEHICLES      5.836028e+05\n",
            "BEAUTY                 2.914245e+05\n",
            "BOOKS_AND_REFERENCE    7.140871e+05\n",
            "BUSINESS               1.340196e+06\n",
            "COMICS                 3.448265e+05\n",
            "COMMUNICATION          1.864884e+07\n",
            "DATING                 6.692491e+05\n",
            "EDUCATION              2.511730e+06\n",
            "ENTERTAINMENT          1.056622e+07\n",
            "EVENTS                 1.872307e+05\n",
            "FAMILY                 3.717186e+06\n",
            "FINANCE                1.032324e+06\n",
            "FOOD_AND_DRINK         1.776887e+06\n",
            "GAME                   2.943307e+07\n",
            "HEALTH_AND_FITNESS     3.289439e+06\n",
            "HOUSE_AND_HOME         1.104595e+06\n",
            "LIBRARIES_AND_DEMO     7.518014e+05\n",
            "LIFESTYLE              1.269046e+06\n",
            "MAPS_AND_NAVIGATION    1.620647e+06\n",
            "MEDICAL                1.072440e+05\n",
            "NEWS_AND_MAGAZINES     1.968521e+07\n",
            "PARENTING              4.439076e+05\n",
            "PERSONALIZATION        2.827674e+06\n",
            "PHOTOGRAPHY            1.007046e+07\n",
            "PRODUCTIVITY           9.050537e+06\n",
            "SHOPPING               7.483825e+06\n",
            "SOCIAL                 4.406023e+06\n",
            "SPORTS                 3.662217e+06\n",
            "TOOLS                  4.785068e+06\n",
            "TRAVEL_AND_LOCAL       1.857636e+06\n",
            "VIDEO_PLAYERS          6.808151e+06\n",
            "WEATHER                2.443860e+06\n",
            "Name: Installs, dtype: float64 Category\n",
            "ART_AND_DESIGN            5.97\n",
            "AUTO_AND_VEHICLES        11.48\n",
            "BEAUTY                    0.00\n",
            "BOOKS_AND_REFERENCE     116.78\n",
            "BUSINESS                172.28\n",
            "COMICS                    0.00\n",
            "COMMUNICATION            68.18\n",
            "DATING                   23.45\n",
            "EDUCATION                17.96\n",
            "ENTERTAINMENT             2.99\n",
            "EVENTS                  109.99\n",
            "FAMILY                 2379.92\n",
            "FINANCE                2900.83\n",
            "FOOD_AND_DRINK            4.99\n",
            "GAME                    279.34\n",
            "HEALTH_AND_FITNESS       56.38\n",
            "HOUSE_AND_HOME            0.00\n",
            "LIBRARIES_AND_DEMO        0.99\n",
            "LIFESTYLE              2353.39\n",
            "MAPS_AND_NAVIGATION      14.96\n",
            "MEDICAL                1391.07\n",
            "NEWS_AND_MAGAZINES        3.98\n",
            "PARENTING                 4.99\n",
            "PERSONALIZATION         142.51\n",
            "PHOTOGRAPHY             124.32\n",
            "PRODUCTIVITY            232.97\n",
            "SHOPPING                  5.48\n",
            "SOCIAL                   15.97\n",
            "SPORTS                   87.02\n",
            "TOOLS                   235.97\n",
            "TRAVEL_AND_LOCAL         38.97\n",
            "VIDEO_PLAYERS             0.99\n",
            "WEATHER                  23.44\n",
            "Name: Price, dtype: float64 Category\n",
            "ART_AND_DESIGN         1.782439e+04\n",
            "AUTO_AND_VEHICLES      1.323096e+04\n",
            "BEAUTY                 3.975660e+03\n",
            "BOOKS_AND_REFERENCE    2.068582e+04\n",
            "BUSINESS               1.536240e+04\n",
            "COMICS                 1.208224e+04\n",
            "COMMUNICATION          4.419043e+05\n",
            "DATING                 1.839861e+04\n",
            "EDUCATION              6.377884e+04\n",
            "ENTERTAINMENT          1.621530e+05\n",
            "EVENTS                 2.221912e+03\n",
            "FAMILY                 1.591540e+05\n",
            "FINANCE                3.381877e+04\n",
            "FOOD_AND_DRINK         4.287507e+04\n",
            "GAME                   1.330281e+06\n",
            "HEALTH_AND_FITNESS     3.817291e+04\n",
            "HOUSE_AND_HOME         2.418441e+04\n",
            "LIBRARIES_AND_DEMO     1.233731e+04\n",
            "LIFESTYLE              2.523556e+04\n",
            "MAPS_AND_NAVIGATION    3.394591e+04\n",
            "MEDICAL                3.279832e+03\n",
            "NEWS_AND_MAGAZINES     4.559378e+04\n",
            "PARENTING              1.638333e+04\n",
            "PERSONALIZATION        9.901074e+04\n",
            "PHOTOGRAPHY            3.029269e+05\n",
            "PRODUCTIVITY           1.438466e+05\n",
            "SHOPPING               2.337216e+05\n",
            "SOCIAL                 1.543188e+05\n",
            "SPORTS                 1.690429e+05\n",
            "TOOLS                  1.428451e+05\n",
            "TRAVEL_AND_LOCAL       4.020539e+04\n",
            "VIDEO_PLAYERS          1.836710e+05\n",
            "WEATHER                6.835140e+04\n",
            "Name: Reviews, dtype: float64\n"
          ]
        }
      ]
    },
    {
      "cell_type": "code",
      "metadata": {
        "colab": {
          "base_uri": "https://localhost:8080/"
        },
        "id": "OU26NdHAejcW",
        "outputId": "882af5ff-6f7d-45eb-dab4-eed4665aaa16"
      },
      "source": [
        "plt.figure(figsize=(18,6))\n",
        "plt.plot(a , 'o', color='y')\n",
        "plt.xticks(rotation=80)\n",
        "plt.title('Categories Vs Installs')\n",
        "plt.xlabel('Categories')\n",
        "plt.ylabel('Installs')\n",
        "plt.show()"
      ],
      "execution_count": null,
      "outputs": [
        {
          "output_type": "display_data",
          "data": {
            "image/png": "[encoded data removed]",
            "text/plain": [
              "<Figure size 1296x432 with 1 Axes>"
            ]
          },
          "metadata": {
            "needs_background": "light"
          }
        }
      ]
    },
    {
      "cell_type": "code",
      "metadata": {
        "id": "L86PAPknha14"
      },
      "source": [
        ""
      ],
      "execution_count": null,
      "outputs": []
    },
    {
      "cell_type": "code",
      "metadata": {
        "colab": {
          "base_uri": "https://localhost:8080/"
        },
        "id": "gf5oOq-ZgmO7",
        "outputId": "61b131c0-1810-4f3d-8230-1c541e5e7a32"
      },
      "source": [
        "plt.figure(figsize=(18,6))\n",
        "plt.plot(b , 'r--', color='b')\n",
        "plt.xticks(rotation=80)\n",
        "plt.title('Categories Vs Pricing')\n",
        "plt.xlabel('Categories')\n",
        "plt.ylabel('Pricing')\n",
        "plt.show()"
      ],
      "execution_count": null,
      "outputs": [
        {
          "output_type": "display_data",
          "data": {
            "image/png": "[encoded data removed]",
            "text/plain": [
              "<Figure size 1296x432 with 1 Axes>"
            ]
          },
          "metadata": {
            "needs_background": "light"
          }
        }
      ]
    },
    {
      "cell_type": "code",
      "metadata": {
        "colab": {
          "base_uri": "https://localhost:8080/"
        },
        "id": "87X_eDU5hcWY",
        "outputId": "4c5ca807-b537-4391-ebca-d0903d688a44"
      },
      "source": [
        "plt.figure(figsize=(18,6))\n",
        "plt.plot(c , 'r^')\n",
        "plt.xticks(rotation=80)\n",
        "plt.title('Categories Vs Reviews')\n",
        "plt.xlabel('Categories')\n",
        "plt.ylabel('Reviews')\n",
        "plt.show()"
      ],
      "execution_count": null,
      "outputs": [
        {
          "output_type": "display_data",
          "data": {
            "image/png": "[encoded data removed]",
            "text/plain": [
              "<Figure size 1296x432 with 1 Axes>"
            ]
          },
          "metadata": {
            "needs_background": "light"
          }
        }
      ]
    },
    {
      "cell_type": "code",
      "metadata": {
        "colab": {
          "base_uri": "https://localhost:8080/"
        },
        "id": "7YZg-5cijflQ",
        "outputId": "825a1b65-98f9-4174-9028-62eb285884dc"
      },
      "source": [
        "\n",
        "plt.figure(figsize=(28,15))\n",
        "playstore_matrix = playstore.copy()\n",
        "playstore_matrix.drop(labels= ['Category_2'], axis= 1, inplace = True) \n",
        "sns.heatmap(playstore_matrix.corr(), annot=True, cmap=sns.diverging_palette(240, 8, as_cmap=True))"
      ],
      "execution_count": null,
      "outputs": [
        {
          "output_type": "execute_result",
          "data": {
            "text/plain": [
              "<matplotlib.axes._subplots.AxesSubplot at 0x7fe3e8377110>"
            ]
          },
          "metadata": {},
          "execution_count": 25
        },
        {
          "output_type": "display_data",
          "data": {
            "image/png": "[encoded data removed]",
            "text/plain": [
              "<Figure size 2016x1080 with 2 Axes>"
            ]
          },
          "metadata": {
            "needs_background": "light"
          }
        }
      ]
    },
    {
      "cell_type": "code",
      "metadata": {
        "colab": {
          "base_uri": "https://localhost:8080/"
        },
        "id": "C8kUBoabqdkZ",
        "outputId": "fca09ed5-d5b2-4359-ea13-34a65db98ef9"
      },
      "source": [
        "\n",
        "\n",
        "sns.set(rc={'figure.figsize':(15,8)})\n",
        "sns.kdeplot(playstore.Rating, color='blue', shade=True)\n",
        "plt.xlabel('Rating')\n",
        "plt.ylabel('Frequency')\n",
        "plt.show()"
      ],
      "execution_count": null,
      "outputs": [
        {
          "output_type": "display_data",
          "data": {
            "image/png": "[encoded data removed]",
            "text/plain": [
              "<Figure size 1080x576 with 1 Axes>"
            ]
          },
          "metadata": {}
        }
      ]
    },
    {
      "cell_type": "markdown",
      "metadata": {
        "id": "7ZOHnYz1Bbjs"
      },
      "source": [
        "# 4.0 Data Mining Models"
      ]
    },
    {
      "cell_type": "markdown",
      "metadata": {
        "id": "km6Nj56uwbJE"
      },
      "source": [
        "### Creating Terms for Errors"
      ]
    },
    {
      "cell_type": "code",
      "metadata": {
        "id": "rd5NFE2Jwiml"
      },
      "source": [
        "def Evaluationmatrix (y_true, y_predict):\n",
        "  print ('MSE:'+ str(metrics.mean_squared_error(y_true, y_predict)))\n",
        "  print ('MAE:'+ str(metrics.mean_absolute_error(y_true, y_predict)))\n",
        "  print ('R2_score'+ str(metrics.r2_score(y_true, y_predict)))"
      ],
      "execution_count": null,
      "outputs": []
    },
    {
      "cell_type": "code",
      "metadata": {
        "id": "zM1KPLyYyNNp"
      },
      "source": [
        "def Evaluationmatrix_dict(y_true, y_predict, name = 'Linear Integer'):\n",
        "  matrix = {}\n",
        "  matrix['Model Name'] = name\n",
        "  matrix['MSE'] = metrics.mean_squared_error(y_true, y_predict)\n",
        "  matrix['MAE'] = metrics.mean_absolute_error(y_true, y_predict)\n",
        "  matrix['R2_score'] = metrics.r2_score(y_true, y_predict)\n",
        "\n",
        "  return matrix"
      ],
      "execution_count": null,
      "outputs": []
    },
    {
      "cell_type": "markdown",
      "metadata": {
        "id": "1WUjkMyWBqTz"
      },
      "source": [
        "## 4.1 Linear Regression"
      ]
    },
    {
      "cell_type": "code",
      "metadata": {
        "colab": {
          "base_uri": "https://localhost:8080/"
        },
        "id": "dg_zjcfdBtVs",
        "outputId": "794da925-522c-4850-984b-cb033bc7e696"
      },
      "source": [
        "#Label Encoding\n",
        "X = playstore.drop(labels= ['Category', 'Rating'], axis=1)\n",
        "y = playstore.Rating\n",
        "X_train, X_test, y_train, y_test = train_test_split(X, y, test_size=0.25, random_state=10)\n",
        "\n",
        "\n",
        "#Scalling the Data for this method\n",
        "from sklearn.preprocessing import StandardScaler\n",
        "scaler=StandardScaler()\n",
        "scaler.fit(X_train)\n",
        "X_train_scaled = scaler.transform(X_train)\n",
        "X_test_scaled = scaler.transform(X_test)\n",
        "\n",
        "###############################\n",
        "LR1= LinearRegression()\n",
        "LR1.fit(X_train_scaled, y_train)\n",
        "ResultLR = LR1.predict(X_test_scaled) \n",
        "\n",
        "MSElr = metrics.mean_squared_error(y_test, ResultLR)\n",
        "MAElr = metrics.mean_absolute_error(y_test, ResultLR)\n",
        "R2lr = metrics.r2_score(y_test, ResultLR)\n",
        "\n",
        "#EVALUATION\n",
        "playstore_result = pd.DataFrame()\n",
        "playstore_result = playstore_result.from_dict(Evaluationmatrix_dict(y_test, ResultLR, name = 'LR Label Encoding'), orient = \"index\")\n",
        "playstore_result = playstore_result.transpose()\n",
        "\n",
        "\n",
        "#Printing results\n",
        "\n",
        "print ('LR Label Encoding')\n",
        "print ('MSE:'+ str(MSElr))\n",
        "print ('MAE:'+ str(MAElr))\n",
        "print('R2_score: '+ str(R2lr))"
      ],
      "execution_count": null,
      "outputs": [
        {
          "output_type": "stream",
          "name": "stdout",
          "text": [
            "LR Label Encoding\n",
            "MSE:0.2368271860933913\n",
            "MAE:0.32845351074220397\n",
            "R2_score: 0.004920024739152762\n"
          ]
        }
      ]
    },
    {
      "cell_type": "code",
      "metadata": {
        "colab": {
          "base_uri": "https://localhost:8080/"
        },
        "id": "fr-odPMVChXR",
        "outputId": "89e202da-9546-4a36-f899-a3803f11e313"
      },
      "source": [
        "#Dummy Encoding\n",
        "X_l = playstore_dummies.drop(labels= ['Category_2', 'Rating'], axis=1)\n",
        "y_l = playstore_dummies.Rating\n",
        "X_train_l, X_test_l, y_train_l, y_test_l = train_test_split(X_l, y_l, test_size=0.25)\n",
        "\n",
        "LR2= LinearRegression()\n",
        "LR2.fit(X_train_l, y_train_l)\n",
        "ResultLR2 = LR2.predict(X_test_l) \n",
        "\n",
        "MSElr2 = metrics.mean_squared_error(y_test_l, ResultLR2)\n",
        "MAElr2 = metrics.mean_absolute_error(y_test_l, ResultLR2)\n",
        "R2lr2 = metrics.r2_score(y_test_l, ResultLR2)\n",
        "\n",
        "#EVALUATION\n",
        "\n",
        "playstore_result = playstore_result.append(Evaluationmatrix_dict(y_test_l, ResultLR2, name = 'LR Dummy Encoding'), ignore_index = True)\n",
        "\n",
        "\n",
        "\n",
        "#Printing results\n",
        "\n",
        "print ('LR Dummy Encoding')\n",
        "print ('MSE:'+ str(MSElr2))\n",
        "print ('MAE:'+ str(MAElr2))\n",
        "print('R2_score: '+ str(R2lr2))\n"
      ],
      "execution_count": null,
      "outputs": [
        {
          "output_type": "stream",
          "name": "stdout",
          "text": [
            "LR Dummy Encoding\n",
            "MSE:0.2609460689550145\n",
            "MAE:0.33649603835044245\n",
            "R2_score: 0.01682797978052042\n"
          ]
        }
      ]
    },
    {
      "cell_type": "markdown",
      "metadata": {
        "id": "9TcexSIlDBV4"
      },
      "source": [
        "## 4.2  Support Vector Machine"
      ]
    },
    {
      "cell_type": "code",
      "metadata": {
        "colab": {
          "base_uri": "https://localhost:8080/"
        },
        "id": "5XHovQmeDF2p",
        "outputId": "fb6a84d8-67b1-41cd-9b88-dffafc552a2e"
      },
      "source": [
        "#Label Encoding\n",
        "\n",
        "SVM1= svm.SVR()\n",
        "SVM1.fit(X_train_scaled , y_train)\n",
        "ResultSVM = SVM1.predict(X_test_scaled) \n",
        "\n",
        "MSEsvm = metrics.mean_squared_error(y_test, ResultSVM)\n",
        "MAEsvm = metrics.mean_absolute_error(y_test, ResultSVM)\n",
        "R2svm = metrics.r2_score(y_test, ResultSVM)\n",
        "\n",
        "#for Result\n",
        "\n",
        "playstore_result = playstore_result.append(Evaluationmatrix_dict(y_test,ResultSVM, name = 'SVM Label encoding'), ignore_index= True)\n",
        "\n",
        "#Printing results\n",
        "\n",
        "print ('SVM Label Encoding')\n",
        "print ('MSE:'+ str(MSEsvm))\n",
        "print ('MAE:'+ str(MAEsvm))\n",
        "print('R2_score: '+ str(R2svm))"
      ],
      "execution_count": null,
      "outputs": [
        {
          "output_type": "stream",
          "name": "stdout",
          "text": [
            "SVM Label Encoding\n",
            "MSE:0.23301288547463855\n",
            "MAE:0.3110592287116924\n",
            "R2_score: 0.020946622985559937\n"
          ]
        }
      ]
    },
    {
      "cell_type": "code",
      "metadata": {
        "colab": {
          "base_uri": "https://localhost:8080/"
        },
        "id": "3m6F7J7kEHbf",
        "outputId": "8c4daaaa-7963-429a-da06-4db30ba51d5e"
      },
      "source": [
        "#Dummy Encoding\n",
        "\n",
        "SVM2= svm.SVR()\n",
        "SVM2.fit(X_train_l, y_train_l)\n",
        "ResultSVM2 = SVM2.predict(X_test_l) \n",
        "\n",
        "MSEsvm2 = metrics.mean_squared_error(y_test_l, ResultSVM2)\n",
        "MAEsvm2 = metrics.mean_absolute_error(y_test_l, ResultSVM2)\n",
        "R2svm2 = metrics.r2_score(y_test_l, ResultSVM2)\n",
        "\n",
        "#EVALUATION\n",
        "\n",
        "playstore_result = playstore_result.append(Evaluationmatrix_dict(y_test_l, ResultSVM2, name = 'SVM Dummy encoding'), ignore_index = True)\n",
        "\n",
        "\n",
        "\n",
        "#Printing results\n",
        "\n",
        "print ('Dummy Encoding')\n",
        "print ('MSE:'+ str(MSEsvm2))\n",
        "print ('MAE:'+ str(MAEsvm2))\n",
        "print('R2_score: '+ str(R2svm2))"
      ],
      "execution_count": null,
      "outputs": [
        {
          "output_type": "stream",
          "name": "stdout",
          "text": [
            "Dummy Encoding\n",
            "MSE:0.2645142941349903\n",
            "MAE:0.3178791159532035\n",
            "R2_score: 0.0033839023401369683\n"
          ]
        }
      ]
    },
    {
      "cell_type": "markdown",
      "metadata": {
        "id": "ivClH-80EoGu"
      },
      "source": [
        "## 4.3 Random Forest Regression"
      ]
    },
    {
      "cell_type": "code",
      "metadata": {
        "colab": {
          "base_uri": "https://localhost:8080/"
        },
        "id": "Xq-BjZ25EoX0",
        "outputId": "57ced51f-7838-40cf-ce39-b70f07bd4a39"
      },
      "source": [
        "RF1= RandomForestRegressor()\n",
        "RF1.fit(X_train_scaled, y_train)\n",
        "ResultRF = RF1.predict(X_test_scaled) \n",
        "\n",
        "MSErf = metrics.mean_squared_error(y_test, ResultRF)\n",
        "MAErf = metrics.mean_absolute_error(y_test, ResultRF)\n",
        "R2rf = metrics.r2_score(y_test, ResultRF)\n",
        "\n",
        "#For result\n",
        "playstore_result = playstore_result.append(Evaluationmatrix_dict(y_test,ResultRF, name = 'RF Label encoding'), ignore_index= True)\n",
        "\n",
        "#Printing results\n",
        "\n",
        "print ('RF Label Encoding')\n",
        "print ('MSE:'+ str(MSErf))\n",
        "print ('MAE:'+ str(MAErf))\n",
        "print('R2_score:'+ str(R2rf))\n"
      ],
      "execution_count": null,
      "outputs": [
        {
          "output_type": "stream",
          "name": "stdout",
          "text": [
            "RF Label Encoding\n",
            "MSE:0.2159305525413634\n",
            "MAE:0.31263591836253907\n",
            "R2_score:0.09272169118207119\n"
          ]
        }
      ]
    },
    {
      "cell_type": "code",
      "metadata": {
        "colab": {
          "base_uri": "https://localhost:8080/"
        },
        "id": "y1s1EXH6ExoV",
        "outputId": "448aacb0-1912-40c2-a0ea-766e0ab3d387"
      },
      "source": [
        "RF2= RandomForestRegressor()\n",
        "RF2.fit(X_train_l, y_train_l)\n",
        "ResultRF2 = RF2.predict(X_test_l) \n",
        "\n",
        "MSErf2 = metrics.mean_squared_error(y_test_l, ResultRF2)\n",
        "MAErf2 = metrics.mean_absolute_error(y_test_l, ResultRF2)\n",
        "R2rf2 = metrics.r2_score(y_test_l, ResultRF2)\n",
        "\n",
        "#EVALUATION\n",
        "\n",
        "playstore_result = playstore_result.append(Evaluationmatrix_dict(y_test_l, ResultRF2, name = 'RF Dummy encoding'), ignore_index = True)\n",
        "\n",
        "#Printing results\n",
        "\n",
        "print ('RF Dummy Encoding')\n",
        "print ('MSE:'+ str(MSErf2))\n",
        "print ('MAE:'+ str(MAErf2))\n",
        "print('R2_score: '+ str(R2rf2))"
      ],
      "execution_count": null,
      "outputs": [
        {
          "output_type": "stream",
          "name": "stdout",
          "text": [
            "RF Dummy Encoding\n",
            "MSE:0.24689339666228144\n",
            "MAE:0.32148647260077623\n",
            "R2_score: 0.06977453024152958\n"
          ]
        }
      ]
    },
    {
      "cell_type": "markdown",
      "metadata": {
        "id": "e8aXirdAFGGb"
      },
      "source": [
        "## 4.4 KNN"
      ]
    },
    {
      "cell_type": "code",
      "metadata": {
        "colab": {
          "base_uri": "https://localhost:8080/"
        },
        "id": "hcX4LotVFJnz",
        "outputId": "1f03239a-0057-461f-a1cb-dbf04d6ad7c0"
      },
      "source": [
        " #Label Encoding\n",
        "from sklearn.neighbors import KNeighborsRegressor\n",
        "KNN1 = KNeighborsRegressor(n_neighbors = 15)\n",
        "KNN1.fit(X_train, y_train)\n",
        "Resultknn = KNN1.predict(X_test) \n",
        "\n",
        "MSEknn = metrics.mean_squared_error(y_test, Resultknn)\n",
        "MAEknn = metrics.mean_absolute_error(y_test, Resultknn)\n",
        "R2knn = metrics.r2_score(y_test, Resultknn)\n",
        "\n",
        "#For result\n",
        "playstore_result = playstore_result.append(Evaluationmatrix_dict(y_test,Resultknn, name = 'KNN Label encoding'), ignore_index= True)\n",
        "\n",
        "#Printing results\n",
        "\n",
        "print ('KNN Label Encoding')\n",
        "print ('MSE:'+ str(MSEknn))\n",
        "print ('MAE:'+ str(MAEknn))\n",
        "print('R2_score: '+ str(R2knn))"
      ],
      "execution_count": null,
      "outputs": [
        {
          "output_type": "stream",
          "name": "stdout",
          "text": [
            "KNN Label Encoding\n",
            "MSE:0.2231433192639146\n",
            "MAE:0.3281574434438185\n",
            "R2_score: 0.062415712167448345\n"
          ]
        }
      ]
    },
    {
      "cell_type": "code",
      "metadata": {
        "colab": {
          "base_uri": "https://localhost:8080/"
        },
        "id": "HkHsYfU1Fl-T",
        "outputId": "11c37b9d-aa80-4e9c-a13d-29a45b3375fe"
      },
      "source": [
        "KNN2 = KNeighborsRegressor(n_neighbors = 15)\n",
        "KNN2.fit(X_train_l, y_train_l)\n",
        "Resultknn2 = KNN2.predict(X_test_l) \n",
        "\n",
        "MSEknn2 = metrics.mean_squared_error(y_test_l, Resultknn2)\n",
        "MAEknn2 = metrics.mean_absolute_error(y_test_l, Resultknn2)\n",
        "R2knn2 = metrics.r2_score(y_test_l, Resultknn2)\n",
        "\n",
        "#EVALUATION\n",
        "\n",
        "playstore_result = playstore_result.append(Evaluationmatrix_dict(y_test_l, Resultknn2, name = 'KNN Dummy encoding'), ignore_index = True)\n",
        "\n",
        "\n",
        "\n",
        "#Printing results\n",
        "\n",
        "print ('KNN Dummy Encoding')\n",
        "print ('MSE:'+ str(MSEknn2))\n",
        "print ('MAE:'+ str(MAEknn2))\n",
        "print('R2_score: '+ str(R2knn2))"
      ],
      "execution_count": null,
      "outputs": [
        {
          "output_type": "stream",
          "name": "stdout",
          "text": [
            "KNN Dummy Encoding\n",
            "MSE:0.2536545983492341\n",
            "MAE:0.3340379487405789\n",
            "R2_score: 0.04430020771851595\n"
          ]
        }
      ]
    },
    {
      "cell_type": "markdown",
      "metadata": {
        "id": "p3uJM9VQGmhC"
      },
      "source": [
        "## 4.5 Neural Network (MLP Regressor)"
      ]
    },
    {
      "cell_type": "code",
      "metadata": {
        "colab": {
          "base_uri": "https://localhost:8080/"
        },
        "id": "TVvuhridGnZY",
        "outputId": "66109cd0-8ce3-4be4-9866-49c70b2fc4e6"
      },
      "source": [
        "DNN1= MLPRegressor(hidden_layer_sizes=(100,80),max_iter=50,random_state=1,activation='tanh')\n",
        "DNN1.fit(X_train, y_train)\n",
        "Resultdnn = DNN1.predict(X_test) \n",
        "\n",
        "MSEdnn = metrics.mean_squared_error(y_test, Resultdnn)\n",
        "MAEdnn = metrics.mean_absolute_error(y_test, Resultdnn)\n",
        "R2dnn = metrics.r2_score(y_test, Resultdnn)\n",
        "\n",
        "#for Result\n",
        "playstore_result = playstore_result.append(Evaluationmatrix_dict(y_test,Resultdnn, name = 'DNN Label encoding'), ignore_index= True)\n",
        "\n",
        "#Printing results\n",
        "\n",
        "print ('DNN Label Encoding')\n",
        "print ('MSE:'+ str(MSEdnn))\n",
        "print ('MAE:'+ str(MAEdnn))\n",
        "print('R2_score: '+ str(R2dnn))\n"
      ],
      "execution_count": null,
      "outputs": [
        {
          "output_type": "stream",
          "name": "stdout",
          "text": [
            "DNN Label Encoding\n",
            "MSE:0.23524889755697853\n",
            "MAE:0.33303285352401374\n",
            "R2_score: 0.011551540924751302\n"
          ]
        }
      ]
    },
    {
      "cell_type": "code",
      "metadata": {
        "colab": {
          "base_uri": "https://localhost:8080/"
        },
        "id": "jEFbdhu7HQUg",
        "outputId": "f5bac5ce-ff14-424c-9ecf-b6edfa858912"
      },
      "source": [
        "DNN2= MLPRegressor(hidden_layer_sizes=(100,80),max_iter=50,random_state=1,activation='tanh')\n",
        "DNN2.fit(X_train_l, y_train_l)\n",
        "Resultdnn2 = DNN2.predict(X_test_l) \n",
        "\n",
        "MSEdnn2 = metrics.mean_squared_error(y_test_l, Resultdnn2)\n",
        "MAEdnn2 = metrics.mean_absolute_error(y_test_l, Resultdnn2)\n",
        "R2dnn2 = metrics.r2_score(y_test_l, Resultdnn2)\n",
        "\n",
        "#EVALUATION\n",
        "\n",
        "playstore_result = playstore_result.append(Evaluationmatrix_dict(y_test_l, Resultdnn2, name = 'DNN Dummy encoding'), ignore_index = True)\n",
        "\n",
        "\n",
        "\n",
        "#Printing results\n",
        "\n",
        "print ('Dummy Encoding')\n",
        "print ('MSE:'+ str(MSEdnn2))\n",
        "print ('MAE:'+ str(MAEdnn2))\n",
        "print('R2_score'+ str(R2dnn2))"
      ],
      "execution_count": null,
      "outputs": [
        {
          "output_type": "stream",
          "name": "stdout",
          "text": [
            "Dummy Encoding\n",
            "MSE:0.2645057128072547\n",
            "MAE:0.33318912046423965\n",
            "R2_score0.003416234390049566\n"
          ]
        }
      ]
    },
    {
      "cell_type": "markdown",
      "metadata": {
        "id": "yAQBwDCpIbMP"
      },
      "source": [
        "## Comparison of Models"
      ]
    },
    {
      "cell_type": "code",
      "metadata": {
        "colab": {
          "base_uri": "https://localhost:8080/",
          "height": 559
        },
        "id": "t1fA2fT7IcA9",
        "outputId": "13d46e13-2ea4-4a11-fadd-17f1a36c5614"
      },
      "source": [
        "playstore_result.set_index('Model Name', inplace= True)\n",
        "\n",
        "plt.figure(figsize = (12,14))\n",
        "plt.subplot(4,2,2)\n",
        "playstore_result['MSE'].sort_values(ascending = False).plot(kind = 'barh', color=(0.3, 0.9, 0.9, 1), title= \"Mean Squared Error\")\n",
        "\n",
        "plt.subplot(3,1,2)\n",
        "playstore_result['R2_score'].sort_values(ascending = False).plot(kind = 'barh',color=(0.3, 0.9, 0.9, 1), title = 'R2_score')\n",
        "\n",
        "plt.show()"
      ],
      "execution_count": null,
      "outputs": [
        {
          "output_type": "display_data",
          "data": {
            "image/png": "[encoded data removed]",
            "text/plain": [
              "<Figure size 864x1008 with 2 Axes>"
            ]
          },
          "metadata": {}
        }
      ]
    },
    {
      "cell_type": "markdown",
      "metadata": {
        "id": "q0V5SpHkHdqi"
      },
      "source": [
        "#5.0 Keras Neural Network (KerasRegressor)"
      ]
    },
    {
      "cell_type": "code",
      "metadata": {
        "colab": {
          "base_uri": "https://localhost:8080/"
        },
        "id": "TbuhRYX_HfTe",
        "outputId": "66264f2f-b078-44bd-faf3-6c36749f5976"
      },
      "source": [
        "from keras.models import Sequential\n",
        "from keras.wrappers.scikit_learn import KerasRegressor\n",
        "from keras.layers import Dense\n",
        "from sklearn.model_selection import KFold\n",
        "from sklearn.pipeline import Pipeline\n",
        "from sklearn.model_selection import cross_val_score\n",
        "from sklearn.metrics import mean_squared_error, mean_absolute_error\n",
        "\n",
        "#Scalling the data by Standardize function\n",
        "\n",
        "from sklearn.preprocessing import StandardScaler\n",
        "Stdscaler=StandardScaler()\n",
        "Stdscaler.fit(X_train)\n",
        "\n",
        "Stdscaled_X_train = Stdscaler.transform(X_train)\n",
        "Stdscaled_X_test = Stdscaler.transform(X_test)\n",
        "\n",
        "#Experiments\n",
        "NNmodel = Sequential()\n",
        "NNmodel.add(Dense(128, input_dim=6, activation='relu'))\n",
        "NNmodel.add(Dense(64, activation='relu'))\n",
        "#Output layer\n",
        "NNmodel.add(Dense(1, activation='linear'))\n",
        "\n",
        "NNmodel.compile(loss='mean_squared_error', optimizer='adam', metrics=['mae'])\n",
        "NNmodel.summary()\n",
        "\n",
        "history = NNmodel.fit(Stdscaled_X_train, y_train, validation_split=0.25, epochs =100)\n",
        "\n",
        "\n",
        "############################################\n",
        "#Predict on test data\n",
        "predictions = NNmodel.predict(Stdscaled_X_test[:5])\n",
        "print(\"Predicted values are: \", predictions)\n",
        "print(\"Real values are: \", y_test[:5])\n",
        "##############################################\n",
        "\n",
        "#Comparison with other models..\n",
        "#Neural network - from the current code\n",
        "MSE_NN, MAE_NN = NNmodel.evaluate(Stdscaled_X_test, y_test)\n",
        "\n",
        "print(\"Neural Network with Label encoding\")\n",
        "print('MSE: ', MSE_NN)\n",
        "print('MAE: ', MAE_NN)"
      ],
      "execution_count": null,
      "outputs": [
        {
          "output_type": "stream",
          "name": "stdout",
          "text": [
            "Model: \"sequential\"\n",
            "_________________________________________________________________\n",
            " Layer (type)                Output Shape              Param #   \n",
            "=================================================================\n",
            " dense (Dense)               (None, 128)               896       \n",
            "                                                                 \n",
            " dense_1 (Dense)             (None, 64)                8256      \n",
            "                                                                 \n",
            " dense_2 (Dense)             (None, 1)                 65        \n",
            "                                                                 \n",
            "=================================================================\n",
            "Total params: 9,217\n",
            "Trainable params: 9,217\n",
            "Non-trainable params: 0\n",
            "_________________________________________________________________\n",
            "Epoch 1/100\n",
            "161/161 [==============================] - 1s 3ms/step - loss: 3.5676 - mae: 1.3648 - val_loss: 0.7486 - val_mae: 0.6190\n",
            "Epoch 2/100\n",
            "161/161 [==============================] - 0s 2ms/step - loss: 0.4702 - mae: 0.4912 - val_loss: 0.3485 - val_mae: 0.4080\n",
            "Epoch 3/100\n",
            "161/161 [==============================] - 0s 2ms/step - loss: 0.2994 - mae: 0.3743 - val_loss: 0.2775 - val_mae: 0.3572\n",
            "Epoch 4/100\n",
            "161/161 [==============================] - 0s 2ms/step - loss: 0.2658 - mae: 0.3500 - val_loss: 0.2693 - val_mae: 0.3497\n",
            "Epoch 5/100\n",
            "161/161 [==============================] - 0s 2ms/step - loss: 0.2563 - mae: 0.3395 - val_loss: 0.2584 - val_mae: 0.3426\n",
            "Epoch 6/100\n",
            "161/161 [==============================] - 0s 2ms/step - loss: 0.2539 - mae: 0.3397 - val_loss: 0.2574 - val_mae: 0.3343\n",
            "Epoch 7/100\n",
            "161/161 [==============================] - 0s 2ms/step - loss: 0.2524 - mae: 0.3390 - val_loss: 0.2709 - val_mae: 0.3413\n",
            "Epoch 8/100\n",
            "161/161 [==============================] - 0s 2ms/step - loss: 0.2514 - mae: 0.3358 - val_loss: 0.2572 - val_mae: 0.3464\n",
            "Epoch 9/100\n",
            "161/161 [==============================] - 0s 2ms/step - loss: 0.2477 - mae: 0.3337 - val_loss: 0.2626 - val_mae: 0.3252\n",
            "Epoch 10/100\n",
            "161/161 [==============================] - 0s 2ms/step - loss: 0.2494 - mae: 0.3365 - val_loss: 0.2671 - val_mae: 0.3396\n",
            "Epoch 11/100\n",
            "161/161 [==============================] - 0s 2ms/step - loss: 0.2520 - mae: 0.3363 - val_loss: 0.2908 - val_mae: 0.3982\n",
            "Epoch 12/100\n",
            "161/161 [==============================] - 0s 2ms/step - loss: 0.2676 - mae: 0.3515 - val_loss: 0.2788 - val_mae: 0.3421\n",
            "Epoch 13/100\n",
            "161/161 [==============================] - 0s 2ms/step - loss: 0.2547 - mae: 0.3398 - val_loss: 0.2568 - val_mae: 0.3439\n",
            "Epoch 14/100\n",
            "161/161 [==============================] - 0s 2ms/step - loss: 0.2504 - mae: 0.3382 - val_loss: 0.2929 - val_mae: 0.3510\n",
            "Epoch 15/100\n",
            "161/161 [==============================] - 0s 2ms/step - loss: 0.2522 - mae: 0.3372 - val_loss: 0.2565 - val_mae: 0.3423\n",
            "Epoch 16/100\n",
            "161/161 [==============================] - 0s 2ms/step - loss: 0.2525 - mae: 0.3376 - val_loss: 0.2616 - val_mae: 0.3547\n",
            "Epoch 17/100\n",
            "161/161 [==============================] - 0s 2ms/step - loss: 0.2541 - mae: 0.3396 - val_loss: 0.2690 - val_mae: 0.3331\n",
            "Epoch 18/100\n",
            "161/161 [==============================] - 0s 2ms/step - loss: 0.2558 - mae: 0.3431 - val_loss: 0.2700 - val_mae: 0.3328\n",
            "Epoch 19/100\n",
            "161/161 [==============================] - 0s 2ms/step - loss: 0.2609 - mae: 0.3403 - val_loss: 0.2541 - val_mae: 0.3282\n",
            "Epoch 20/100\n",
            "161/161 [==============================] - 0s 2ms/step - loss: 0.2510 - mae: 0.3374 - val_loss: 0.2691 - val_mae: 0.3340\n",
            "Epoch 21/100\n",
            "161/161 [==============================] - 0s 2ms/step - loss: 0.2505 - mae: 0.3352 - val_loss: 0.2607 - val_mae: 0.3597\n",
            "Epoch 22/100\n",
            "161/161 [==============================] - 0s 2ms/step - loss: 0.2476 - mae: 0.3360 - val_loss: 0.2598 - val_mae: 0.3323\n",
            "Epoch 23/100\n",
            "161/161 [==============================] - 0s 2ms/step - loss: 0.2576 - mae: 0.3410 - val_loss: 0.2565 - val_mae: 0.3347\n",
            "Epoch 24/100\n",
            "161/161 [==============================] - 0s 2ms/step - loss: 0.2520 - mae: 0.3416 - val_loss: 0.2532 - val_mae: 0.3428\n",
            "Epoch 25/100\n",
            "161/161 [==============================] - 0s 2ms/step - loss: 0.2514 - mae: 0.3389 - val_loss: 0.2623 - val_mae: 0.3456\n",
            "Epoch 26/100\n",
            "161/161 [==============================] - 0s 2ms/step - loss: 0.2521 - mae: 0.3405 - val_loss: 0.2652 - val_mae: 0.3321\n",
            "Epoch 27/100\n",
            "161/161 [==============================] - 0s 2ms/step - loss: 0.2470 - mae: 0.3333 - val_loss: 0.2626 - val_mae: 0.3331\n",
            "Epoch 28/100\n",
            "161/161 [==============================] - 0s 2ms/step - loss: 0.2506 - mae: 0.3390 - val_loss: 0.2558 - val_mae: 0.3284\n",
            "Epoch 29/100\n",
            "161/161 [==============================] - 0s 2ms/step - loss: 0.2535 - mae: 0.3410 - val_loss: 0.2558 - val_mae: 0.3288\n",
            "Epoch 30/100\n",
            "161/161 [==============================] - 0s 2ms/step - loss: 0.2474 - mae: 0.3348 - val_loss: 0.2588 - val_mae: 0.3455\n",
            "Epoch 31/100\n",
            "161/161 [==============================] - 0s 2ms/step - loss: 0.2509 - mae: 0.3384 - val_loss: 0.2569 - val_mae: 0.3347\n",
            "Epoch 32/100\n",
            "161/161 [==============================] - 0s 2ms/step - loss: 0.2511 - mae: 0.3392 - val_loss: 0.2633 - val_mae: 0.3341\n",
            "Epoch 33/100\n",
            "161/161 [==============================] - 0s 2ms/step - loss: 0.2548 - mae: 0.3389 - val_loss: 0.2547 - val_mae: 0.3478\n",
            "Epoch 34/100\n",
            "161/161 [==============================] - 0s 2ms/step - loss: 0.2493 - mae: 0.3367 - val_loss: 0.2678 - val_mae: 0.3345\n",
            "Epoch 35/100\n",
            "161/161 [==============================] - 0s 2ms/step - loss: 0.2477 - mae: 0.3324 - val_loss: 0.2562 - val_mae: 0.3441\n",
            "Epoch 36/100\n",
            "161/161 [==============================] - 0s 2ms/step - loss: 0.2538 - mae: 0.3439 - val_loss: 0.2599 - val_mae: 0.3265\n",
            "Epoch 37/100\n",
            "161/161 [==============================] - 0s 2ms/step - loss: 0.2484 - mae: 0.3359 - val_loss: 0.2531 - val_mae: 0.3333\n",
            "Epoch 38/100\n",
            "161/161 [==============================] - 0s 2ms/step - loss: 0.2500 - mae: 0.3357 - val_loss: 0.2543 - val_mae: 0.3295\n",
            "Epoch 39/100\n",
            "161/161 [==============================] - 0s 2ms/step - loss: 0.2487 - mae: 0.3365 - val_loss: 0.2531 - val_mae: 0.3349\n",
            "Epoch 40/100\n",
            "161/161 [==============================] - 0s 2ms/step - loss: 0.2479 - mae: 0.3357 - val_loss: 0.2602 - val_mae: 0.3624\n",
            "Epoch 41/100\n",
            "161/161 [==============================] - 0s 2ms/step - loss: 0.2482 - mae: 0.3358 - val_loss: 0.2584 - val_mae: 0.3503\n",
            "Epoch 42/100\n",
            "161/161 [==============================] - 0s 2ms/step - loss: 0.2475 - mae: 0.3348 - val_loss: 0.2579 - val_mae: 0.3317\n",
            "Epoch 43/100\n",
            "161/161 [==============================] - 0s 2ms/step - loss: 0.2471 - mae: 0.3354 - val_loss: 0.2522 - val_mae: 0.3378\n",
            "Epoch 44/100\n",
            "161/161 [==============================] - 0s 2ms/step - loss: 0.2477 - mae: 0.3349 - val_loss: 0.2581 - val_mae: 0.3420\n",
            "Epoch 45/100\n",
            "161/161 [==============================] - 0s 2ms/step - loss: 0.2469 - mae: 0.3343 - val_loss: 0.2507 - val_mae: 0.3362\n",
            "Epoch 46/100\n",
            "161/161 [==============================] - 0s 2ms/step - loss: 0.2498 - mae: 0.3349 - val_loss: 0.2505 - val_mae: 0.3312\n",
            "Epoch 47/100\n",
            "161/161 [==============================] - 0s 2ms/step - loss: 0.2463 - mae: 0.3326 - val_loss: 0.2509 - val_mae: 0.3392\n",
            "Epoch 48/100\n",
            "161/161 [==============================] - 0s 2ms/step - loss: 0.2471 - mae: 0.3351 - val_loss: 0.2518 - val_mae: 0.3340\n",
            "Epoch 49/100\n",
            "161/161 [==============================] - 0s 2ms/step - loss: 0.2493 - mae: 0.3364 - val_loss: 0.2604 - val_mae: 0.3612\n",
            "Epoch 50/100\n",
            "161/161 [==============================] - 0s 2ms/step - loss: 0.2479 - mae: 0.3378 - val_loss: 0.2550 - val_mae: 0.3444\n",
            "Epoch 51/100\n",
            "161/161 [==============================] - 0s 2ms/step - loss: 0.2565 - mae: 0.3421 - val_loss: 0.2630 - val_mae: 0.3529\n",
            "Epoch 52/100\n",
            "161/161 [==============================] - 0s 2ms/step - loss: 0.2470 - mae: 0.3336 - val_loss: 0.2605 - val_mae: 0.3630\n",
            "Epoch 53/100\n",
            "161/161 [==============================] - 0s 2ms/step - loss: 0.2482 - mae: 0.3366 - val_loss: 0.2556 - val_mae: 0.3423\n",
            "Epoch 54/100\n",
            "161/161 [==============================] - 0s 2ms/step - loss: 0.2487 - mae: 0.3378 - val_loss: 0.3078 - val_mae: 0.4020\n",
            "Epoch 55/100\n",
            "161/161 [==============================] - 0s 2ms/step - loss: 0.2509 - mae: 0.3374 - val_loss: 0.2519 - val_mae: 0.3253\n",
            "Epoch 56/100\n",
            "161/161 [==============================] - 0s 2ms/step - loss: 0.2452 - mae: 0.3330 - val_loss: 0.2511 - val_mae: 0.3388\n",
            "Epoch 57/100\n",
            "161/161 [==============================] - 0s 2ms/step - loss: 0.2474 - mae: 0.3345 - val_loss: 0.2553 - val_mae: 0.3237\n",
            "Epoch 58/100\n",
            "161/161 [==============================] - 0s 2ms/step - loss: 0.2460 - mae: 0.3322 - val_loss: 0.2532 - val_mae: 0.3369\n",
            "Epoch 59/100\n",
            "161/161 [==============================] - 0s 2ms/step - loss: 0.2463 - mae: 0.3336 - val_loss: 0.2536 - val_mae: 0.3238\n",
            "Epoch 60/100\n",
            "161/161 [==============================] - 0s 2ms/step - loss: 0.2503 - mae: 0.3374 - val_loss: 0.2531 - val_mae: 0.3354\n",
            "Epoch 61/100\n",
            "161/161 [==============================] - 0s 2ms/step - loss: 0.2471 - mae: 0.3351 - val_loss: 0.2625 - val_mae: 0.3708\n",
            "Epoch 62/100\n",
            "161/161 [==============================] - 0s 2ms/step - loss: 0.2434 - mae: 0.3309 - val_loss: 0.2504 - val_mae: 0.3351\n",
            "Epoch 63/100\n",
            "161/161 [==============================] - 0s 2ms/step - loss: 0.2438 - mae: 0.3300 - val_loss: 0.2559 - val_mae: 0.3417\n",
            "Epoch 64/100\n",
            "161/161 [==============================] - 0s 2ms/step - loss: 0.2453 - mae: 0.3330 - val_loss: 0.2547 - val_mae: 0.3287\n",
            "Epoch 65/100\n",
            "161/161 [==============================] - 0s 2ms/step - loss: 0.2451 - mae: 0.3323 - val_loss: 0.2540 - val_mae: 0.3504\n",
            "Epoch 66/100\n",
            "161/161 [==============================] - 0s 2ms/step - loss: 0.2441 - mae: 0.3313 - val_loss: 0.2534 - val_mae: 0.3389\n",
            "Epoch 67/100\n",
            "161/161 [==============================] - 0s 2ms/step - loss: 0.2457 - mae: 0.3323 - val_loss: 0.2552 - val_mae: 0.3550\n",
            "Epoch 68/100\n",
            "161/161 [==============================] - 0s 2ms/step - loss: 0.2455 - mae: 0.3333 - val_loss: 0.2543 - val_mae: 0.3303\n",
            "Epoch 69/100\n",
            "161/161 [==============================] - 0s 3ms/step - loss: 0.2466 - mae: 0.3344 - val_loss: 0.2509 - val_mae: 0.3429\n",
            "Epoch 70/100\n",
            "161/161 [==============================] - 0s 2ms/step - loss: 0.2449 - mae: 0.3309 - val_loss: 0.2596 - val_mae: 0.3646\n",
            "Epoch 71/100\n",
            "161/161 [==============================] - 0s 2ms/step - loss: 0.2469 - mae: 0.3348 - val_loss: 0.2663 - val_mae: 0.3773\n",
            "Epoch 72/100\n",
            "161/161 [==============================] - 0s 2ms/step - loss: 0.2446 - mae: 0.3315 - val_loss: 0.2515 - val_mae: 0.3215\n",
            "Epoch 73/100\n",
            "161/161 [==============================] - 0s 2ms/step - loss: 0.2422 - mae: 0.3290 - val_loss: 0.2568 - val_mae: 0.3590\n",
            "Epoch 74/100\n",
            "161/161 [==============================] - 0s 2ms/step - loss: 0.2440 - mae: 0.3332 - val_loss: 0.2578 - val_mae: 0.3477\n",
            "Epoch 75/100\n",
            "161/161 [==============================] - 0s 2ms/step - loss: 0.2506 - mae: 0.3395 - val_loss: 0.2614 - val_mae: 0.3700\n",
            "Epoch 76/100\n",
            "161/161 [==============================] - 0s 2ms/step - loss: 0.2508 - mae: 0.3377 - val_loss: 0.2546 - val_mae: 0.3493\n",
            "Epoch 77/100\n",
            "161/161 [==============================] - 0s 2ms/step - loss: 0.2473 - mae: 0.3341 - val_loss: 0.2553 - val_mae: 0.3506\n",
            "Epoch 78/100\n",
            "161/161 [==============================] - 0s 2ms/step - loss: 0.2486 - mae: 0.3380 - val_loss: 0.2639 - val_mae: 0.3377\n",
            "Epoch 79/100\n",
            "161/161 [==============================] - 0s 2ms/step - loss: 0.2462 - mae: 0.3342 - val_loss: 0.2522 - val_mae: 0.3306\n",
            "Epoch 80/100\n",
            "161/161 [==============================] - 0s 2ms/step - loss: 0.2457 - mae: 0.3337 - val_loss: 0.2573 - val_mae: 0.3594\n",
            "Epoch 81/100\n",
            "161/161 [==============================] - 0s 2ms/step - loss: 0.2481 - mae: 0.3349 - val_loss: 0.2534 - val_mae: 0.3233\n",
            "Epoch 82/100\n",
            "161/161 [==============================] - 0s 2ms/step - loss: 0.2423 - mae: 0.3292 - val_loss: 0.2532 - val_mae: 0.3224\n",
            "Epoch 83/100\n",
            "161/161 [==============================] - 0s 2ms/step - loss: 0.2453 - mae: 0.3325 - val_loss: 0.2500 - val_mae: 0.3417\n",
            "Epoch 84/100\n",
            "161/161 [==============================] - 0s 2ms/step - loss: 0.2439 - mae: 0.3304 - val_loss: 0.2517 - val_mae: 0.3205\n",
            "Epoch 85/100\n",
            "161/161 [==============================] - 0s 2ms/step - loss: 0.2466 - mae: 0.3328 - val_loss: 0.2515 - val_mae: 0.3482\n",
            "Epoch 86/100\n",
            "161/161 [==============================] - 0s 2ms/step - loss: 0.2438 - mae: 0.3318 - val_loss: 0.2566 - val_mae: 0.3558\n",
            "Epoch 87/100\n",
            "161/161 [==============================] - 0s 3ms/step - loss: 0.2458 - mae: 0.3333 - val_loss: 0.2549 - val_mae: 0.3438\n",
            "Epoch 88/100\n",
            "161/161 [==============================] - 0s 2ms/step - loss: 0.2439 - mae: 0.3326 - val_loss: 0.2608 - val_mae: 0.3350\n",
            "Epoch 89/100\n",
            "161/161 [==============================] - 0s 2ms/step - loss: 0.2474 - mae: 0.3324 - val_loss: 0.2514 - val_mae: 0.3395\n",
            "Epoch 90/100\n",
            "161/161 [==============================] - 0s 2ms/step - loss: 0.2435 - mae: 0.3326 - val_loss: 0.2618 - val_mae: 0.3701\n",
            "Epoch 91/100\n",
            "161/161 [==============================] - 0s 2ms/step - loss: 0.2457 - mae: 0.3343 - val_loss: 0.2499 - val_mae: 0.3377\n",
            "Epoch 92/100\n",
            "161/161 [==============================] - 0s 2ms/step - loss: 0.2453 - mae: 0.3328 - val_loss: 0.2547 - val_mae: 0.3209\n",
            "Epoch 93/100\n",
            "161/161 [==============================] - 0s 2ms/step - loss: 0.2440 - mae: 0.3311 - val_loss: 0.2518 - val_mae: 0.3238\n",
            "Epoch 94/100\n",
            "161/161 [==============================] - 0s 2ms/step - loss: 0.2434 - mae: 0.3292 - val_loss: 0.2518 - val_mae: 0.3327\n",
            "Epoch 95/100\n",
            "161/161 [==============================] - 0s 2ms/step - loss: 0.2449 - mae: 0.3323 - val_loss: 0.2542 - val_mae: 0.3534\n",
            "Epoch 96/100\n",
            "161/161 [==============================] - 0s 2ms/step - loss: 0.2472 - mae: 0.3345 - val_loss: 0.2577 - val_mae: 0.3630\n",
            "Epoch 97/100\n",
            "161/161 [==============================] - 0s 2ms/step - loss: 0.2432 - mae: 0.3320 - val_loss: 0.2683 - val_mae: 0.3421\n",
            "Epoch 98/100\n",
            "161/161 [==============================] - 0s 2ms/step - loss: 0.2449 - mae: 0.3324 - val_loss: 0.2571 - val_mae: 0.3234\n",
            "Epoch 99/100\n",
            "161/161 [==============================] - 0s 2ms/step - loss: 0.2421 - mae: 0.3281 - val_loss: 0.2511 - val_mae: 0.3304\n",
            "Epoch 100/100\n",
            "161/161 [==============================] - 0s 2ms/step - loss: 0.2445 - mae: 0.3333 - val_loss: 0.2486 - val_mae: 0.3332\n",
            "Predicted values are:  [[4.527678 ]\n",
            " [4.1714797]\n",
            " [4.19989  ]\n",
            " [4.198901 ]\n",
            " [4.1289554]]\n",
            "Real values are:  4886    4.200000\n",
            "9400    4.400000\n",
            "8989    4.000000\n",
            "9483    4.400000\n",
            "1024    4.191757\n",
            "Name: Rating, dtype: float64\n",
            "72/72 [==============================] - 0s 1ms/step - loss: 0.2328 - mae: 0.3300\n",
            "Neural Network with Label encoding\n",
            "MSE:  0.23283137381076813\n",
            "MAE:  0.33004575967788696\n"
          ]
        }
      ]
    }
  ]
}