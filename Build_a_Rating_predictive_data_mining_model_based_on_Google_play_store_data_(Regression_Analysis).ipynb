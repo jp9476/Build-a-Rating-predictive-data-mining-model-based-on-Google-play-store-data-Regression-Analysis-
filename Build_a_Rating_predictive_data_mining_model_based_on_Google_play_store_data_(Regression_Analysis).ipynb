{
  "nbformat": 4,
  "nbformat_minor": 0,
  "metadata": {
    "colab": {
      "name": "Build a Rating predictive data mining model based on Google play store data (Regression Analysis).ipynb",
      "provenance": []
    },
    "kernelspec": {
      "name": "python3",
      "display_name": "Python 3"
    },
    "language_info": {
      "name": "python"
    }
  },
  "cells": [
    {
      "cell_type": "markdown",
      "metadata": {
        "id": "rVzUp4JEF_Q3"
      },
      "source": [
        "# Jay Patel\n",
        "## Final Project"
      ]
    },
    {
      "cell_type": "markdown",
      "metadata": {
        "id": "u79jC0tdPKwW"
      },
      "source": [
        "# 1.0 Introduction and Importing data/libraries"
      ]
    },
    {
      "cell_type": "code",
      "metadata": {
        "colab": {
          "base_uri": "https://localhost:8080/",
          "height": 366
        },
        "id": "ShLD2lU7GVaE",
        "outputId": "a0bd4502-eb57-4b38-d708-ae3d26fd9ffb"
      },
      "source": [
        "#importing required libraries and uploading Data file\n",
        "\n",
        "import numpy as np\n",
        "import pandas as pd\n",
        "import seaborn as sns\n",
        "import matplotlib.pyplot as plt \n",
        "import random\n",
        "from google.colab import files \n",
        "upload = files.upload()"
      ],
      "execution_count": null,
      "outputs": [
        {
          "output_type": "display_data",
          "data": {
            "text/html": [
              "\n",
              "     <input type=\"file\" id=\"files-78b6b44c-f433-4686-8021-03195f769954\" name=\"files[]\" multiple disabled\n",
              "        style=\"border:none\" />\n",
              "     <output id=\"result-78b6b44c-f433-4686-8021-03195f769954\">\n",
              "      Upload widget is only available when the cell has been executed in the\n",
              "      current browser session. Please rerun this cell to enable.\n",
              "      </output>\n",
              "      <script src=\"/nbextensions/google.colab/files.js\"></script> "
            ],
            "text/plain": [
              "<IPython.core.display.HTML object>"
            ]
          },
          "metadata": {}
        },
        {
          "output_type": "error",
          "ename": "MessageError",
          "evalue": "ignored",
          "traceback": [
            "\u001b[0;31m---------------------------------------------------------------------------\u001b[0m",
            "\u001b[0;31mMessageError\u001b[0m                              Traceback (most recent call last)",
            "\u001b[0;32m<ipython-input-2-d2f46c6dac80>\u001b[0m in \u001b[0;36m<module>\u001b[0;34m()\u001b[0m\n\u001b[1;32m      7\u001b[0m \u001b[0;32mimport\u001b[0m \u001b[0mrandom\u001b[0m\u001b[0;34m\u001b[0m\u001b[0;34m\u001b[0m\u001b[0m\n\u001b[1;32m      8\u001b[0m \u001b[0;32mfrom\u001b[0m \u001b[0mgoogle\u001b[0m\u001b[0;34m.\u001b[0m\u001b[0mcolab\u001b[0m \u001b[0;32mimport\u001b[0m \u001b[0mfiles\u001b[0m\u001b[0;34m\u001b[0m\u001b[0;34m\u001b[0m\u001b[0m\n\u001b[0;32m----> 9\u001b[0;31m \u001b[0mupload\u001b[0m \u001b[0;34m=\u001b[0m \u001b[0mfiles\u001b[0m\u001b[0;34m.\u001b[0m\u001b[0mupload\u001b[0m\u001b[0;34m(\u001b[0m\u001b[0;34m)\u001b[0m\u001b[0;34m\u001b[0m\u001b[0;34m\u001b[0m\u001b[0m\n\u001b[0m",
            "\u001b[0;32m/usr/local/lib/python3.7/dist-packages/google/colab/files.py\u001b[0m in \u001b[0;36mupload\u001b[0;34m()\u001b[0m\n\u001b[1;32m     61\u001b[0m   result = _output.eval_js(\n\u001b[1;32m     62\u001b[0m       'google.colab._files._uploadFiles(\"{input_id}\", \"{output_id}\")'.format(\n\u001b[0;32m---> 63\u001b[0;31m           input_id=input_id, output_id=output_id))\n\u001b[0m\u001b[1;32m     64\u001b[0m   \u001b[0mfiles\u001b[0m \u001b[0;34m=\u001b[0m \u001b[0m_collections\u001b[0m\u001b[0;34m.\u001b[0m\u001b[0mdefaultdict\u001b[0m\u001b[0;34m(\u001b[0m\u001b[0m_six\u001b[0m\u001b[0;34m.\u001b[0m\u001b[0mbinary_type\u001b[0m\u001b[0;34m)\u001b[0m\u001b[0;34m\u001b[0m\u001b[0;34m\u001b[0m\u001b[0m\n\u001b[1;32m     65\u001b[0m   \u001b[0;31m# Mapping from original filename to filename as saved locally.\u001b[0m\u001b[0;34m\u001b[0m\u001b[0;34m\u001b[0m\u001b[0;34m\u001b[0m\u001b[0m\n",
            "\u001b[0;32m/usr/local/lib/python3.7/dist-packages/google/colab/output/_js.py\u001b[0m in \u001b[0;36meval_js\u001b[0;34m(script, ignore_result, timeout_sec)\u001b[0m\n\u001b[1;32m     38\u001b[0m   \u001b[0;32mif\u001b[0m \u001b[0mignore_result\u001b[0m\u001b[0;34m:\u001b[0m\u001b[0;34m\u001b[0m\u001b[0;34m\u001b[0m\u001b[0m\n\u001b[1;32m     39\u001b[0m     \u001b[0;32mreturn\u001b[0m\u001b[0;34m\u001b[0m\u001b[0;34m\u001b[0m\u001b[0m\n\u001b[0;32m---> 40\u001b[0;31m   \u001b[0;32mreturn\u001b[0m \u001b[0m_message\u001b[0m\u001b[0;34m.\u001b[0m\u001b[0mread_reply_from_input\u001b[0m\u001b[0;34m(\u001b[0m\u001b[0mrequest_id\u001b[0m\u001b[0;34m,\u001b[0m \u001b[0mtimeout_sec\u001b[0m\u001b[0;34m)\u001b[0m\u001b[0;34m\u001b[0m\u001b[0;34m\u001b[0m\u001b[0m\n\u001b[0m\u001b[1;32m     41\u001b[0m \u001b[0;34m\u001b[0m\u001b[0m\n\u001b[1;32m     42\u001b[0m \u001b[0;34m\u001b[0m\u001b[0m\n",
            "\u001b[0;32m/usr/local/lib/python3.7/dist-packages/google/colab/_message.py\u001b[0m in \u001b[0;36mread_reply_from_input\u001b[0;34m(message_id, timeout_sec)\u001b[0m\n\u001b[1;32m    104\u001b[0m         reply.get('colab_msg_id') == message_id):\n\u001b[1;32m    105\u001b[0m       \u001b[0;32mif\u001b[0m \u001b[0;34m'error'\u001b[0m \u001b[0;32min\u001b[0m \u001b[0mreply\u001b[0m\u001b[0;34m:\u001b[0m\u001b[0;34m\u001b[0m\u001b[0;34m\u001b[0m\u001b[0m\n\u001b[0;32m--> 106\u001b[0;31m         \u001b[0;32mraise\u001b[0m \u001b[0mMessageError\u001b[0m\u001b[0;34m(\u001b[0m\u001b[0mreply\u001b[0m\u001b[0;34m[\u001b[0m\u001b[0;34m'error'\u001b[0m\u001b[0;34m]\u001b[0m\u001b[0;34m)\u001b[0m\u001b[0;34m\u001b[0m\u001b[0;34m\u001b[0m\u001b[0m\n\u001b[0m\u001b[1;32m    107\u001b[0m       \u001b[0;32mreturn\u001b[0m \u001b[0mreply\u001b[0m\u001b[0;34m.\u001b[0m\u001b[0mget\u001b[0m\u001b[0;34m(\u001b[0m\u001b[0;34m'data'\u001b[0m\u001b[0;34m,\u001b[0m \u001b[0;32mNone\u001b[0m\u001b[0;34m)\u001b[0m\u001b[0;34m\u001b[0m\u001b[0;34m\u001b[0m\u001b[0m\n\u001b[1;32m    108\u001b[0m \u001b[0;34m\u001b[0m\u001b[0m\n",
            "\u001b[0;31mMessageError\u001b[0m: TypeError: Cannot read properties of undefined (reading '_uploadFiles')"
          ]
        }
      ]
    },
    {
      "cell_type": "code",
      "metadata": {
        "colab": {
          "base_uri": "https://localhost:8080/",
          "height": 206
        },
        "id": "kK4lcMcwHN90",
        "outputId": "27eada77-9e0e-4390-8351-edfc788ba8f1"
      },
      "source": [
        "#importing required libraries and reading the data file\n",
        "\n",
        "playstore = pd.read_csv ('googleplaystore - Copy (2).csv')\n",
        "\n",
        "from sklearn.model_selection import train_test_split\n",
        "from sklearn import svm\n",
        "from sklearn import metrics\n",
        "from sklearn.linear_model import LinearRegression\n",
        "from sklearn.ensemble import RandomForestRegressor\n",
        "from sklearn.neural_network import MLPRegressor\n",
        "playstore.head ()\n",
        "\n",
        "\n"
      ],
      "execution_count": null,
      "outputs": [
        {
          "output_type": "execute_result",
          "data": {
            "text/html": [
              "<div>\n",
              "<style scoped>\n",
              "    .dataframe tbody tr th:only-of-type {\n",
              "        vertical-align: middle;\n",
              "    }\n",
              "\n",
              "    .dataframe tbody tr th {\n",
              "        vertical-align: top;\n",
              "    }\n",
              "\n",
              "    .dataframe thead th {\n",
              "        text-align: right;\n",
              "    }\n",
              "</style>\n",
              "<table border=\"1\" class=\"dataframe\">\n",
              "  <thead>\n",
              "    <tr style=\"text-align: right;\">\n",
              "      <th></th>\n",
              "      <th>App</th>\n",
              "      <th>Category</th>\n",
              "      <th>Rating</th>\n",
              "      <th>Reviews</th>\n",
              "      <th>Size</th>\n",
              "      <th>Installs</th>\n",
              "      <th>Type</th>\n",
              "      <th>Price</th>\n",
              "      <th>Content Rating</th>\n",
              "      <th>Genres</th>\n",
              "      <th>Last Updated</th>\n",
              "      <th>Current Ver</th>\n",
              "      <th>Android Ver</th>\n",
              "    </tr>\n",
              "  </thead>\n",
              "  <tbody>\n",
              "    <tr>\n",
              "      <th>0</th>\n",
              "      <td>Photo Editor &amp; Candy Camera &amp; Grid &amp; ScrapBook</td>\n",
              "      <td>ART_AND_DESIGN</td>\n",
              "      <td>4.1</td>\n",
              "      <td>159</td>\n",
              "      <td>19M</td>\n",
              "      <td>10,000+</td>\n",
              "      <td>Free</td>\n",
              "      <td>0</td>\n",
              "      <td>Everyone</td>\n",
              "      <td>Art &amp; Design</td>\n",
              "      <td>January 7, 2018</td>\n",
              "      <td>1.0.0</td>\n",
              "      <td>4.0.3 and up</td>\n",
              "    </tr>\n",
              "    <tr>\n",
              "      <th>1</th>\n",
              "      <td>Coloring book moana</td>\n",
              "      <td>ART_AND_DESIGN</td>\n",
              "      <td>3.9</td>\n",
              "      <td>967</td>\n",
              "      <td>14M</td>\n",
              "      <td>500,000+</td>\n",
              "      <td>Free</td>\n",
              "      <td>0</td>\n",
              "      <td>Everyone</td>\n",
              "      <td>Art &amp; Design;Pretend Play</td>\n",
              "      <td>January 15, 2018</td>\n",
              "      <td>2.0.0</td>\n",
              "      <td>4.0.3 and up</td>\n",
              "    </tr>\n",
              "    <tr>\n",
              "      <th>2</th>\n",
              "      <td>U Launcher Lite – FREE Live Cool Themes, Hide ...</td>\n",
              "      <td>ART_AND_DESIGN</td>\n",
              "      <td>4.7</td>\n",
              "      <td>87510</td>\n",
              "      <td>8.7M</td>\n",
              "      <td>5,000,000+</td>\n",
              "      <td>Free</td>\n",
              "      <td>0</td>\n",
              "      <td>Everyone</td>\n",
              "      <td>Art &amp; Design</td>\n",
              "      <td>August 1, 2018</td>\n",
              "      <td>1.2.4</td>\n",
              "      <td>4.0.3 and up</td>\n",
              "    </tr>\n",
              "    <tr>\n",
              "      <th>3</th>\n",
              "      <td>Sketch - Draw &amp; Paint</td>\n",
              "      <td>ART_AND_DESIGN</td>\n",
              "      <td>4.5</td>\n",
              "      <td>215644</td>\n",
              "      <td>25M</td>\n",
              "      <td>50,000,000+</td>\n",
              "      <td>Free</td>\n",
              "      <td>0</td>\n",
              "      <td>Teen</td>\n",
              "      <td>Art &amp; Design</td>\n",
              "      <td>June 8, 2018</td>\n",
              "      <td>Varies with device</td>\n",
              "      <td>4.2 and up</td>\n",
              "    </tr>\n",
              "    <tr>\n",
              "      <th>4</th>\n",
              "      <td>Pixel Draw - Number Art Coloring Book</td>\n",
              "      <td>ART_AND_DESIGN</td>\n",
              "      <td>4.3</td>\n",
              "      <td>967</td>\n",
              "      <td>2.8M</td>\n",
              "      <td>100,000+</td>\n",
              "      <td>Free</td>\n",
              "      <td>0</td>\n",
              "      <td>Everyone</td>\n",
              "      <td>Art &amp; Design;Creativity</td>\n",
              "      <td>June 20, 2018</td>\n",
              "      <td>1.1</td>\n",
              "      <td>4.4 and up</td>\n",
              "    </tr>\n",
              "  </tbody>\n",
              "</table>\n",
              "</div>"
            ],
            "text/plain": [
              "                                                 App  ...   Android Ver\n",
              "0     Photo Editor & Candy Camera & Grid & ScrapBook  ...  4.0.3 and up\n",
              "1                                Coloring book moana  ...  4.0.3 and up\n",
              "2  U Launcher Lite – FREE Live Cool Themes, Hide ...  ...  4.0.3 and up\n",
              "3                              Sketch - Draw & Paint  ...    4.2 and up\n",
              "4              Pixel Draw - Number Art Coloring Book  ...    4.4 and up\n",
              "\n",
              "[5 rows x 13 columns]"
            ]
          },
          "metadata": {},
          "execution_count": 5
        }
      ]
    },
    {
      "cell_type": "code",
      "metadata": {
        "colab": {
          "base_uri": "https://localhost:8080/"
        },
        "id": "WdwggXNcIx-I",
        "outputId": "11843c28-4a75-4b33-f98b-74d58d093ad3"
      },
      "source": [
        "#To see the data type\n",
        "playstore.info()"
      ],
      "execution_count": null,
      "outputs": [
        {
          "output_type": "stream",
          "name": "stdout",
          "text": [
            "<class 'pandas.core.frame.DataFrame'>\n",
            "RangeIndex: 10841 entries, 0 to 10840\n",
            "Data columns (total 13 columns):\n",
            " #   Column          Non-Null Count  Dtype  \n",
            "---  ------          --------------  -----  \n",
            " 0   App             10841 non-null  object \n",
            " 1   Category        10841 non-null  object \n",
            " 2   Rating          9367 non-null   float64\n",
            " 3   Reviews         10841 non-null  object \n",
            " 4   Size            10841 non-null  object \n",
            " 5   Installs        10841 non-null  object \n",
            " 6   Type            10840 non-null  object \n",
            " 7   Price           10841 non-null  object \n",
            " 8   Content Rating  10840 non-null  object \n",
            " 9   Genres          10841 non-null  object \n",
            " 10  Last Updated    10841 non-null  object \n",
            " 11  Current Ver     10833 non-null  object \n",
            " 12  Android Ver     10838 non-null  object \n",
            "dtypes: float64(1), object(12)\n",
            "memory usage: 1.1+ MB\n"
          ]
        }
      ]
    },
    {
      "cell_type": "code",
      "metadata": {
        "colab": {
          "base_uri": "https://localhost:8080/"
        },
        "id": "1qIT1YMzI_Tt",
        "outputId": "f65e6a1a-4f12-404a-8ab5-34030eeacb21"
      },
      "source": [
        "#to find the missing values\n",
        "playstore.isnull().sum()"
      ],
      "execution_count": null,
      "outputs": [
        {
          "output_type": "execute_result",
          "data": {
            "text/plain": [
              "App                  0\n",
              "Category             0\n",
              "Rating            1474\n",
              "Reviews              0\n",
              "Size                 0\n",
              "Installs             0\n",
              "Type                 1\n",
              "Price                0\n",
              "Content Rating       1\n",
              "Genres               0\n",
              "Last Updated         0\n",
              "Current Ver          8\n",
              "Android Ver          3\n",
              "dtype: int64"
            ]
          },
          "metadata": {},
          "execution_count": 7
        }
      ]
    },
    {
      "cell_type": "code",
      "metadata": {
        "colab": {
          "base_uri": "https://localhost:8080/"
        },
        "id": "aXYZ2jFbJaWH",
        "outputId": "6a0954ff-2bf0-443a-99ea-167095cb570e"
      },
      "source": [
        "#shape of the document\n",
        "playstore.shape"
      ],
      "execution_count": null,
      "outputs": [
        {
          "output_type": "execute_result",
          "data": {
            "text/plain": [
              "(10841, 13)"
            ]
          },
          "metadata": {},
          "execution_count": 8
        }
      ]
    },
    {
      "cell_type": "code",
      "metadata": {
        "id": "igct-fNZJhMN"
      },
      "source": [
        ""
      ],
      "execution_count": null,
      "outputs": []
    },
    {
      "cell_type": "markdown",
      "metadata": {
        "id": "YLBkcPIxJmnF"
      },
      "source": [
        "# 2.0 Preprocessing Cleaning and Transformation "
      ]
    },
    {
      "cell_type": "markdown",
      "metadata": {
        "id": "unfyle8p8JyJ"
      },
      "source": [
        "## Variables of dataset"
      ]
    },
    {
      "cell_type": "code",
      "metadata": {
        "colab": {
          "base_uri": "https://localhost:8080/"
        },
        "id": "5UTnXolc8PVx",
        "outputId": "a86a6bea-d0fd-47a8-ce0b-9bebb785c79a"
      },
      "source": [
        "variable = pd.DataFrame(columns=['Variable Name','Number of variables','Details of Variables'])\n",
        "for i, var in enumerate(playstore.columns):\n",
        "  variable.loc[i] = [var, playstore[var].nunique(), playstore[var].unique().tolist()]\n",
        "    \n",
        "variable"
      ],
      "execution_count": null,
      "outputs": [
        {
          "output_type": "execute_result",
          "data": {
            "text/html": [
              "<div>\n",
              "<style scoped>\n",
              "    .dataframe tbody tr th:only-of-type {\n",
              "        vertical-align: middle;\n",
              "    }\n",
              "\n",
              "    .dataframe tbody tr th {\n",
              "        vertical-align: top;\n",
              "    }\n",
              "\n",
              "    .dataframe thead th {\n",
              "        text-align: right;\n",
              "    }\n",
              "</style>\n",
              "<table border=\"1\" class=\"dataframe\">\n",
              "  <thead>\n",
              "    <tr style=\"text-align: right;\">\n",
              "      <th></th>\n",
              "      <th>Variable Name</th>\n",
              "      <th>Number of variables</th>\n",
              "      <th>Details of Variables</th>\n",
              "    </tr>\n",
              "  </thead>\n",
              "  <tbody>\n",
              "    <tr>\n",
              "      <th>0</th>\n",
              "      <td>App</td>\n",
              "      <td>9660</td>\n",
              "      <td>[Photo Editor &amp; Candy Camera &amp; Grid &amp; ScrapBoo...</td>\n",
              "    </tr>\n",
              "    <tr>\n",
              "      <th>1</th>\n",
              "      <td>Category</td>\n",
              "      <td>34</td>\n",
              "      <td>[ART_AND_DESIGN, AUTO_AND_VEHICLES, BEAUTY, BO...</td>\n",
              "    </tr>\n",
              "    <tr>\n",
              "      <th>2</th>\n",
              "      <td>Rating</td>\n",
              "      <td>40</td>\n",
              "      <td>[4.1, 3.9, 4.7, 4.5, 4.3, 4.4, 3.8, 4.2, 4.6, ...</td>\n",
              "    </tr>\n",
              "    <tr>\n",
              "      <th>3</th>\n",
              "      <td>Reviews</td>\n",
              "      <td>6002</td>\n",
              "      <td>[159, 967, 87510, 215644, 167, 178, 36815, 137...</td>\n",
              "    </tr>\n",
              "    <tr>\n",
              "      <th>4</th>\n",
              "      <td>Size</td>\n",
              "      <td>462</td>\n",
              "      <td>[19M, 14M, 8.7M, 25M, 2.8M, 5.6M, 29M, 33M, 3....</td>\n",
              "    </tr>\n",
              "    <tr>\n",
              "      <th>5</th>\n",
              "      <td>Installs</td>\n",
              "      <td>22</td>\n",
              "      <td>[10,000+, 500,000+, 5,000,000+, 50,000,000+, 1...</td>\n",
              "    </tr>\n",
              "    <tr>\n",
              "      <th>6</th>\n",
              "      <td>Type</td>\n",
              "      <td>3</td>\n",
              "      <td>[Free, Paid, nan, 0]</td>\n",
              "    </tr>\n",
              "    <tr>\n",
              "      <th>7</th>\n",
              "      <td>Price</td>\n",
              "      <td>93</td>\n",
              "      <td>[0, $4.99, $3.99, $6.99, $1.49, $2.99, $7.99, ...</td>\n",
              "    </tr>\n",
              "    <tr>\n",
              "      <th>8</th>\n",
              "      <td>Content Rating</td>\n",
              "      <td>6</td>\n",
              "      <td>[Everyone, Teen, Everyone 10+, Mature 17+, Adu...</td>\n",
              "    </tr>\n",
              "    <tr>\n",
              "      <th>9</th>\n",
              "      <td>Genres</td>\n",
              "      <td>120</td>\n",
              "      <td>[Art &amp; Design, Art &amp; Design;Pretend Play, Art ...</td>\n",
              "    </tr>\n",
              "    <tr>\n",
              "      <th>10</th>\n",
              "      <td>Last Updated</td>\n",
              "      <td>1378</td>\n",
              "      <td>[January 7, 2018, January 15, 2018, August 1, ...</td>\n",
              "    </tr>\n",
              "    <tr>\n",
              "      <th>11</th>\n",
              "      <td>Current Ver</td>\n",
              "      <td>2832</td>\n",
              "      <td>[1.0.0, 2.0.0, 1.2.4, Varies with device, 1.1,...</td>\n",
              "    </tr>\n",
              "    <tr>\n",
              "      <th>12</th>\n",
              "      <td>Android Ver</td>\n",
              "      <td>33</td>\n",
              "      <td>[4.0.3 and up, 4.2 and up, 4.4 and up, 2.3 and...</td>\n",
              "    </tr>\n",
              "  </tbody>\n",
              "</table>\n",
              "</div>"
            ],
            "text/plain": [
              "     Variable Name  ...                               Details of Variables\n",
              "0              App  ...  [Photo Editor & Candy Camera & Grid & ScrapBoo...\n",
              "1         Category  ...  [ART_AND_DESIGN, AUTO_AND_VEHICLES, BEAUTY, BO...\n",
              "2           Rating  ...  [4.1, 3.9, 4.7, 4.5, 4.3, 4.4, 3.8, 4.2, 4.6, ...\n",
              "3          Reviews  ...  [159, 967, 87510, 215644, 167, 178, 36815, 137...\n",
              "4             Size  ...  [19M, 14M, 8.7M, 25M, 2.8M, 5.6M, 29M, 33M, 3....\n",
              "5         Installs  ...  [10,000+, 500,000+, 5,000,000+, 50,000,000+, 1...\n",
              "6             Type  ...                               [Free, Paid, nan, 0]\n",
              "7            Price  ...  [0, $4.99, $3.99, $6.99, $1.49, $2.99, $7.99, ...\n",
              "8   Content Rating  ...  [Everyone, Teen, Everyone 10+, Mature 17+, Adu...\n",
              "9           Genres  ...  [Art & Design, Art & Design;Pretend Play, Art ...\n",
              "10    Last Updated  ...  [January 7, 2018, January 15, 2018, August 1, ...\n",
              "11     Current Ver  ...  [1.0.0, 2.0.0, 1.2.4, Varies with device, 1.1,...\n",
              "12     Android Ver  ...  [4.0.3 and up, 4.2 and up, 4.4 and up, 2.3 and...\n",
              "\n",
              "[13 rows x 3 columns]"
            ]
          },
          "metadata": {},
          "execution_count": 9
        }
      ]
    },
    {
      "cell_type": "markdown",
      "metadata": {
        "id": "gARldeHgJs08"
      },
      "source": [
        "## 2.1 Detecting Outliers"
      ]
    },
    {
      "cell_type": "code",
      "metadata": {
        "colab": {
          "base_uri": "https://localhost:8080/"
        },
        "id": "P2I1IsFRxEPW",
        "outputId": "e18db4f4-3b12-4b65-bf8c-f94d0d1c8f75"
      },
      "source": [
        "playstore.boxplot(\"Rating\")"
      ],
      "execution_count": null,
      "outputs": [
        {
          "output_type": "execute_result",
          "data": {
            "text/plain": [
              "<matplotlib.axes._subplots.AxesSubplot at 0x7f10ee650c50>"
            ]
          },
          "metadata": {},
          "execution_count": 10
        },
        {
          "output_type": "display_data",
          "data": {
            "image/png": "[encoded data removed]",
            "text/plain": [
              "<Figure size 432x288 with 1 Axes>"
            ]
          },
          "metadata": {
            "needs_background": "light"
          }
        }
      ]
    },
    {
      "cell_type": "code",
      "metadata": {
        "colab": {
          "base_uri": "https://localhost:8080/"
        },
        "id": "wIjkKaZNxK9O",
        "outputId": "4fadaaf5-9537-4632-b3bb-11d7f821b863"
      },
      "source": [
        "playstore.hist(\"Rating\")"
      ],
      "execution_count": null,
      "outputs": [
        {
          "output_type": "execute_result",
          "data": {
            "text/plain": [
              "array([[<matplotlib.axes._subplots.AxesSubplot object at 0x7f10e8cb7290>]],\n",
              "      dtype=object)"
            ]
          },
          "metadata": {},
          "execution_count": 11
        },
        {
          "output_type": "display_data",
          "data": {
            "image/png": "[encoded data removed]",
            "text/plain": [
              "<Figure size 432x288 with 1 Axes>"
            ]
          },
          "metadata": {
            "needs_background": "light"
          }
        }
      ]
    },
    {
      "cell_type": "code",
      "metadata": {
        "colab": {
          "base_uri": "https://localhost:8080/"
        },
        "id": "VxS-vHD9xOBd",
        "outputId": "f481d97c-3173-4d96-bf86-14454445e88c"
      },
      "source": [
        "playstore[playstore.Rating>5]"
      ],
      "execution_count": null,
      "outputs": [
        {
          "output_type": "execute_result",
          "data": {
            "text/html": [
              "<div>\n",
              "<style scoped>\n",
              "    .dataframe tbody tr th:only-of-type {\n",
              "        vertical-align: middle;\n",
              "    }\n",
              "\n",
              "    .dataframe tbody tr th {\n",
              "        vertical-align: top;\n",
              "    }\n",
              "\n",
              "    .dataframe thead th {\n",
              "        text-align: right;\n",
              "    }\n",
              "</style>\n",
              "<table border=\"1\" class=\"dataframe\">\n",
              "  <thead>\n",
              "    <tr style=\"text-align: right;\">\n",
              "      <th></th>\n",
              "      <th>App</th>\n",
              "      <th>Category</th>\n",
              "      <th>Rating</th>\n",
              "      <th>Reviews</th>\n",
              "      <th>Size</th>\n",
              "      <th>Installs</th>\n",
              "      <th>Type</th>\n",
              "      <th>Price</th>\n",
              "      <th>Content Rating</th>\n",
              "      <th>Genres</th>\n",
              "      <th>Last Updated</th>\n",
              "      <th>Current Ver</th>\n",
              "      <th>Android Ver</th>\n",
              "    </tr>\n",
              "  </thead>\n",
              "  <tbody>\n",
              "    <tr>\n",
              "      <th>10472</th>\n",
              "      <td>Life Made WI-Fi Touchscreen Photo Frame</td>\n",
              "      <td>1.9</td>\n",
              "      <td>19.0</td>\n",
              "      <td>3.0M</td>\n",
              "      <td>1,000+</td>\n",
              "      <td>Free</td>\n",
              "      <td>0</td>\n",
              "      <td>Everyone</td>\n",
              "      <td>NaN</td>\n",
              "      <td>February 11, 2018</td>\n",
              "      <td>1.0.19</td>\n",
              "      <td>4.0 and up</td>\n",
              "      <td>NaN</td>\n",
              "    </tr>\n",
              "  </tbody>\n",
              "</table>\n",
              "</div>"
            ],
            "text/plain": [
              "                                           App Category  ...  Current Ver Android Ver\n",
              "10472  Life Made WI-Fi Touchscreen Photo Frame      1.9  ...   4.0 and up         NaN\n",
              "\n",
              "[1 rows x 13 columns]"
            ]
          },
          "metadata": {},
          "execution_count": 12
        }
      ]
    },
    {
      "cell_type": "code",
      "metadata": {
        "colab": {
          "base_uri": "https://localhost:8080/"
        },
        "id": "-hErVIeYxgHh",
        "outputId": "e4a27277-1cdf-486e-c4e8-971257ef5793"
      },
      "source": [
        "playstore.drop([10472], inplace=True)\n",
        "playstore[10471:10474]"
      ],
      "execution_count": null,
      "outputs": [
        {
          "output_type": "execute_result",
          "data": {
            "text/html": [
              "<div>\n",
              "<style scoped>\n",
              "    .dataframe tbody tr th:only-of-type {\n",
              "        vertical-align: middle;\n",
              "    }\n",
              "\n",
              "    .dataframe tbody tr th {\n",
              "        vertical-align: top;\n",
              "    }\n",
              "\n",
              "    .dataframe thead th {\n",
              "        text-align: right;\n",
              "    }\n",
              "</style>\n",
              "<table border=\"1\" class=\"dataframe\">\n",
              "  <thead>\n",
              "    <tr style=\"text-align: right;\">\n",
              "      <th></th>\n",
              "      <th>App</th>\n",
              "      <th>Category</th>\n",
              "      <th>Rating</th>\n",
              "      <th>Reviews</th>\n",
              "      <th>Size</th>\n",
              "      <th>Installs</th>\n",
              "      <th>Type</th>\n",
              "      <th>Price</th>\n",
              "      <th>Content Rating</th>\n",
              "      <th>Genres</th>\n",
              "      <th>Last Updated</th>\n",
              "      <th>Current Ver</th>\n",
              "      <th>Android Ver</th>\n",
              "    </tr>\n",
              "  </thead>\n",
              "  <tbody>\n",
              "    <tr>\n",
              "      <th>10471</th>\n",
              "      <td>Xposed Wi-Fi-Pwd</td>\n",
              "      <td>PERSONALIZATION</td>\n",
              "      <td>3.5</td>\n",
              "      <td>1042</td>\n",
              "      <td>404k</td>\n",
              "      <td>100,000+</td>\n",
              "      <td>Free</td>\n",
              "      <td>0</td>\n",
              "      <td>Everyone</td>\n",
              "      <td>Personalization</td>\n",
              "      <td>August 5, 2014</td>\n",
              "      <td>3.0.0</td>\n",
              "      <td>4.0.3 and up</td>\n",
              "    </tr>\n",
              "    <tr>\n",
              "      <th>10473</th>\n",
              "      <td>osmino Wi-Fi: free WiFi</td>\n",
              "      <td>TOOLS</td>\n",
              "      <td>4.2</td>\n",
              "      <td>134203</td>\n",
              "      <td>4.1M</td>\n",
              "      <td>10,000,000+</td>\n",
              "      <td>Free</td>\n",
              "      <td>0</td>\n",
              "      <td>Everyone</td>\n",
              "      <td>Tools</td>\n",
              "      <td>August 7, 2018</td>\n",
              "      <td>6.06.14</td>\n",
              "      <td>4.4 and up</td>\n",
              "    </tr>\n",
              "    <tr>\n",
              "      <th>10474</th>\n",
              "      <td>Sat-Fi Voice</td>\n",
              "      <td>COMMUNICATION</td>\n",
              "      <td>3.4</td>\n",
              "      <td>37</td>\n",
              "      <td>14M</td>\n",
              "      <td>1,000+</td>\n",
              "      <td>Free</td>\n",
              "      <td>0</td>\n",
              "      <td>Everyone</td>\n",
              "      <td>Communication</td>\n",
              "      <td>November 21, 2014</td>\n",
              "      <td>2.2.1.5</td>\n",
              "      <td>2.2 and up</td>\n",
              "    </tr>\n",
              "  </tbody>\n",
              "</table>\n",
              "</div>"
            ],
            "text/plain": [
              "                           App         Category  ...  Current Ver   Android Ver\n",
              "10471         Xposed Wi-Fi-Pwd  PERSONALIZATION  ...        3.0.0  4.0.3 and up\n",
              "10473  osmino Wi-Fi: free WiFi            TOOLS  ...      6.06.14    4.4 and up\n",
              "10474             Sat-Fi Voice    COMMUNICATION  ...      2.2.1.5    2.2 and up\n",
              "\n",
              "[3 rows x 13 columns]"
            ]
          },
          "metadata": {},
          "execution_count": 13
        }
      ]
    },
    {
      "cell_type": "code",
      "metadata": {
        "id": "6GFcFF0OytVL",
        "colab": {
          "base_uri": "https://localhost:8080/"
        },
        "outputId": "96ab3356-19a2-478a-ba1d-e0e6d3ab8782"
      },
      "source": [
        "playstore.boxplot(\"Rating\")"
      ],
      "execution_count": null,
      "outputs": [
        {
          "output_type": "execute_result",
          "data": {
            "text/plain": [
              "<matplotlib.axes._subplots.AxesSubplot at 0x7f10e851d5d0>"
            ]
          },
          "metadata": {},
          "execution_count": 14
        },
        {
          "output_type": "display_data",
          "data": {
            "image/png": "[encoded data removed]",
            "text/plain": [
              "<Figure size 432x288 with 1 Axes>"
            ]
          },
          "metadata": {
            "needs_background": "light"
          }
        }
      ]
    },
    {
      "cell_type": "markdown",
      "metadata": {
        "id": "xyKvXGrJw7kb"
      },
      "source": [
        "## 2.2 Data Cleaning"
      ]
    },
    {
      "cell_type": "code",
      "metadata": {
        "id": "cTaJ9oDfKHbF"
      },
      "source": [
        "# to deal with missing value we are replacing missing values with mean of all value for specific attribute\n",
        "# Here we are cleaning data for Rating attribute\n",
        "\n",
        "from sklearn.impute import SimpleImputer\n",
        "SmplImptr = SimpleImputer()\n",
        "playstore['Rating'] = SmplImptr.fit_transform(playstore[['Rating']])\n",
        "playstore['Rating'].round(1)\n",
        "\n",
        "\n",
        "# For Type, Content Rating, Current Ver and Android Version, rows were dropped which have missing values.\n",
        "playstore.dropna(axis=0, inplace=True)"
      ],
      "execution_count": null,
      "outputs": []
    },
    {
      "cell_type": "code",
      "metadata": {
        "id": "QpMNEWtINQJ0",
        "colab": {
          "base_uri": "https://localhost:8080/"
        },
        "outputId": "4ec72a4b-d5e9-4d71-c86b-b67c0619d6a2"
      },
      "source": [
        "playstore.isnull().sum()"
      ],
      "execution_count": null,
      "outputs": [
        {
          "output_type": "execute_result",
          "data": {
            "text/plain": [
              "App               0\n",
              "Category          0\n",
              "Rating            0\n",
              "Reviews           0\n",
              "Size              0\n",
              "Installs          0\n",
              "Type              0\n",
              "Price             0\n",
              "Content Rating    0\n",
              "Genres            0\n",
              "Last Updated      0\n",
              "Current Ver       0\n",
              "Android Ver       0\n",
              "dtype: int64"
            ]
          },
          "metadata": {},
          "execution_count": 16
        }
      ]
    },
    {
      "cell_type": "code",
      "metadata": {
        "id": "Cv3h6ugOOskD",
        "colab": {
          "base_uri": "https://localhost:8080/"
        },
        "outputId": "4df9adcb-10ee-4b18-822d-5b20f51874fb"
      },
      "source": [
        "playstore.shape"
      ],
      "execution_count": null,
      "outputs": [
        {
          "output_type": "execute_result",
          "data": {
            "text/plain": [
              "(10829, 13)"
            ]
          },
          "metadata": {},
          "execution_count": 17
        }
      ]
    },
    {
      "cell_type": "markdown",
      "metadata": {
        "id": "JfTa4e9iO-w0"
      },
      "source": [
        "## 2.2 Data Transformation"
      ]
    },
    {
      "cell_type": "code",
      "metadata": {
        "id": "6ska60T-PFqj",
        "colab": {
          "base_uri": "https://localhost:8080/"
        },
        "outputId": "f8c9fc75-f9c9-47cb-e8df-664333b78362"
      },
      "source": [
        "#Dropping unnecessary columns/attributes from the data\n",
        "\n",
        "playstore.drop(labels= ['Last Updated', 'Current Ver', 'Android Ver', 'App', 'Content Rating', 'Genres'], axis = 1, inplace= True)\n",
        "playstore.info()\n",
        "\n"
      ],
      "execution_count": null,
      "outputs": [
        {
          "output_type": "stream",
          "name": "stdout",
          "text": [
            "<class 'pandas.core.frame.DataFrame'>\n",
            "Int64Index: 10829 entries, 0 to 10840\n",
            "Data columns (total 7 columns):\n",
            " #   Column    Non-Null Count  Dtype  \n",
            "---  ------    --------------  -----  \n",
            " 0   Category  10829 non-null  object \n",
            " 1   Rating    10829 non-null  float64\n",
            " 2   Reviews   10829 non-null  object \n",
            " 3   Size      10829 non-null  object \n",
            " 4   Installs  10829 non-null  object \n",
            " 5   Type      10829 non-null  object \n",
            " 6   Price     10829 non-null  object \n",
            "dtypes: float64(1), object(6)\n",
            "memory usage: 676.8+ KB\n"
          ]
        }
      ]
    },
    {
      "cell_type": "code",
      "metadata": {
        "id": "1LIVCLAdXWvZ",
        "colab": {
          "base_uri": "https://localhost:8080/"
        },
        "outputId": "1c256846-37b2-4a5e-8957-7a2d3c7a43cc"
      },
      "source": [
        "#Converting attributes values to Numeric\n",
        "\n",
        "#For Reviews Column\n",
        "playstore ['Reviews'] = pd.to_numeric(playstore['Reviews'])\n",
        "\n",
        "#For Size Column\n",
        "playstore ['Size'] = playstore['Size'].apply(lambda x: str(x).replace('M','') if 'M' in str(x) else x)\n",
        "playstore ['Size'] = playstore['Size'].apply(lambda x: str(x).replace('Varies with device','nan') if 'Varies with device' in str(x) else x)\n",
        "\n",
        "playstore ['Size'] = playstore['Size'].apply(lambda x: float(str(x).replace('k',''))/1000 if 'k' in str(x) else x)\n",
        "playstore ['Size'] = playstore['Size'].apply(lambda x: float(x))\n",
        "playstore = playstore[pd.notnull(playstore['Size'])]\n",
        "\n",
        "#for Installs Column\n",
        "playstore ['Installs'] = playstore['Installs'].apply(lambda x: str(x).replace('+','') if '+' in str(x) else x)\n",
        "playstore ['Installs'] = playstore['Installs'].apply(lambda x: str(x).replace(',','') if ',' in str(x) else x)\n",
        "playstore ['Installs'] = playstore['Installs'].apply(lambda x: int(x))\n",
        "\n",
        "#for Type Column (Conerting to Binary)\n",
        "def type_cat(Types_bin):\n",
        "  if Types_bin == 'Free':\n",
        "    return 0\n",
        "  else:\n",
        "    return 1\n",
        "playstore['Type'] = playstore['Type'].map(type_cat)\n",
        "\n",
        "\n",
        "#for Price Column\n",
        "playstore ['Price'] = playstore['Price'].apply(lambda x: str(x).replace('$','') if '$' in str(x) else x)\n",
        "playstore ['Price'] = playstore['Price'].apply(lambda x: float(x))\n",
        "\n",
        "\n",
        "#For Category Column\n",
        "Str_Category = playstore[\"Category\"].unique()\n",
        "lenStr_Category = len(Str_Category)\n",
        "values_Category = {}\n",
        "for i in range (0, lenStr_Category):\n",
        "    values_Category[Str_Category[i]] = i\n",
        "playstore['Category_2'] = playstore['Category'].map(values_Category).astype(int)\n",
        "\n",
        "##For Category Column (Label Encoding)\n",
        "playstore_dummies = pd.get_dummies(playstore, columns=['Category'])"
      ],
      "execution_count": null,
      "outputs": [
        {
          "output_type": "stream",
          "name": "stderr",
          "text": [
            "/usr/local/lib/python3.7/dist-packages/ipykernel_launcher.py:15: SettingWithCopyWarning: \n",
            "A value is trying to be set on a copy of a slice from a DataFrame.\n",
            "Try using .loc[row_indexer,col_indexer] = value instead\n",
            "\n",
            "See the caveats in the documentation: https://pandas.pydata.org/pandas-docs/stable/user_guide/indexing.html#returning-a-view-versus-a-copy\n",
            "  from ipykernel import kernelapp as app\n",
            "/usr/local/lib/python3.7/dist-packages/ipykernel_launcher.py:16: SettingWithCopyWarning: \n",
            "A value is trying to be set on a copy of a slice from a DataFrame.\n",
            "Try using .loc[row_indexer,col_indexer] = value instead\n",
            "\n",
            "See the caveats in the documentation: https://pandas.pydata.org/pandas-docs/stable/user_guide/indexing.html#returning-a-view-versus-a-copy\n",
            "  app.launch_new_instance()\n",
            "/usr/local/lib/python3.7/dist-packages/ipykernel_launcher.py:17: SettingWithCopyWarning: \n",
            "A value is trying to be set on a copy of a slice from a DataFrame.\n",
            "Try using .loc[row_indexer,col_indexer] = value instead\n",
            "\n",
            "See the caveats in the documentation: https://pandas.pydata.org/pandas-docs/stable/user_guide/indexing.html#returning-a-view-versus-a-copy\n",
            "/usr/local/lib/python3.7/dist-packages/ipykernel_launcher.py:25: SettingWithCopyWarning: \n",
            "A value is trying to be set on a copy of a slice from a DataFrame.\n",
            "Try using .loc[row_indexer,col_indexer] = value instead\n",
            "\n",
            "See the caveats in the documentation: https://pandas.pydata.org/pandas-docs/stable/user_guide/indexing.html#returning-a-view-versus-a-copy\n",
            "/usr/local/lib/python3.7/dist-packages/ipykernel_launcher.py:29: SettingWithCopyWarning: \n",
            "A value is trying to be set on a copy of a slice from a DataFrame.\n",
            "Try using .loc[row_indexer,col_indexer] = value instead\n",
            "\n",
            "See the caveats in the documentation: https://pandas.pydata.org/pandas-docs/stable/user_guide/indexing.html#returning-a-view-versus-a-copy\n",
            "/usr/local/lib/python3.7/dist-packages/ipykernel_launcher.py:30: SettingWithCopyWarning: \n",
            "A value is trying to be set on a copy of a slice from a DataFrame.\n",
            "Try using .loc[row_indexer,col_indexer] = value instead\n",
            "\n",
            "See the caveats in the documentation: https://pandas.pydata.org/pandas-docs/stable/user_guide/indexing.html#returning-a-view-versus-a-copy\n",
            "/usr/local/lib/python3.7/dist-packages/ipykernel_launcher.py:39: SettingWithCopyWarning: \n",
            "A value is trying to be set on a copy of a slice from a DataFrame.\n",
            "Try using .loc[row_indexer,col_indexer] = value instead\n",
            "\n",
            "See the caveats in the documentation: https://pandas.pydata.org/pandas-docs/stable/user_guide/indexing.html#returning-a-view-versus-a-copy\n"
          ]
        }
      ]
    },
    {
      "cell_type": "code",
      "metadata": {
        "id": "HISvyKrtoL5b",
        "colab": {
          "base_uri": "https://localhost:8080/"
        },
        "outputId": "4a6a32e8-69a1-4cb9-bba5-04027dad163e"
      },
      "source": [
        "playstore.info()\n"
      ],
      "execution_count": null,
      "outputs": [
        {
          "output_type": "stream",
          "name": "stdout",
          "text": [
            "<class 'pandas.core.frame.DataFrame'>\n",
            "Int64Index: 9135 entries, 0 to 10840\n",
            "Data columns (total 8 columns):\n",
            " #   Column      Non-Null Count  Dtype  \n",
            "---  ------      --------------  -----  \n",
            " 0   Category    9135 non-null   object \n",
            " 1   Rating      9135 non-null   float64\n",
            " 2   Reviews     9135 non-null   int64  \n",
            " 3   Size        9135 non-null   float64\n",
            " 4   Installs    9135 non-null   int64  \n",
            " 5   Type        9135 non-null   int64  \n",
            " 6   Price       9135 non-null   float64\n",
            " 7   Category_2  9135 non-null   int64  \n",
            "dtypes: float64(3), int64(4), object(1)\n",
            "memory usage: 642.3+ KB\n"
          ]
        }
      ]
    },
    {
      "cell_type": "code",
      "metadata": {
        "id": "yJ9EEI2mpErT",
        "colab": {
          "base_uri": "https://localhost:8080/"
        },
        "outputId": "ae0cf9da-2461-4191-d696-2808f0b4452e"
      },
      "source": [
        "playstore.head()"
      ],
      "execution_count": null,
      "outputs": [
        {
          "output_type": "execute_result",
          "data": {
            "text/html": [
              "<div>\n",
              "<style scoped>\n",
              "    .dataframe tbody tr th:only-of-type {\n",
              "        vertical-align: middle;\n",
              "    }\n",
              "\n",
              "    .dataframe tbody tr th {\n",
              "        vertical-align: top;\n",
              "    }\n",
              "\n",
              "    .dataframe thead th {\n",
              "        text-align: right;\n",
              "    }\n",
              "</style>\n",
              "<table border=\"1\" class=\"dataframe\">\n",
              "  <thead>\n",
              "    <tr style=\"text-align: right;\">\n",
              "      <th></th>\n",
              "      <th>Category</th>\n",
              "      <th>Rating</th>\n",
              "      <th>Reviews</th>\n",
              "      <th>Size</th>\n",
              "      <th>Installs</th>\n",
              "      <th>Type</th>\n",
              "      <th>Price</th>\n",
              "      <th>Category_2</th>\n",
              "    </tr>\n",
              "  </thead>\n",
              "  <tbody>\n",
              "    <tr>\n",
              "      <th>0</th>\n",
              "      <td>ART_AND_DESIGN</td>\n",
              "      <td>4.1</td>\n",
              "      <td>159</td>\n",
              "      <td>19.0</td>\n",
              "      <td>10000</td>\n",
              "      <td>0</td>\n",
              "      <td>0.0</td>\n",
              "      <td>0</td>\n",
              "    </tr>\n",
              "    <tr>\n",
              "      <th>1</th>\n",
              "      <td>ART_AND_DESIGN</td>\n",
              "      <td>3.9</td>\n",
              "      <td>967</td>\n",
              "      <td>14.0</td>\n",
              "      <td>500000</td>\n",
              "      <td>0</td>\n",
              "      <td>0.0</td>\n",
              "      <td>0</td>\n",
              "    </tr>\n",
              "    <tr>\n",
              "      <th>2</th>\n",
              "      <td>ART_AND_DESIGN</td>\n",
              "      <td>4.7</td>\n",
              "      <td>87510</td>\n",
              "      <td>8.7</td>\n",
              "      <td>5000000</td>\n",
              "      <td>0</td>\n",
              "      <td>0.0</td>\n",
              "      <td>0</td>\n",
              "    </tr>\n",
              "    <tr>\n",
              "      <th>3</th>\n",
              "      <td>ART_AND_DESIGN</td>\n",
              "      <td>4.5</td>\n",
              "      <td>215644</td>\n",
              "      <td>25.0</td>\n",
              "      <td>50000000</td>\n",
              "      <td>0</td>\n",
              "      <td>0.0</td>\n",
              "      <td>0</td>\n",
              "    </tr>\n",
              "    <tr>\n",
              "      <th>4</th>\n",
              "      <td>ART_AND_DESIGN</td>\n",
              "      <td>4.3</td>\n",
              "      <td>967</td>\n",
              "      <td>2.8</td>\n",
              "      <td>100000</td>\n",
              "      <td>0</td>\n",
              "      <td>0.0</td>\n",
              "      <td>0</td>\n",
              "    </tr>\n",
              "  </tbody>\n",
              "</table>\n",
              "</div>"
            ],
            "text/plain": [
              "         Category  Rating  Reviews  Size  Installs  Type  Price  Category_2\n",
              "0  ART_AND_DESIGN     4.1      159  19.0     10000     0    0.0           0\n",
              "1  ART_AND_DESIGN     3.9      967  14.0    500000     0    0.0           0\n",
              "2  ART_AND_DESIGN     4.7    87510   8.7   5000000     0    0.0           0\n",
              "3  ART_AND_DESIGN     4.5   215644  25.0  50000000     0    0.0           0\n",
              "4  ART_AND_DESIGN     4.3      967   2.8    100000     0    0.0           0"
            ]
          },
          "metadata": {},
          "execution_count": 21
        }
      ]
    },
    {
      "cell_type": "code",
      "metadata": {
        "id": "NwoG_orjqNYM",
        "colab": {
          "base_uri": "https://localhost:8080/"
        },
        "outputId": "bb0e456c-acc6-465e-9cf0-ad8b1836db84"
      },
      "source": [
        "playstore_dummies.head()"
      ],
      "execution_count": null,
      "outputs": [
        {
          "output_type": "execute_result",
          "data": {
            "text/html": [
              "<div>\n",
              "<style scoped>\n",
              "    .dataframe tbody tr th:only-of-type {\n",
              "        vertical-align: middle;\n",
              "    }\n",
              "\n",
              "    .dataframe tbody tr th {\n",
              "        vertical-align: top;\n",
              "    }\n",
              "\n",
              "    .dataframe thead th {\n",
              "        text-align: right;\n",
              "    }\n",
              "</style>\n",
              "<table border=\"1\" class=\"dataframe\">\n",
              "  <thead>\n",
              "    <tr style=\"text-align: right;\">\n",
              "      <th></th>\n",
              "      <th>Rating</th>\n",
              "      <th>Reviews</th>\n",
              "      <th>Size</th>\n",
              "      <th>Installs</th>\n",
              "      <th>Type</th>\n",
              "      <th>Price</th>\n",
              "      <th>Category_2</th>\n",
              "      <th>Category_ART_AND_DESIGN</th>\n",
              "      <th>Category_AUTO_AND_VEHICLES</th>\n",
              "      <th>Category_BEAUTY</th>\n",
              "      <th>Category_BOOKS_AND_REFERENCE</th>\n",
              "      <th>Category_BUSINESS</th>\n",
              "      <th>Category_COMICS</th>\n",
              "      <th>Category_COMMUNICATION</th>\n",
              "      <th>Category_DATING</th>\n",
              "      <th>Category_EDUCATION</th>\n",
              "      <th>Category_ENTERTAINMENT</th>\n",
              "      <th>Category_EVENTS</th>\n",
              "      <th>Category_FAMILY</th>\n",
              "      <th>Category_FINANCE</th>\n",
              "      <th>Category_FOOD_AND_DRINK</th>\n",
              "      <th>Category_GAME</th>\n",
              "      <th>Category_HEALTH_AND_FITNESS</th>\n",
              "      <th>Category_HOUSE_AND_HOME</th>\n",
              "      <th>Category_LIBRARIES_AND_DEMO</th>\n",
              "      <th>Category_LIFESTYLE</th>\n",
              "      <th>Category_MAPS_AND_NAVIGATION</th>\n",
              "      <th>Category_MEDICAL</th>\n",
              "      <th>Category_NEWS_AND_MAGAZINES</th>\n",
              "      <th>Category_PARENTING</th>\n",
              "      <th>Category_PERSONALIZATION</th>\n",
              "      <th>Category_PHOTOGRAPHY</th>\n",
              "      <th>Category_PRODUCTIVITY</th>\n",
              "      <th>Category_SHOPPING</th>\n",
              "      <th>Category_SOCIAL</th>\n",
              "      <th>Category_SPORTS</th>\n",
              "      <th>Category_TOOLS</th>\n",
              "      <th>Category_TRAVEL_AND_LOCAL</th>\n",
              "      <th>Category_VIDEO_PLAYERS</th>\n",
              "      <th>Category_WEATHER</th>\n",
              "    </tr>\n",
              "  </thead>\n",
              "  <tbody>\n",
              "    <tr>\n",
              "      <th>0</th>\n",
              "      <td>4.1</td>\n",
              "      <td>159</td>\n",
              "      <td>19.0</td>\n",
              "      <td>10000</td>\n",
              "      <td>0</td>\n",
              "      <td>0.0</td>\n",
              "      <td>0</td>\n",
              "      <td>1</td>\n",
              "      <td>0</td>\n",
              "      <td>0</td>\n",
              "      <td>0</td>\n",
              "      <td>0</td>\n",
              "      <td>0</td>\n",
              "      <td>0</td>\n",
              "      <td>0</td>\n",
              "      <td>0</td>\n",
              "      <td>0</td>\n",
              "      <td>0</td>\n",
              "      <td>0</td>\n",
              "      <td>0</td>\n",
              "      <td>0</td>\n",
              "      <td>0</td>\n",
              "      <td>0</td>\n",
              "      <td>0</td>\n",
              "      <td>0</td>\n",
              "      <td>0</td>\n",
              "      <td>0</td>\n",
              "      <td>0</td>\n",
              "      <td>0</td>\n",
              "      <td>0</td>\n",
              "      <td>0</td>\n",
              "      <td>0</td>\n",
              "      <td>0</td>\n",
              "      <td>0</td>\n",
              "      <td>0</td>\n",
              "      <td>0</td>\n",
              "      <td>0</td>\n",
              "      <td>0</td>\n",
              "      <td>0</td>\n",
              "      <td>0</td>\n",
              "    </tr>\n",
              "    <tr>\n",
              "      <th>1</th>\n",
              "      <td>3.9</td>\n",
              "      <td>967</td>\n",
              "      <td>14.0</td>\n",
              "      <td>500000</td>\n",
              "      <td>0</td>\n",
              "      <td>0.0</td>\n",
              "      <td>0</td>\n",
              "      <td>1</td>\n",
              "      <td>0</td>\n",
              "      <td>0</td>\n",
              "      <td>0</td>\n",
              "      <td>0</td>\n",
              "      <td>0</td>\n",
              "      <td>0</td>\n",
              "      <td>0</td>\n",
              "      <td>0</td>\n",
              "      <td>0</td>\n",
              "      <td>0</td>\n",
              "      <td>0</td>\n",
              "      <td>0</td>\n",
              "      <td>0</td>\n",
              "      <td>0</td>\n",
              "      <td>0</td>\n",
              "      <td>0</td>\n",
              "      <td>0</td>\n",
              "      <td>0</td>\n",
              "      <td>0</td>\n",
              "      <td>0</td>\n",
              "      <td>0</td>\n",
              "      <td>0</td>\n",
              "      <td>0</td>\n",
              "      <td>0</td>\n",
              "      <td>0</td>\n",
              "      <td>0</td>\n",
              "      <td>0</td>\n",
              "      <td>0</td>\n",
              "      <td>0</td>\n",
              "      <td>0</td>\n",
              "      <td>0</td>\n",
              "      <td>0</td>\n",
              "    </tr>\n",
              "    <tr>\n",
              "      <th>2</th>\n",
              "      <td>4.7</td>\n",
              "      <td>87510</td>\n",
              "      <td>8.7</td>\n",
              "      <td>5000000</td>\n",
              "      <td>0</td>\n",
              "      <td>0.0</td>\n",
              "      <td>0</td>\n",
              "      <td>1</td>\n",
              "      <td>0</td>\n",
              "      <td>0</td>\n",
              "      <td>0</td>\n",
              "      <td>0</td>\n",
              "      <td>0</td>\n",
              "      <td>0</td>\n",
              "      <td>0</td>\n",
              "      <td>0</td>\n",
              "      <td>0</td>\n",
              "      <td>0</td>\n",
              "      <td>0</td>\n",
              "      <td>0</td>\n",
              "      <td>0</td>\n",
              "      <td>0</td>\n",
              "      <td>0</td>\n",
              "      <td>0</td>\n",
              "      <td>0</td>\n",
              "      <td>0</td>\n",
              "      <td>0</td>\n",
              "      <td>0</td>\n",
              "      <td>0</td>\n",
              "      <td>0</td>\n",
              "      <td>0</td>\n",
              "      <td>0</td>\n",
              "      <td>0</td>\n",
              "      <td>0</td>\n",
              "      <td>0</td>\n",
              "      <td>0</td>\n",
              "      <td>0</td>\n",
              "      <td>0</td>\n",
              "      <td>0</td>\n",
              "      <td>0</td>\n",
              "    </tr>\n",
              "    <tr>\n",
              "      <th>3</th>\n",
              "      <td>4.5</td>\n",
              "      <td>215644</td>\n",
              "      <td>25.0</td>\n",
              "      <td>50000000</td>\n",
              "      <td>0</td>\n",
              "      <td>0.0</td>\n",
              "      <td>0</td>\n",
              "      <td>1</td>\n",
              "      <td>0</td>\n",
              "      <td>0</td>\n",
              "      <td>0</td>\n",
              "      <td>0</td>\n",
              "      <td>0</td>\n",
              "      <td>0</td>\n",
              "      <td>0</td>\n",
              "      <td>0</td>\n",
              "      <td>0</td>\n",
              "      <td>0</td>\n",
              "      <td>0</td>\n",
              "      <td>0</td>\n",
              "      <td>0</td>\n",
              "      <td>0</td>\n",
              "      <td>0</td>\n",
              "      <td>0</td>\n",
              "      <td>0</td>\n",
              "      <td>0</td>\n",
              "      <td>0</td>\n",
              "      <td>0</td>\n",
              "      <td>0</td>\n",
              "      <td>0</td>\n",
              "      <td>0</td>\n",
              "      <td>0</td>\n",
              "      <td>0</td>\n",
              "      <td>0</td>\n",
              "      <td>0</td>\n",
              "      <td>0</td>\n",
              "      <td>0</td>\n",
              "      <td>0</td>\n",
              "      <td>0</td>\n",
              "      <td>0</td>\n",
              "    </tr>\n",
              "    <tr>\n",
              "      <th>4</th>\n",
              "      <td>4.3</td>\n",
              "      <td>967</td>\n",
              "      <td>2.8</td>\n",
              "      <td>100000</td>\n",
              "      <td>0</td>\n",
              "      <td>0.0</td>\n",
              "      <td>0</td>\n",
              "      <td>1</td>\n",
              "      <td>0</td>\n",
              "      <td>0</td>\n",
              "      <td>0</td>\n",
              "      <td>0</td>\n",
              "      <td>0</td>\n",
              "      <td>0</td>\n",
              "      <td>0</td>\n",
              "      <td>0</td>\n",
              "      <td>0</td>\n",
              "      <td>0</td>\n",
              "      <td>0</td>\n",
              "      <td>0</td>\n",
              "      <td>0</td>\n",
              "      <td>0</td>\n",
              "      <td>0</td>\n",
              "      <td>0</td>\n",
              "      <td>0</td>\n",
              "      <td>0</td>\n",
              "      <td>0</td>\n",
              "      <td>0</td>\n",
              "      <td>0</td>\n",
              "      <td>0</td>\n",
              "      <td>0</td>\n",
              "      <td>0</td>\n",
              "      <td>0</td>\n",
              "      <td>0</td>\n",
              "      <td>0</td>\n",
              "      <td>0</td>\n",
              "      <td>0</td>\n",
              "      <td>0</td>\n",
              "      <td>0</td>\n",
              "      <td>0</td>\n",
              "    </tr>\n",
              "  </tbody>\n",
              "</table>\n",
              "</div>"
            ],
            "text/plain": [
              "   Rating  Reviews  ...  Category_VIDEO_PLAYERS  Category_WEATHER\n",
              "0     4.1      159  ...                       0                 0\n",
              "1     3.9      967  ...                       0                 0\n",
              "2     4.7    87510  ...                       0                 0\n",
              "3     4.5   215644  ...                       0                 0\n",
              "4     4.3      967  ...                       0                 0\n",
              "\n",
              "[5 rows x 40 columns]"
            ]
          },
          "metadata": {},
          "execution_count": 22
        }
      ]
    },
    {
      "cell_type": "code",
      "metadata": {
        "id": "RYEpn69ci0h2",
        "colab": {
          "base_uri": "https://localhost:8080/"
        },
        "outputId": "ce78256c-8b12-465a-d6f0-279caf06cd33"
      },
      "source": [
        "playstore.describe()"
      ],
      "execution_count": null,
      "outputs": [
        {
          "output_type": "execute_result",
          "data": {
            "text/html": [
              "<div>\n",
              "<style scoped>\n",
              "    .dataframe tbody tr th:only-of-type {\n",
              "        vertical-align: middle;\n",
              "    }\n",
              "\n",
              "    .dataframe tbody tr th {\n",
              "        vertical-align: top;\n",
              "    }\n",
              "\n",
              "    .dataframe thead th {\n",
              "        text-align: right;\n",
              "    }\n",
              "</style>\n",
              "<table border=\"1\" class=\"dataframe\">\n",
              "  <thead>\n",
              "    <tr style=\"text-align: right;\">\n",
              "      <th></th>\n",
              "      <th>Rating</th>\n",
              "      <th>Reviews</th>\n",
              "      <th>Size</th>\n",
              "      <th>Installs</th>\n",
              "      <th>Type</th>\n",
              "      <th>Price</th>\n",
              "      <th>Category_2</th>\n",
              "    </tr>\n",
              "  </thead>\n",
              "  <tbody>\n",
              "    <tr>\n",
              "      <th>count</th>\n",
              "      <td>9135.000000</td>\n",
              "      <td>9.135000e+03</td>\n",
              "      <td>9135.000000</td>\n",
              "      <td>9.135000e+03</td>\n",
              "      <td>9135.000000</td>\n",
              "      <td>9135.000000</td>\n",
              "      <td>9135.000000</td>\n",
              "    </tr>\n",
              "    <tr>\n",
              "      <th>mean</th>\n",
              "      <td>4.176690</td>\n",
              "      <td>2.493186e+05</td>\n",
              "      <td>21.534957</td>\n",
              "      <td>7.122458e+06</td>\n",
              "      <td>0.078927</td>\n",
              "      <td>1.185283</td>\n",
              "      <td>17.610728</td>\n",
              "    </tr>\n",
              "    <tr>\n",
              "      <th>std</th>\n",
              "      <td>0.500816</td>\n",
              "      <td>1.717130e+06</td>\n",
              "      <td>22.593662</td>\n",
              "      <td>4.621827e+07</td>\n",
              "      <td>0.269640</td>\n",
              "      <td>17.365220</td>\n",
              "      <td>7.342431</td>\n",
              "    </tr>\n",
              "    <tr>\n",
              "      <th>min</th>\n",
              "      <td>1.000000</td>\n",
              "      <td>0.000000e+00</td>\n",
              "      <td>0.008500</td>\n",
              "      <td>0.000000e+00</td>\n",
              "      <td>0.000000</td>\n",
              "      <td>0.000000</td>\n",
              "      <td>0.000000</td>\n",
              "    </tr>\n",
              "    <tr>\n",
              "      <th>25%</th>\n",
              "      <td>4.100000</td>\n",
              "      <td>2.200000e+01</td>\n",
              "      <td>4.900000</td>\n",
              "      <td>1.000000e+03</td>\n",
              "      <td>0.000000</td>\n",
              "      <td>0.000000</td>\n",
              "      <td>14.000000</td>\n",
              "    </tr>\n",
              "    <tr>\n",
              "      <th>50%</th>\n",
              "      <td>4.200000</td>\n",
              "      <td>7.420000e+02</td>\n",
              "      <td>13.000000</td>\n",
              "      <td>1.000000e+05</td>\n",
              "      <td>0.000000</td>\n",
              "      <td>0.000000</td>\n",
              "      <td>18.000000</td>\n",
              "    </tr>\n",
              "    <tr>\n",
              "      <th>75%</th>\n",
              "      <td>4.500000</td>\n",
              "      <td>2.516900e+04</td>\n",
              "      <td>30.000000</td>\n",
              "      <td>1.000000e+06</td>\n",
              "      <td>0.000000</td>\n",
              "      <td>0.000000</td>\n",
              "      <td>23.000000</td>\n",
              "    </tr>\n",
              "    <tr>\n",
              "      <th>max</th>\n",
              "      <td>5.000000</td>\n",
              "      <td>4.489389e+07</td>\n",
              "      <td>100.000000</td>\n",
              "      <td>1.000000e+09</td>\n",
              "      <td>1.000000</td>\n",
              "      <td>400.000000</td>\n",
              "      <td>32.000000</td>\n",
              "    </tr>\n",
              "  </tbody>\n",
              "</table>\n",
              "</div>"
            ],
            "text/plain": [
              "            Rating       Reviews  ...        Price   Category_2\n",
              "count  9135.000000  9.135000e+03  ...  9135.000000  9135.000000\n",
              "mean      4.176690  2.493186e+05  ...     1.185283    17.610728\n",
              "std       0.500816  1.717130e+06  ...    17.365220     7.342431\n",
              "min       1.000000  0.000000e+00  ...     0.000000     0.000000\n",
              "25%       4.100000  2.200000e+01  ...     0.000000    14.000000\n",
              "50%       4.200000  7.420000e+02  ...     0.000000    18.000000\n",
              "75%       4.500000  2.516900e+04  ...     0.000000    23.000000\n",
              "max       5.000000  4.489389e+07  ...   400.000000    32.000000\n",
              "\n",
              "[8 rows x 7 columns]"
            ]
          },
          "metadata": {},
          "execution_count": 23
        }
      ]
    },
    {
      "cell_type": "code",
      "metadata": {
        "id": "T9SBcy8j8DSC"
      },
      "source": [
        ""
      ],
      "execution_count": null,
      "outputs": []
    },
    {
      "cell_type": "markdown",
      "metadata": {
        "id": "CXmLwj8ly-1C"
      },
      "source": [
        "# 3. Data Visualization"
      ]
    },
    {
      "cell_type": "code",
      "metadata": {
        "colab": {
          "base_uri": "https://localhost:8080/"
        },
        "id": "8lOlticyzFlv",
        "outputId": "18ed1c8b-61cd-4441-c327-c9adcc10ff19"
      },
      "source": [
        "group = playstore.groupby('Category')\n",
        "a = group['Installs'].agg(np.mean)\n",
        "b = group['Price'].agg(np.sum)\n",
        "c = group['Reviews'].agg(np.mean)\n",
        "print (a, b, c)"
      ],
      "execution_count": null,
      "outputs": [
        {
          "output_type": "stream",
          "name": "stdout",
          "text": [
            "Category\n",
            "ART_AND_DESIGN         1.628411e+06\n",
            "AUTO_AND_VEHICLES      5.836028e+05\n",
            "BEAUTY                 2.914245e+05\n",
            "BOOKS_AND_REFERENCE    7.140871e+05\n",
            "BUSINESS               1.340196e+06\n",
            "COMICS                 3.448265e+05\n",
            "COMMUNICATION          1.864884e+07\n",
            "DATING                 6.692491e+05\n",
            "EDUCATION              2.511730e+06\n",
            "ENTERTAINMENT          1.056622e+07\n",
            "EVENTS                 1.872307e+05\n",
            "FAMILY                 3.717186e+06\n",
            "FINANCE                1.032324e+06\n",
            "FOOD_AND_DRINK         1.776887e+06\n",
            "GAME                   2.943307e+07\n",
            "HEALTH_AND_FITNESS     3.289439e+06\n",
            "HOUSE_AND_HOME         1.104595e+06\n",
            "LIBRARIES_AND_DEMO     7.518014e+05\n",
            "LIFESTYLE              1.269046e+06\n",
            "MAPS_AND_NAVIGATION    1.620647e+06\n",
            "MEDICAL                1.072440e+05\n",
            "NEWS_AND_MAGAZINES     1.968521e+07\n",
            "PARENTING              4.439076e+05\n",
            "PERSONALIZATION        2.827674e+06\n",
            "PHOTOGRAPHY            1.007046e+07\n",
            "PRODUCTIVITY           9.050537e+06\n",
            "SHOPPING               7.483825e+06\n",
            "SOCIAL                 4.406023e+06\n",
            "SPORTS                 3.662217e+06\n",
            "TOOLS                  4.785068e+06\n",
            "TRAVEL_AND_LOCAL       1.857636e+06\n",
            "VIDEO_PLAYERS          6.808151e+06\n",
            "WEATHER                2.443860e+06\n",
            "Name: Installs, dtype: float64 Category\n",
            "ART_AND_DESIGN            5.97\n",
            "AUTO_AND_VEHICLES        11.48\n",
            "BEAUTY                    0.00\n",
            "BOOKS_AND_REFERENCE     116.78\n",
            "BUSINESS                172.28\n",
            "COMICS                    0.00\n",
            "COMMUNICATION            68.18\n",
            "DATING                   23.45\n",
            "EDUCATION                17.96\n",
            "ENTERTAINMENT             2.99\n",
            "EVENTS                  109.99\n",
            "FAMILY                 2379.92\n",
            "FINANCE                2900.83\n",
            "FOOD_AND_DRINK            4.99\n",
            "GAME                    279.34\n",
            "HEALTH_AND_FITNESS       56.38\n",
            "HOUSE_AND_HOME            0.00\n",
            "LIBRARIES_AND_DEMO        0.99\n",
            "LIFESTYLE              2353.39\n",
            "MAPS_AND_NAVIGATION      14.96\n",
            "MEDICAL                1391.07\n",
            "NEWS_AND_MAGAZINES        3.98\n",
            "PARENTING                 4.99\n",
            "PERSONALIZATION         142.51\n",
            "PHOTOGRAPHY             124.32\n",
            "PRODUCTIVITY            232.97\n",
            "SHOPPING                  5.48\n",
            "SOCIAL                   15.97\n",
            "SPORTS                   87.02\n",
            "TOOLS                   235.97\n",
            "TRAVEL_AND_LOCAL         38.97\n",
            "VIDEO_PLAYERS             0.99\n",
            "WEATHER                  23.44\n",
            "Name: Price, dtype: float64 Category\n",
            "ART_AND_DESIGN         1.782439e+04\n",
            "AUTO_AND_VEHICLES      1.323096e+04\n",
            "BEAUTY                 3.975660e+03\n",
            "BOOKS_AND_REFERENCE    2.068582e+04\n",
            "BUSINESS               1.536240e+04\n",
            "COMICS                 1.208224e+04\n",
            "COMMUNICATION          4.419043e+05\n",
            "DATING                 1.839861e+04\n",
            "EDUCATION              6.377884e+04\n",
            "ENTERTAINMENT          1.621530e+05\n",
            "EVENTS                 2.221912e+03\n",
            "FAMILY                 1.591540e+05\n",
            "FINANCE                3.381877e+04\n",
            "FOOD_AND_DRINK         4.287507e+04\n",
            "GAME                   1.330281e+06\n",
            "HEALTH_AND_FITNESS     3.817291e+04\n",
            "HOUSE_AND_HOME         2.418441e+04\n",
            "LIBRARIES_AND_DEMO     1.233731e+04\n",
            "LIFESTYLE              2.523556e+04\n",
            "MAPS_AND_NAVIGATION    3.394591e+04\n",
            "MEDICAL                3.279832e+03\n",
            "NEWS_AND_MAGAZINES     4.559378e+04\n",
            "PARENTING              1.638333e+04\n",
            "PERSONALIZATION        9.901074e+04\n",
            "PHOTOGRAPHY            3.029269e+05\n",
            "PRODUCTIVITY           1.438466e+05\n",
            "SHOPPING               2.337216e+05\n",
            "SOCIAL                 1.543188e+05\n",
            "SPORTS                 1.690429e+05\n",
            "TOOLS                  1.428451e+05\n",
            "TRAVEL_AND_LOCAL       4.020539e+04\n",
            "VIDEO_PLAYERS          1.836710e+05\n",
            "WEATHER                6.835140e+04\n",
            "Name: Reviews, dtype: float64\n"
          ]
        }
      ]
    },
    {
      "cell_type": "code",
      "metadata": {
        "colab": {
          "base_uri": "https://localhost:8080/"
        },
        "id": "OU26NdHAejcW",
        "outputId": "c0f41f5c-8d7a-4e80-f871-f23ceac030b2"
      },
      "source": [
        "plt.figure(figsize=(18,6))\n",
        "plt.plot(a , 'o', color='y')\n",
        "plt.xticks(rotation=80)\n",
        "plt.title('Categories Vs Installs')\n",
        "plt.xlabel('Categories')\n",
        "plt.ylabel('Installs')\n",
        "plt.show()"
      ],
      "execution_count": null,
      "outputs": [
        {
          "output_type": "display_data",
          "data": {
            "image/png": "[encoded data removed]",
            "text/plain": [
              "<Figure size 1296x432 with 1 Axes>"
            ]
          },
          "metadata": {
            "needs_background": "light"
          }
        }
      ]
    },
    {
      "cell_type": "code",
      "metadata": {
        "id": "L86PAPknha14"
      },
      "source": [
        ""
      ],
      "execution_count": null,
      "outputs": []
    },
    {
      "cell_type": "code",
      "metadata": {
        "colab": {
          "base_uri": "https://localhost:8080/"
        },
        "id": "gf5oOq-ZgmO7",
        "outputId": "08857b92-42bf-4a22-8e94-3fcef79eb3f7"
      },
      "source": [
        "plt.figure(figsize=(18,6))\n",
        "plt.plot(b , 'r--', color='b')\n",
        "plt.xticks(rotation=80)\n",
        "plt.title('Categories Vs Pricing')\n",
        "plt.xlabel('Categories')\n",
        "plt.ylabel('Pricing')\n",
        "plt.show()"
      ],
      "execution_count": null,
      "outputs": [
        {
          "output_type": "display_data",
          "data": {
            "image/png": "[encoded data removed]",
            "text/plain": [
              "<Figure size 1296x432 with 1 Axes>"
            ]
          },
          "metadata": {
            "needs_background": "light"
          }
        }
      ]
    },
    {
      "cell_type": "code",
      "metadata": {
        "colab": {
          "base_uri": "https://localhost:8080/"
        },
        "id": "87X_eDU5hcWY",
        "outputId": "893f2d21-8acd-47ec-8812-009a7557149b"
      },
      "source": [
        "plt.figure(figsize=(18,6))\n",
        "plt.plot(c , 'r^')\n",
        "plt.xticks(rotation=80)\n",
        "plt.title('Categories Vs Reviews')\n",
        "plt.xlabel('Categories')\n",
        "plt.ylabel('Reviews')\n",
        "plt.show()"
      ],
      "execution_count": null,
      "outputs": [
        {
          "output_type": "display_data",
          "data": {
            "image/png": "[encoded data removed]",
            "text/plain": [
              "<Figure size 1296x432 with 1 Axes>"
            ]
          },
          "metadata": {
            "needs_background": "light"
          }
        }
      ]
    },
    {
      "cell_type": "code",
      "metadata": {
        "colab": {
          "base_uri": "https://localhost:8080/"
        },
        "id": "7YZg-5cijflQ",
        "outputId": "a0683eda-c42a-4422-fb37-b36afd6312a8"
      },
      "source": [
        "\n",
        "plt.figure(figsize=(28,15))\n",
        "playstore_matrix = playstore.copy()\n",
        "playstore_matrix.drop(labels= ['Category_2'], axis= 1, inplace = True) \n",
        "sns.heatmap(playstore_matrix.corr(), annot=True, cmap=sns.diverging_palette(240, 8, as_cmap=True))"
      ],
      "execution_count": null,
      "outputs": [
        {
          "output_type": "execute_result",
          "data": {
            "text/plain": [
              "<matplotlib.axes._subplots.AxesSubplot at 0x7f10e7b9f550>"
            ]
          },
          "metadata": {},
          "execution_count": 28
        },
        {
          "output_type": "display_data",
          "data": {
            "image/png": "[encoded data removed]",
            "text/plain": [
              "<Figure size 2016x1080 with 2 Axes>"
            ]
          },
          "metadata": {
            "needs_background": "light"
          }
        }
      ]
    },
    {
      "cell_type": "code",
      "metadata": {
        "colab": {
          "base_uri": "https://localhost:8080/"
        },
        "id": "C8kUBoabqdkZ",
        "outputId": "e0b1924f-75fb-463a-aff6-34c86b410e2f"
      },
      "source": [
        "\n",
        "\n",
        "sns.set(rc={'figure.figsize':(15,8)})\n",
        "sns.kdeplot(playstore.Rating, color='blue', shade=True)\n",
        "plt.xlabel('Rating')\n",
        "plt.ylabel('Frequency')\n",
        "plt.show()"
      ],
      "execution_count": null,
      "outputs": [
        {
          "output_type": "display_data",
          "data": {
            "image/png": "[encoded data removed]",
            "text/plain": [
              "<Figure size 1080x576 with 1 Axes>"
            ]
          },
          "metadata": {}
        }
      ]
    },
    {
      "cell_type": "markdown",
      "metadata": {
        "id": "-YOB2QrBGwxw"
      },
      "source": [
        "# 4.0 Data Mining Models"
      ]
    },
    {
      "cell_type": "markdown",
      "metadata": {
        "id": "km6Nj56uwbJE"
      },
      "source": [
        "### Creating Terms for Errors"
      ]
    },
    {
      "cell_type": "code",
      "metadata": {
        "id": "rd5NFE2Jwiml"
      },
      "source": [
        "def Evaluationmatrix (trueY, PredictedY):\n",
        "  print ('MSE:'+ str(metrics.mean_squared_error(trueY, PredictedY)))\n",
        "  print ('MAE:'+ str(metrics.mean_absolute_error(trueY, PredictedY)))\n",
        "  print ('R2_score'+ str(metrics.r2_score(trueY, PredictedY)))"
      ],
      "execution_count": null,
      "outputs": []
    },
    {
      "cell_type": "code",
      "metadata": {
        "id": "zM1KPLyYyNNp"
      },
      "source": [
        "def Evaluationmatrix_dict(trueY, PredictedY, name = 'Linear Integer'):\n",
        "  matrix = {}\n",
        "  matrix['Model Name'] = name\n",
        "  matrix['MSE'] = metrics.mean_squared_error(trueY, PredictedY)\n",
        "  matrix['MAE'] = metrics.mean_absolute_error(trueY, PredictedY)\n",
        "  matrix['R2_score'] = metrics.r2_score(trueY, PredictedY)\n",
        "\n",
        "  return matrix"
      ],
      "execution_count": null,
      "outputs": []
    },
    {
      "cell_type": "markdown",
      "metadata": {
        "id": "QR7s1l05MAXV"
      },
      "source": [
        "## 4.1 Linear Regression\n",
        "\n"
      ]
    },
    {
      "cell_type": "code",
      "metadata": {
        "colab": {
          "base_uri": "https://localhost:8080/"
        },
        "id": "Qv6GMX45MLL_",
        "outputId": "7c82bd0c-be4c-43d5-cf03-9a9a8723c396"
      },
      "source": [
        "#Label Encoding\n",
        "X = playstore.drop(labels= ['Category', 'Rating'], axis=1)\n",
        "y = playstore.Rating\n",
        "X_train, X_test, y_train, y_test = train_test_split(X, y, test_size=0.30)\n",
        "\n",
        "LR1= LinearRegression()\n",
        "LR1.fit(X_train, y_train)\n",
        "ResultLR = LR1.predict(X_test) \n",
        "\n",
        "MSElr = metrics.mean_squared_error(y_test, ResultLR)\n",
        "MAElr = metrics.mean_absolute_error(y_test, ResultLR)\n",
        "R2lr = metrics.r2_score(y_test, ResultLR)\n",
        "\n",
        "#EVALUATION\n",
        "playstore_result = pd.DataFrame()\n",
        "playstore_result = playstore_result.from_dict(Evaluationmatrix_dict(y_test, ResultLR, name = 'LR Label Encoding'), orient = \"index\")\n",
        "playstore_result = playstore_result.transpose()\n",
        "\n",
        "\n",
        "#Printing results\n",
        "\n",
        "print ('Label Encoding')\n",
        "print ('MSE:'+ str(MSElr))\n",
        "print ('MAE:'+ str(MAElr))\n",
        "print('R2_score'+ str(R2lr))"
      ],
      "execution_count": null,
      "outputs": [
        {
          "output_type": "stream",
          "name": "stdout",
          "text": [
            "Label Encoding\n",
            "MSE:0.22421104493625377\n",
            "MAE:0.3210037390206198\n",
            "R2_score0.010535340024554807\n"
          ]
        }
      ]
    },
    {
      "cell_type": "code",
      "metadata": {
        "colab": {
          "base_uri": "https://localhost:8080/"
        },
        "id": "Q3oYdK75T6GM",
        "outputId": "4964d9b5-18eb-4a6a-d000-aa9a90d0ade2"
      },
      "source": [
        "#Dummy Encoding\n",
        "X_l = playstore_dummies.drop(labels= ['Category_2', 'Rating'], axis=1)\n",
        "y_l = playstore_dummies.Rating\n",
        "X_train_l, X_test_l, y_train_l, y_test_l = train_test_split(X_l, y_l, test_size=0.30)\n",
        "\n",
        "LR2= LinearRegression()\n",
        "LR2.fit(X_train_l, y_train_l)\n",
        "ResultLR2 = LR2.predict(X_test_l) \n",
        "\n",
        "MSElr2 = metrics.mean_squared_error(y_test_l, ResultLR2)\n",
        "MAElr2 = metrics.mean_absolute_error(y_test_l, ResultLR2)\n",
        "R2lr2 = metrics.r2_score(y_test_l, ResultLR2)\n",
        "\n",
        "#EVALUATION\n",
        "\n",
        "playstore_result = playstore_result.append(Evaluationmatrix_dict(y_test_l, ResultLR2, name = 'LR Dummy Encoding'), ignore_index = True)\n",
        "\n",
        "\n",
        "\n",
        "#Printing results\n",
        "\n",
        "print ('Dummy Encoding')\n",
        "print ('MSE:'+ str(MSElr2))\n",
        "print ('MAE:'+ str(MAElr2))\n",
        "print('R2_score'+ str(R2lr2))\n"
      ],
      "execution_count": null,
      "outputs": [
        {
          "output_type": "stream",
          "name": "stdout",
          "text": [
            "Dummy Encoding\n",
            "MSE:0.2494730931432383\n",
            "MAE:0.32944327329591805\n",
            "R2_score0.031005325542299733\n"
          ]
        }
      ]
    },
    {
      "cell_type": "markdown",
      "metadata": {
        "id": "sr9HUWGIMAve"
      },
      "source": [
        "## 4.2  Support Vector Machine"
      ]
    },
    {
      "cell_type": "code",
      "metadata": {
        "colab": {
          "base_uri": "https://localhost:8080/"
        },
        "id": "SOqLO7SgZSXS",
        "outputId": "070f6827-4da7-4c07-beaf-cc5d43d76c73"
      },
      "source": [
        "#Label Encoding\n",
        "X = playstore.drop(labels= ['Category', 'Rating'], axis=1)\n",
        "y = playstore.Rating\n",
        "X_train, X_test, y_train, y_test = train_test_split(X, y, test_size=0.30)\n",
        "\n",
        "SVM1= svm.SVR()\n",
        "SVM1.fit(X_train, y_train)\n",
        "ResultSVM = SVM1.predict(X_test) \n",
        "\n",
        "MSEsvm = metrics.mean_squared_error(y_test, ResultSVM)\n",
        "MAEsvm = metrics.mean_absolute_error(y_test, ResultSVM)\n",
        "R2svm = metrics.r2_score(y_test, ResultSVM)\n",
        "\n",
        "#for Result\n",
        "\n",
        "playstore_result = playstore_result.append(Evaluationmatrix_dict(y_test,ResultSVM, name = 'SVM Label encoding'), ignore_index= True)\n",
        "\n",
        "\n",
        "\n",
        "#Printing results\n",
        "\n",
        "print ('Label Encoding')\n",
        "print ('MSE:'+ str(MSEsvm))\n",
        "print ('MAE:'+ str(MAEsvm))\n",
        "print('R2_score'+ str(R2svm))"
      ],
      "execution_count": null,
      "outputs": [
        {
          "output_type": "stream",
          "name": "stdout",
          "text": [
            "Label Encoding\n",
            "MSE:0.2529238527936864\n",
            "MAE:0.32278366074785186\n",
            "R2_score-0.00883944000707726\n"
          ]
        }
      ]
    },
    {
      "cell_type": "code",
      "metadata": {
        "colab": {
          "base_uri": "https://localhost:8080/"
        },
        "id": "oa46GQCud66z",
        "outputId": "6b38f4a0-b783-421f-a4d2-d27a91a7c83e"
      },
      "source": [
        "#Dummy Encoding\n",
        "X_l = playstore_dummies.drop(labels= ['Category_2', 'Rating'], axis=1)\n",
        "y_l = playstore_dummies.Rating\n",
        "X_train_l, X_test_l, y_train_l, y_test_l = train_test_split(X_l, y_l, test_size=0.30)\n",
        "\n",
        "SVM2= svm.SVR()\n",
        "SVM2.fit(X_train_l, y_train_l)\n",
        "ResultSVM2 = SVM2.predict(X_test_l) \n",
        "\n",
        "MSEsvm2 = metrics.mean_squared_error(y_test_l, ResultSVM2)\n",
        "MAEsvm2 = metrics.mean_absolute_error(y_test_l, ResultSVM2)\n",
        "R2svm2 = metrics.r2_score(y_test_l, ResultSVM2)\n",
        "\n",
        "#EVALUATION\n",
        "\n",
        "playstore_result = playstore_result.append(Evaluationmatrix_dict(y_test_l, ResultSVM2, name = 'SVM Dummy encoding'), ignore_index = True)\n",
        "\n",
        "\n",
        "\n",
        "#Printing results\n",
        "\n",
        "print ('Dummy Encoding')\n",
        "print ('MSE:'+ str(MSEsvm2))\n",
        "print ('MAE:'+ str(MAEsvm2))\n",
        "print('R2_score'+ str(R2svm2))"
      ],
      "execution_count": null,
      "outputs": [
        {
          "output_type": "stream",
          "name": "stdout",
          "text": [
            "Dummy Encoding\n",
            "MSE:0.2544426152681154\n",
            "MAE:0.31440289118142595\n",
            "R2_score0.011645874374082155\n"
          ]
        }
      ]
    },
    {
      "cell_type": "markdown",
      "metadata": {
        "id": "mJgx65CxvbUe"
      },
      "source": [
        "## 4.3 Random Forest Regression"
      ]
    },
    {
      "cell_type": "code",
      "metadata": {
        "id": "dz62tkcpvkCa",
        "colab": {
          "base_uri": "https://localhost:8080/"
        },
        "outputId": "c60d98fc-ac93-408d-f691-16e6b6c704df"
      },
      "source": [
        "#Label Encoding\n",
        "\n",
        "\n",
        "X = playstore.drop(labels= ['Category', 'Rating'], axis=1)\n",
        "y = playstore.Rating\n",
        "X_train, X_test, y_train, y_test = train_test_split(X, y, test_size=0.30, random_state=10)\n",
        "\n",
        "RF1= RandomForestRegressor()\n",
        "RF1.fit(X_train, y_train)\n",
        "ResultRF = RF1.predict(X_test) \n",
        "\n",
        "MSErf = metrics.mean_squared_error(y_test, ResultRF)\n",
        "MAErf = metrics.mean_absolute_error(y_test, ResultRF)\n",
        "R2rf = metrics.r2_score(y_test, ResultRF)\n",
        "\n",
        "#For result\n",
        "playstore_result = playstore_result.append(Evaluationmatrix_dict(y_test,ResultRF, name = 'RF Label encoding'), ignore_index= True)\n",
        "\n",
        "#Printing results\n",
        "\n",
        "print ('Label Encoding')\n",
        "print ('MSE:'+ str(MSErf))\n",
        "print ('MAE:'+ str(MAErf))\n",
        "print('R2_score'+ str(R2rf))\n",
        "\n"
      ],
      "execution_count": null,
      "outputs": [
        {
          "output_type": "stream",
          "name": "stdout",
          "text": [
            "Label Encoding\n",
            "MSE:0.2316325254782078\n",
            "MAE:0.3197259171611512\n",
            "R2_score0.07209609906188719\n"
          ]
        }
      ]
    },
    {
      "cell_type": "code",
      "metadata": {
        "colab": {
          "base_uri": "https://localhost:8080/"
        },
        "id": "JzAzBwsajiEL",
        "outputId": "3a678131-bca5-4b1a-c5b4-fddbf0a8a28a"
      },
      "source": [
        "#Dummy Encoding\n",
        "X_l = playstore_dummies.drop(labels= ['Category_2', 'Rating'], axis=1)\n",
        "y_l = playstore_dummies.Rating\n",
        "X_train_l, X_test_l, y_train_l, y_test_l = train_test_split(X_l, y_l, test_size=0.30, random_state=10)\n",
        "\n",
        "RF2= RandomForestRegressor()\n",
        "RF2.fit(X_train_l, y_train_l)\n",
        "ResultRF2 = RF2.predict(X_test_l) \n",
        "\n",
        "MSErf2 = metrics.mean_squared_error(y_test_l, ResultRF2)\n",
        "MAErf2 = metrics.mean_absolute_error(y_test_l, ResultRF2)\n",
        "R2rf2 = metrics.r2_score(y_test_l, ResultRF2)\n",
        "\n",
        "#EVALUATION\n",
        "\n",
        "playstore_result = playstore_result.append(Evaluationmatrix_dict(y_test_l, ResultRF2, name = 'RF Dummy encoding'), ignore_index = True)\n",
        "\n",
        "\n",
        "\n",
        "#Printing results\n",
        "\n",
        "print ('Dummy Encoding')\n",
        "print ('MSE:'+ str(MSErf2))\n",
        "print ('MAE:'+ str(MAErf2))\n",
        "print('R2_score'+ str(R2rf2))"
      ],
      "execution_count": null,
      "outputs": [
        {
          "output_type": "stream",
          "name": "stdout",
          "text": [
            "Dummy Encoding\n",
            "MSE:0.22589654764603406\n",
            "MAE:0.3119063918958376\n",
            "R2_score0.09507403014121352\n"
          ]
        }
      ]
    },
    {
      "cell_type": "markdown",
      "metadata": {
        "id": "iTdd8qaXlxov"
      },
      "source": [
        "## 4.4 KNN"
      ]
    },
    {
      "cell_type": "code",
      "metadata": {
        "colab": {
          "base_uri": "https://localhost:8080/"
        },
        "id": "5wihGivsl3Yx",
        "outputId": "4ee668cb-837f-4bd9-9c88-1ab791b62d5b"
      },
      "source": [
        " #Label Encoding\n",
        "from sklearn.neighbors import KNeighborsRegressor\n",
        "\n",
        "X = playstore.drop(labels= ['Category', 'Rating'], axis=1)\n",
        "y = playstore.Rating\n",
        "X_train, X_test, y_train, y_test = train_test_split(X, y, test_size=0.30, random_state=10)\n",
        "\n",
        "KNN1 = KNeighborsRegressor(n_neighbors = 15)\n",
        "KNN1.fit(X_train, y_train)\n",
        "Resultknn = KNN1.predict(X_test) \n",
        "\n",
        "MSEknn = metrics.mean_squared_error(y_test, Resultknn)\n",
        "MAEknn = metrics.mean_absolute_error(y_test, Resultknn)\n",
        "R2knn = metrics.r2_score(y_test, Resultknn)\n",
        "\n",
        "#For result\n",
        "playstore_result = playstore_result.append(Evaluationmatrix_dict(y_test,Resultknn, name = 'KNN Label encoding'), ignore_index= True)\n",
        "\n",
        "#Printing results\n",
        "\n",
        "print ('Label Encoding')\n",
        "print ('MSE:'+ str(MSEknn))\n",
        "print ('MAE:'+ str(MAEknn))\n",
        "print('R2_score'+ str(R2knn))\n"
      ],
      "execution_count": null,
      "outputs": [
        {
          "output_type": "stream",
          "name": "stdout",
          "text": [
            "Label Encoding\n",
            "MSE:0.23665868860976647\n",
            "MAE:0.33173062883649346\n",
            "R2_score0.051961636654692334\n"
          ]
        }
      ]
    },
    {
      "cell_type": "code",
      "metadata": {
        "colab": {
          "base_uri": "https://localhost:8080/"
        },
        "id": "g8cdHIHU34hh",
        "outputId": "447e135c-6791-4ed2-c48a-2ce43fcb9d8a"
      },
      "source": [
        "#Dummy Encoding\n",
        "X_l = playstore_dummies.drop(labels= ['Category_2', 'Rating'], axis=1)\n",
        "y_l = playstore_dummies.Rating\n",
        "X_train_l, X_test_l, y_train_l, y_test_l = train_test_split(X_l, y_l, test_size=0.30, random_state=10)\n",
        "\n",
        "KNN2 = KNeighborsRegressor(n_neighbors = 15)\n",
        "KNN2.fit(X_train_l, y_train_l)\n",
        "Resultknn2 = KNN2.predict(X_test_l) \n",
        "\n",
        "MSEknn2 = metrics.mean_squared_error(y_test_l, Resultknn2)\n",
        "MAEknn2 = metrics.mean_absolute_error(y_test_l, Resultknn2)\n",
        "R2knn2 = metrics.r2_score(y_test_l, Resultknn2)\n",
        "\n",
        "#EVALUATION\n",
        "\n",
        "playstore_result = playstore_result.append(Evaluationmatrix_dict(y_test_l, Resultknn2, name = 'KNN Dummy encoding'), ignore_index = True)\n",
        "\n",
        "\n",
        "\n",
        "#Printing results\n",
        "\n",
        "print ('Dummy Encoding')\n",
        "print ('MSE:'+ str(MSEknn2))\n",
        "print ('MAE:'+ str(MAEknn2))\n",
        "print('R2_score'+ str(R2knn2))"
      ],
      "execution_count": null,
      "outputs": [
        {
          "output_type": "stream",
          "name": "stdout",
          "text": [
            "Dummy Encoding\n",
            "MSE:0.23490010393284702\n",
            "MAE:0.32910074862025235\n",
            "R2_score0.059006405425721664\n"
          ]
        }
      ]
    },
    {
      "cell_type": "markdown",
      "metadata": {
        "id": "UCa6qlZWn5Zc"
      },
      "source": [
        "## 4.5 Deep Neural Network"
      ]
    },
    {
      "cell_type": "code",
      "metadata": {
        "colab": {
          "base_uri": "https://localhost:8080/"
        },
        "id": "-mAUvbvuoAv4",
        "outputId": "ad0501ae-5943-44ee-c49a-a8035518c2e1"
      },
      "source": [
        "#LABEL Encoding\n",
        "X = playstore.drop(labels= ['Category', 'Rating'], axis=1)\n",
        "y = playstore.Rating\n",
        "X_train, X_test, y_train, y_test = train_test_split(X, y, test_size=0.30, random_state=10)\n",
        "\n",
        "\n",
        "DNN1= MLPRegressor(hidden_layer_sizes=(100,100,70,40),max_iter=30,random_state=1,activation='tanh')\n",
        "DNN1.fit(X_train, y_train)\n",
        "Resultdnn = DNN1.predict(X_test) \n",
        "\n",
        "MSEdnn = metrics.mean_squared_error(y_test, Resultdnn)\n",
        "MAEdnn = metrics.mean_absolute_error(y_test, Resultdnn)\n",
        "R2dnn = metrics.r2_score(y_test, Resultdnn)\n",
        "\n",
        "#for Result\n",
        "playstore_result = playstore_result.append(Evaluationmatrix_dict(y_test,Resultdnn, name = 'DNN Label encoding'), ignore_index= True)\n",
        "\n",
        "#Printing results\n",
        "\n",
        "print ('Label Encoding')\n",
        "print ('MSE:'+ str(MSEdnn))\n",
        "print ('MAE:'+ str(MAEdnn))\n",
        "print('R2_score'+ str(R2dnn))\n"
      ],
      "execution_count": null,
      "outputs": [
        {
          "output_type": "stream",
          "name": "stdout",
          "text": [
            "Label Encoding\n",
            "MSE:0.24073913880667402\n",
            "MAE:0.33242602312563196\n",
            "R2_score0.03561563495446718\n"
          ]
        }
      ]
    },
    {
      "cell_type": "code",
      "metadata": {
        "colab": {
          "base_uri": "https://localhost:8080/"
        },
        "id": "kM8ywOznqUPk",
        "outputId": "abda4a4f-ae27-44cc-b0e8-c0526aee11ce"
      },
      "source": [
        "#Dummy Encoding\n",
        "X_l = playstore_dummies.drop(labels= ['Category_2', 'Rating'], axis=1)\n",
        "y_l = playstore_dummies.Rating\n",
        "X_train_l, X_test_l, y_train_l, y_test_l = train_test_split(X_l, y_l, test_size=0.30, random_state=10)\n",
        "\n",
        "DNN2= MLPRegressor(hidden_layer_sizes=(100,100,70,40),max_iter=30,random_state=1,activation='tanh')\n",
        "DNN2.fit(X_train_l, y_train_l)\n",
        "Resultdnn2 = DNN2.predict(X_test_l) \n",
        "\n",
        "MSEdnn2 = metrics.mean_squared_error(y_test_l, Resultdnn2)\n",
        "MAEdnn2 = metrics.mean_absolute_error(y_test_l, Resultdnn2)\n",
        "R2dnn2 = metrics.r2_score(y_test_l, Resultdnn2)\n",
        "\n",
        "#EVALUATION\n",
        "\n",
        "playstore_result = playstore_result.append(Evaluationmatrix_dict(y_test_l, Resultdnn2, name = 'DNN Dummy encoding'), ignore_index = True)\n",
        "\n",
        "\n",
        "\n",
        "#Printing results\n",
        "\n",
        "print ('Dummy Encoding')\n",
        "print ('MSE:'+ str(MSEdnn2))\n",
        "print ('MAE:'+ str(MAEdnn2))\n",
        "print('R2_score'+ str(R2dnn2))"
      ],
      "execution_count": null,
      "outputs": [
        {
          "output_type": "stream",
          "name": "stdout",
          "text": [
            "Dummy Encoding\n",
            "MSE:0.2408244605644617\n",
            "MAE:0.31864012115021734\n",
            "R2_score0.03527384188493776\n"
          ]
        }
      ]
    },
    {
      "cell_type": "markdown",
      "metadata": {
        "id": "62fplREXFClE"
      },
      "source": [
        "##4.6 Keras Neural Network"
      ]
    },
    {
      "cell_type": "code",
      "metadata": {
        "id": "IlcqBESxFIhB"
      },
      "source": [
        "from keras.models import Sequential\n",
        "from keras.wrappers.scikit_learn import KerasRegressor\n",
        "from keras.layers import Dense\n",
        "from sklearn.model_selection import KFold\n",
        "from sklearn.pipeline import Pipeline\n",
        "from sklearn.model_selection import cross_val_score\n",
        "from sklearn.metrics import mean_squared_error, mean_absolute_error\n",
        "\n",
        "X = playstore.drop(labels= ['Category', 'Rating'], axis=1)\n",
        "y = playstore.Rating\n",
        "\n",
        "X_train, X_test, y_train, y_test = train_test_split(X, y, test_size = 0.30, random_state = 10)\n"
      ],
      "execution_count": null,
      "outputs": []
    },
    {
      "cell_type": "code",
      "metadata": {
        "colab": {
          "base_uri": "https://localhost:8080/"
        },
        "id": "Ptait7mtFzwx",
        "outputId": "385301c5-2b18-4777-c283-2e7b8ddf6e59"
      },
      "source": [
        "#Scalling the data by Standardize function\n",
        "\n",
        "from sklearn.preprocessing import StandardScaler\n",
        "Stdscaler=StandardScaler()\n",
        "Stdscaler.fit(X_train)\n",
        "\n",
        "Stdscaled_X_train = Stdscaler.transform(X_train)\n",
        "Stdscaled_X_test = Stdscaler.transform(X_test)\n",
        "\n",
        "#Experiments\n",
        "NNmodel = Sequential()\n",
        "NNmodel.add(Dense(128, input_dim=6, activation='relu'))\n",
        "NNmodel.add(Dense(64, activation='relu'))\n",
        "#Output layer\n",
        "NNmodel.add(Dense(1, activation='linear'))\n",
        "\n",
        "NNmodel.compile(loss='mean_squared_error', optimizer='adam', metrics=['mae'])\n",
        "NNmodel.summary()\n",
        "\n",
        "history = NNmodel.fit(Stdscaled_X_train, y_train, validation_split=0.30, epochs =100)\n",
        "\n",
        "\n",
        "############################################\n",
        "#Predict on test data\n",
        "predictions = NNmodel.predict(Stdscaled_X_test[:5])\n",
        "print(\"Predicted values are: \", predictions)\n",
        "print(\"Real values are: \", y_test[:5])\n",
        "##############################################\n",
        "\n",
        "#Comparison with other models..\n",
        "#Neural network - from the current code\n",
        "MSE_NN, MAE_NN = NNmodel.evaluate(Stdscaled_X_test, y_test)\n",
        "\n",
        "print(\"Neural Network with Label encoding\")\n",
        "print('MSE: ', MSE_NN)\n",
        "print('MAE: ', MAE_NN)"
      ],
      "execution_count": null,
      "outputs": [
        {
          "output_type": "stream",
          "name": "stdout",
          "text": [
            "Model: \"sequential_1\"\n",
            "_________________________________________________________________\n",
            " Layer (type)                Output Shape              Param #   \n",
            "=================================================================\n",
            " dense_3 (Dense)             (None, 128)               896       \n",
            "                                                                 \n",
            " dense_4 (Dense)             (None, 64)                8256      \n",
            "                                                                 \n",
            " dense_5 (Dense)             (None, 1)                 65        \n",
            "                                                                 \n",
            "=================================================================\n",
            "Total params: 9,217\n",
            "Trainable params: 9,217\n",
            "Non-trainable params: 0\n",
            "_________________________________________________________________\n",
            "Epoch 1/100\n",
            "140/140 [==============================] - 1s 4ms/step - loss: 3.7252 - mae: 1.4370 - val_loss: 0.8029 - val_mae: 0.6848\n",
            "Epoch 2/100\n",
            "140/140 [==============================] - 0s 3ms/step - loss: 0.5455 - mae: 0.5421 - val_loss: 0.4419 - val_mae: 0.4972\n",
            "Epoch 3/100\n",
            "140/140 [==============================] - 0s 3ms/step - loss: 0.3373 - mae: 0.4088 - val_loss: 0.3003 - val_mae: 0.3823\n",
            "Epoch 4/100\n",
            "140/140 [==============================] - 0s 3ms/step - loss: 0.2804 - mae: 0.3641 - val_loss: 0.2779 - val_mae: 0.3509\n",
            "Epoch 5/100\n",
            "140/140 [==============================] - 0s 3ms/step - loss: 0.2601 - mae: 0.3458 - val_loss: 0.2631 - val_mae: 0.3591\n",
            "Epoch 6/100\n",
            "140/140 [==============================] - 0s 3ms/step - loss: 0.2490 - mae: 0.3369 - val_loss: 0.2596 - val_mae: 0.3551\n",
            "Epoch 7/100\n",
            "140/140 [==============================] - 0s 3ms/step - loss: 0.2486 - mae: 0.3361 - val_loss: 0.2596 - val_mae: 0.3618\n",
            "Epoch 8/100\n",
            "140/140 [==============================] - 0s 3ms/step - loss: 0.2483 - mae: 0.3353 - val_loss: 0.2605 - val_mae: 0.3510\n",
            "Epoch 9/100\n",
            "140/140 [==============================] - 0s 3ms/step - loss: 0.2462 - mae: 0.3349 - val_loss: 0.2594 - val_mae: 0.3589\n",
            "Epoch 10/100\n",
            "140/140 [==============================] - 0s 3ms/step - loss: 0.2484 - mae: 0.3385 - val_loss: 0.2629 - val_mae: 0.3615\n",
            "Epoch 11/100\n",
            "140/140 [==============================] - 0s 3ms/step - loss: 0.2522 - mae: 0.3421 - val_loss: 0.2569 - val_mae: 0.3538\n",
            "Epoch 12/100\n",
            "140/140 [==============================] - 0s 3ms/step - loss: 0.2502 - mae: 0.3372 - val_loss: 0.2542 - val_mae: 0.3402\n",
            "Epoch 13/100\n",
            "140/140 [==============================] - 0s 3ms/step - loss: 0.2456 - mae: 0.3344 - val_loss: 0.2540 - val_mae: 0.3399\n",
            "Epoch 14/100\n",
            "140/140 [==============================] - 0s 3ms/step - loss: 0.2456 - mae: 0.3324 - val_loss: 0.2609 - val_mae: 0.3654\n",
            "Epoch 15/100\n",
            "140/140 [==============================] - 0s 3ms/step - loss: 0.2469 - mae: 0.3360 - val_loss: 0.2608 - val_mae: 0.3645\n",
            "Epoch 16/100\n",
            "140/140 [==============================] - 0s 3ms/step - loss: 0.2483 - mae: 0.3371 - val_loss: 0.2547 - val_mae: 0.3412\n",
            "Epoch 17/100\n",
            "140/140 [==============================] - 0s 3ms/step - loss: 0.2470 - mae: 0.3361 - val_loss: 0.2730 - val_mae: 0.3451\n",
            "Epoch 18/100\n",
            "140/140 [==============================] - 0s 3ms/step - loss: 0.2502 - mae: 0.3379 - val_loss: 0.2555 - val_mae: 0.3370\n",
            "Epoch 19/100\n",
            "140/140 [==============================] - 0s 3ms/step - loss: 0.2433 - mae: 0.3313 - val_loss: 0.2529 - val_mae: 0.3312\n",
            "Epoch 20/100\n",
            "140/140 [==============================] - 0s 3ms/step - loss: 0.2526 - mae: 0.3394 - val_loss: 0.2557 - val_mae: 0.3290\n",
            "Epoch 21/100\n",
            "140/140 [==============================] - 0s 3ms/step - loss: 0.2469 - mae: 0.3358 - val_loss: 0.2552 - val_mae: 0.3382\n",
            "Epoch 22/100\n",
            "140/140 [==============================] - 0s 3ms/step - loss: 0.2464 - mae: 0.3361 - val_loss: 0.2549 - val_mae: 0.3455\n",
            "Epoch 23/100\n",
            "140/140 [==============================] - 0s 3ms/step - loss: 0.2521 - mae: 0.3383 - val_loss: 0.2530 - val_mae: 0.3410\n",
            "Epoch 24/100\n",
            "140/140 [==============================] - 0s 3ms/step - loss: 0.2482 - mae: 0.3394 - val_loss: 0.2611 - val_mae: 0.3563\n",
            "Epoch 25/100\n",
            "140/140 [==============================] - 0s 4ms/step - loss: 0.2476 - mae: 0.3384 - val_loss: 0.2668 - val_mae: 0.3365\n",
            "Epoch 26/100\n",
            "140/140 [==============================] - 0s 3ms/step - loss: 0.2466 - mae: 0.3347 - val_loss: 0.2560 - val_mae: 0.3479\n",
            "Epoch 27/100\n",
            "140/140 [==============================] - 0s 3ms/step - loss: 0.2450 - mae: 0.3334 - val_loss: 0.2553 - val_mae: 0.3471\n",
            "Epoch 28/100\n",
            "140/140 [==============================] - 0s 3ms/step - loss: 0.2446 - mae: 0.3333 - val_loss: 0.2640 - val_mae: 0.3586\n",
            "Epoch 29/100\n",
            "140/140 [==============================] - 0s 3ms/step - loss: 0.2488 - mae: 0.3353 - val_loss: 0.2584 - val_mae: 0.3520\n",
            "Epoch 30/100\n",
            "140/140 [==============================] - 0s 3ms/step - loss: 0.2451 - mae: 0.3358 - val_loss: 0.2525 - val_mae: 0.3508\n",
            "Epoch 31/100\n",
            "140/140 [==============================] - 0s 3ms/step - loss: 0.2427 - mae: 0.3304 - val_loss: 0.2551 - val_mae: 0.3310\n",
            "Epoch 32/100\n",
            "140/140 [==============================] - 0s 3ms/step - loss: 0.2459 - mae: 0.3348 - val_loss: 0.2582 - val_mae: 0.3288\n",
            "Epoch 33/100\n",
            "140/140 [==============================] - 0s 3ms/step - loss: 0.2451 - mae: 0.3330 - val_loss: 0.2805 - val_mae: 0.3464\n",
            "Epoch 34/100\n",
            "140/140 [==============================] - 0s 3ms/step - loss: 0.2485 - mae: 0.3397 - val_loss: 0.2694 - val_mae: 0.3389\n",
            "Epoch 35/100\n",
            "140/140 [==============================] - 0s 3ms/step - loss: 0.2429 - mae: 0.3329 - val_loss: 0.2618 - val_mae: 0.3545\n",
            "Epoch 36/100\n",
            "140/140 [==============================] - 0s 3ms/step - loss: 0.2441 - mae: 0.3329 - val_loss: 0.2695 - val_mae: 0.3849\n",
            "Epoch 37/100\n",
            "140/140 [==============================] - 0s 3ms/step - loss: 0.2447 - mae: 0.3325 - val_loss: 0.2504 - val_mae: 0.3434\n",
            "Epoch 38/100\n",
            "140/140 [==============================] - 0s 3ms/step - loss: 0.2430 - mae: 0.3325 - val_loss: 0.2518 - val_mae: 0.3302\n",
            "Epoch 39/100\n",
            "140/140 [==============================] - 0s 3ms/step - loss: 0.2468 - mae: 0.3358 - val_loss: 0.2587 - val_mae: 0.3391\n",
            "Epoch 40/100\n",
            "140/140 [==============================] - 0s 3ms/step - loss: 0.2483 - mae: 0.3365 - val_loss: 0.2575 - val_mae: 0.3406\n",
            "Epoch 41/100\n",
            "140/140 [==============================] - 0s 3ms/step - loss: 0.2416 - mae: 0.3305 - val_loss: 0.2688 - val_mae: 0.3416\n",
            "Epoch 42/100\n",
            "140/140 [==============================] - 0s 3ms/step - loss: 0.2432 - mae: 0.3313 - val_loss: 0.2506 - val_mae: 0.3475\n",
            "Epoch 43/100\n",
            "140/140 [==============================] - 0s 3ms/step - loss: 0.2499 - mae: 0.3366 - val_loss: 0.2574 - val_mae: 0.3601\n",
            "Epoch 44/100\n",
            "140/140 [==============================] - 0s 3ms/step - loss: 0.2523 - mae: 0.3442 - val_loss: 0.2627 - val_mae: 0.3666\n",
            "Epoch 45/100\n",
            "140/140 [==============================] - 0s 3ms/step - loss: 0.2416 - mae: 0.3311 - val_loss: 0.2590 - val_mae: 0.3299\n",
            "Epoch 46/100\n",
            "140/140 [==============================] - 0s 3ms/step - loss: 0.2428 - mae: 0.3314 - val_loss: 0.2544 - val_mae: 0.3562\n",
            "Epoch 47/100\n",
            "140/140 [==============================] - 0s 3ms/step - loss: 0.2428 - mae: 0.3306 - val_loss: 0.2503 - val_mae: 0.3343\n",
            "Epoch 48/100\n",
            "140/140 [==============================] - 0s 3ms/step - loss: 0.2464 - mae: 0.3363 - val_loss: 0.2573 - val_mae: 0.3254\n",
            "Epoch 49/100\n",
            "140/140 [==============================] - 0s 3ms/step - loss: 0.2434 - mae: 0.3308 - val_loss: 0.2543 - val_mae: 0.3231\n",
            "Epoch 50/100\n",
            "140/140 [==============================] - 0s 3ms/step - loss: 0.2491 - mae: 0.3386 - val_loss: 0.2549 - val_mae: 0.3560\n",
            "Epoch 51/100\n",
            "140/140 [==============================] - 0s 3ms/step - loss: 0.2447 - mae: 0.3316 - val_loss: 0.2521 - val_mae: 0.3383\n",
            "Epoch 52/100\n",
            "140/140 [==============================] - 0s 3ms/step - loss: 0.2454 - mae: 0.3360 - val_loss: 0.2522 - val_mae: 0.3313\n",
            "Epoch 53/100\n",
            "140/140 [==============================] - 0s 3ms/step - loss: 0.2428 - mae: 0.3340 - val_loss: 0.2591 - val_mae: 0.3612\n",
            "Epoch 54/100\n",
            "140/140 [==============================] - 0s 3ms/step - loss: 0.2419 - mae: 0.3290 - val_loss: 0.2491 - val_mae: 0.3429\n",
            "Epoch 55/100\n",
            "140/140 [==============================] - 0s 3ms/step - loss: 0.2407 - mae: 0.3294 - val_loss: 0.2495 - val_mae: 0.3329\n",
            "Epoch 56/100\n",
            "140/140 [==============================] - 0s 3ms/step - loss: 0.2406 - mae: 0.3293 - val_loss: 0.2571 - val_mae: 0.3318\n",
            "Epoch 57/100\n",
            "140/140 [==============================] - 0s 3ms/step - loss: 0.2422 - mae: 0.3299 - val_loss: 0.2506 - val_mae: 0.3501\n",
            "Epoch 58/100\n",
            "140/140 [==============================] - 0s 3ms/step - loss: 0.2434 - mae: 0.3307 - val_loss: 0.2589 - val_mae: 0.3488\n",
            "Epoch 59/100\n",
            "140/140 [==============================] - 0s 3ms/step - loss: 0.2428 - mae: 0.3316 - val_loss: 0.2587 - val_mae: 0.3600\n",
            "Epoch 60/100\n",
            "140/140 [==============================] - 0s 3ms/step - loss: 0.2417 - mae: 0.3305 - val_loss: 0.2486 - val_mae: 0.3320\n",
            "Epoch 61/100\n",
            "140/140 [==============================] - 0s 3ms/step - loss: 0.2424 - mae: 0.3328 - val_loss: 0.2736 - val_mae: 0.3430\n",
            "Epoch 62/100\n",
            "140/140 [==============================] - 0s 3ms/step - loss: 0.2455 - mae: 0.3357 - val_loss: 0.2564 - val_mae: 0.3297\n",
            "Epoch 63/100\n",
            "140/140 [==============================] - 0s 3ms/step - loss: 0.2479 - mae: 0.3384 - val_loss: 0.2507 - val_mae: 0.3400\n",
            "Epoch 64/100\n",
            "140/140 [==============================] - 0s 3ms/step - loss: 0.2431 - mae: 0.3337 - val_loss: 0.2524 - val_mae: 0.3353\n",
            "Epoch 65/100\n",
            "140/140 [==============================] - 0s 3ms/step - loss: 0.2394 - mae: 0.3273 - val_loss: 0.2531 - val_mae: 0.3259\n",
            "Epoch 66/100\n",
            "140/140 [==============================] - 0s 3ms/step - loss: 0.2440 - mae: 0.3339 - val_loss: 0.2582 - val_mae: 0.3311\n",
            "Epoch 67/100\n",
            "140/140 [==============================] - 0s 3ms/step - loss: 0.2453 - mae: 0.3336 - val_loss: 0.2527 - val_mae: 0.3289\n",
            "Epoch 68/100\n",
            "140/140 [==============================] - 0s 3ms/step - loss: 0.2432 - mae: 0.3330 - val_loss: 0.2544 - val_mae: 0.3423\n",
            "Epoch 69/100\n",
            "140/140 [==============================] - 0s 3ms/step - loss: 0.2427 - mae: 0.3300 - val_loss: 0.2479 - val_mae: 0.3370\n",
            "Epoch 70/100\n",
            "140/140 [==============================] - 0s 3ms/step - loss: 0.2416 - mae: 0.3301 - val_loss: 0.2493 - val_mae: 0.3350\n",
            "Epoch 71/100\n",
            "140/140 [==============================] - 0s 3ms/step - loss: 0.2408 - mae: 0.3301 - val_loss: 0.2544 - val_mae: 0.3293\n",
            "Epoch 72/100\n",
            "140/140 [==============================] - 0s 3ms/step - loss: 0.2414 - mae: 0.3291 - val_loss: 0.2479 - val_mae: 0.3314\n",
            "Epoch 73/100\n",
            "140/140 [==============================] - 0s 3ms/step - loss: 0.2432 - mae: 0.3313 - val_loss: 0.2538 - val_mae: 0.3436\n",
            "Epoch 74/100\n",
            "140/140 [==============================] - 0s 3ms/step - loss: 0.2418 - mae: 0.3298 - val_loss: 0.2521 - val_mae: 0.3467\n",
            "Epoch 75/100\n",
            "140/140 [==============================] - 0s 3ms/step - loss: 0.2402 - mae: 0.3274 - val_loss: 0.2546 - val_mae: 0.3274\n",
            "Epoch 76/100\n",
            "140/140 [==============================] - 0s 3ms/step - loss: 0.2392 - mae: 0.3248 - val_loss: 0.2523 - val_mae: 0.3430\n",
            "Epoch 77/100\n",
            "140/140 [==============================] - 0s 3ms/step - loss: 0.2435 - mae: 0.3313 - val_loss: 0.2519 - val_mae: 0.3463\n",
            "Epoch 78/100\n",
            "140/140 [==============================] - 0s 3ms/step - loss: 0.2435 - mae: 0.3340 - val_loss: 0.2557 - val_mae: 0.3271\n",
            "Epoch 79/100\n",
            "140/140 [==============================] - 0s 3ms/step - loss: 0.2435 - mae: 0.3325 - val_loss: 0.2556 - val_mae: 0.3576\n",
            "Epoch 80/100\n",
            "140/140 [==============================] - 0s 3ms/step - loss: 0.2431 - mae: 0.3340 - val_loss: 0.2499 - val_mae: 0.3484\n",
            "Epoch 81/100\n",
            "140/140 [==============================] - 0s 3ms/step - loss: 0.2399 - mae: 0.3270 - val_loss: 0.2497 - val_mae: 0.3348\n",
            "Epoch 82/100\n",
            "140/140 [==============================] - 0s 3ms/step - loss: 0.2412 - mae: 0.3302 - val_loss: 0.2494 - val_mae: 0.3324\n",
            "Epoch 83/100\n",
            "140/140 [==============================] - 0s 3ms/step - loss: 0.2403 - mae: 0.3281 - val_loss: 0.2513 - val_mae: 0.3319\n",
            "Epoch 84/100\n",
            "140/140 [==============================] - 0s 3ms/step - loss: 0.2415 - mae: 0.3305 - val_loss: 0.2534 - val_mae: 0.3476\n",
            "Epoch 85/100\n",
            "140/140 [==============================] - 0s 3ms/step - loss: 0.2467 - mae: 0.3354 - val_loss: 0.2502 - val_mae: 0.3405\n",
            "Epoch 86/100\n",
            "140/140 [==============================] - 0s 3ms/step - loss: 0.2392 - mae: 0.3281 - val_loss: 0.2477 - val_mae: 0.3330\n",
            "Epoch 87/100\n",
            "140/140 [==============================] - 0s 3ms/step - loss: 0.2396 - mae: 0.3288 - val_loss: 0.2656 - val_mae: 0.3481\n",
            "Epoch 88/100\n",
            "140/140 [==============================] - 0s 3ms/step - loss: 0.2421 - mae: 0.3305 - val_loss: 0.2508 - val_mae: 0.3302\n",
            "Epoch 89/100\n",
            "140/140 [==============================] - 0s 3ms/step - loss: 0.2387 - mae: 0.3284 - val_loss: 0.2567 - val_mae: 0.3616\n",
            "Epoch 90/100\n",
            "140/140 [==============================] - 0s 3ms/step - loss: 0.2431 - mae: 0.3312 - val_loss: 0.2616 - val_mae: 0.3332\n",
            "Epoch 91/100\n",
            "140/140 [==============================] - 0s 3ms/step - loss: 0.2448 - mae: 0.3338 - val_loss: 0.2556 - val_mae: 0.3610\n",
            "Epoch 92/100\n",
            "140/140 [==============================] - 0s 3ms/step - loss: 0.2379 - mae: 0.3265 - val_loss: 0.2474 - val_mae: 0.3257\n",
            "Epoch 93/100\n",
            "140/140 [==============================] - 0s 3ms/step - loss: 0.2395 - mae: 0.3270 - val_loss: 0.2519 - val_mae: 0.3496\n",
            "Epoch 94/100\n",
            "140/140 [==============================] - 0s 3ms/step - loss: 0.2418 - mae: 0.3318 - val_loss: 0.2486 - val_mae: 0.3372\n",
            "Epoch 95/100\n",
            "140/140 [==============================] - 0s 3ms/step - loss: 0.2378 - mae: 0.3248 - val_loss: 0.2506 - val_mae: 0.3443\n",
            "Epoch 96/100\n",
            "140/140 [==============================] - 0s 3ms/step - loss: 0.2403 - mae: 0.3277 - val_loss: 0.2629 - val_mae: 0.3670\n",
            "Epoch 97/100\n",
            "140/140 [==============================] - 0s 3ms/step - loss: 0.2409 - mae: 0.3301 - val_loss: 0.2645 - val_mae: 0.3390\n",
            "Epoch 98/100\n",
            "140/140 [==============================] - 0s 3ms/step - loss: 0.2393 - mae: 0.3270 - val_loss: 0.2509 - val_mae: 0.3213\n",
            "Epoch 99/100\n",
            "140/140 [==============================] - 0s 3ms/step - loss: 0.2386 - mae: 0.3276 - val_loss: 0.2478 - val_mae: 0.3389\n",
            "Epoch 100/100\n",
            "140/140 [==============================] - 0s 3ms/step - loss: 0.2392 - mae: 0.3287 - val_loss: 0.2494 - val_mae: 0.3380\n",
            "Predicted values are:  [[4.4376574]\n",
            " [4.1437845]\n",
            " [4.102285 ]\n",
            " [4.146623 ]\n",
            " [4.2171865]]\n",
            "Real values are:  4886    4.200000\n",
            "9400    4.400000\n",
            "8989    4.000000\n",
            "9483    4.400000\n",
            "1024    4.191757\n",
            "Name: Rating, dtype: float64\n",
            "86/86 [==============================] - 0s 2ms/step - loss: 0.2463 - mae: 0.3367\n",
            "Neural Network with Label encoding\n",
            "MSE:  0.24627618491649628\n",
            "MAE:  0.33667582273483276\n"
          ]
        }
      ]
    },
    {
      "cell_type": "markdown",
      "metadata": {
        "id": "rheWy_h_6gyl"
      },
      "source": [
        "## Comparison of Models"
      ]
    },
    {
      "cell_type": "code",
      "metadata": {
        "colab": {
          "base_uri": "https://localhost:8080/",
          "height": 356
        },
        "id": "sAc_1CvqrAc8",
        "outputId": "c13a37e8-241f-48ae-8cb8-382d9c2c55ba"
      },
      "source": [
        "playstore_result.set_index('Model Name', inplace= True)\n",
        "\n",
        "plt.figure(figsize = (12,14))\n",
        "plt.subplot(4,2,2)\n",
        "playstore_result['MSE'].sort_values(ascending = False).plot(kind = 'barh', color=(0.3, 0.9, 0.9, 1), title= \"Mean Squared Error\")\n",
        "\n",
        "\n",
        "\n",
        "#plt.subplot(3,1,2)\n",
        "#playstore_result['MAE'].sort_values(ascending = False).plot(kind = 'barh',color=(0.3, 0.9, 0.9, 1), title = 'Mean Absolute Error')\n",
        "\n",
        "plt.subplot(4,2,2)\n",
        "playstore_result['R2_score'].sort_values(ascending = False).plot(kind = 'barh',color=(0.3, 0.9, 0.9, 1), title = 'R2_score')\n",
        "\n",
        "plt.show()"
      ],
      "execution_count": null,
      "outputs": [
        {
          "output_type": "error",
          "ename": "KeyError",
          "evalue": "ignored",
          "traceback": [
            "\u001b[0;31m---------------------------------------------------------------------------\u001b[0m",
            "\u001b[0;31mKeyError\u001b[0m                                  Traceback (most recent call last)",
            "\u001b[0;32m<ipython-input-50-b750dd2d3485>\u001b[0m in \u001b[0;36m<module>\u001b[0;34m()\u001b[0m\n\u001b[0;32m----> 1\u001b[0;31m \u001b[0mplaystore_result\u001b[0m\u001b[0;34m.\u001b[0m\u001b[0mset_index\u001b[0m\u001b[0;34m(\u001b[0m\u001b[0;34m'Model Name'\u001b[0m\u001b[0;34m,\u001b[0m \u001b[0minplace\u001b[0m\u001b[0;34m=\u001b[0m \u001b[0;32mTrue\u001b[0m\u001b[0;34m)\u001b[0m\u001b[0;34m\u001b[0m\u001b[0;34m\u001b[0m\u001b[0m\n\u001b[0m\u001b[1;32m      2\u001b[0m \u001b[0;34m\u001b[0m\u001b[0m\n\u001b[1;32m      3\u001b[0m \u001b[0mplt\u001b[0m\u001b[0;34m.\u001b[0m\u001b[0mfigure\u001b[0m\u001b[0;34m(\u001b[0m\u001b[0mfigsize\u001b[0m \u001b[0;34m=\u001b[0m \u001b[0;34m(\u001b[0m\u001b[0;36m12\u001b[0m\u001b[0;34m,\u001b[0m\u001b[0;36m14\u001b[0m\u001b[0;34m)\u001b[0m\u001b[0;34m)\u001b[0m\u001b[0;34m\u001b[0m\u001b[0;34m\u001b[0m\u001b[0m\n\u001b[1;32m      4\u001b[0m \u001b[0mplt\u001b[0m\u001b[0;34m.\u001b[0m\u001b[0msubplot\u001b[0m\u001b[0;34m(\u001b[0m\u001b[0;36m4\u001b[0m\u001b[0;34m,\u001b[0m\u001b[0;36m2\u001b[0m\u001b[0;34m,\u001b[0m\u001b[0;36m2\u001b[0m\u001b[0;34m)\u001b[0m\u001b[0;34m\u001b[0m\u001b[0;34m\u001b[0m\u001b[0m\n\u001b[1;32m      5\u001b[0m \u001b[0mplaystore_result\u001b[0m\u001b[0;34m[\u001b[0m\u001b[0;34m'MSE'\u001b[0m\u001b[0;34m]\u001b[0m\u001b[0;34m.\u001b[0m\u001b[0msort_values\u001b[0m\u001b[0;34m(\u001b[0m\u001b[0mascending\u001b[0m \u001b[0;34m=\u001b[0m \u001b[0;32mFalse\u001b[0m\u001b[0;34m)\u001b[0m\u001b[0;34m.\u001b[0m\u001b[0mplot\u001b[0m\u001b[0;34m(\u001b[0m\u001b[0mkind\u001b[0m \u001b[0;34m=\u001b[0m \u001b[0;34m'barh'\u001b[0m\u001b[0;34m,\u001b[0m \u001b[0mcolor\u001b[0m\u001b[0;34m=\u001b[0m\u001b[0;34m(\u001b[0m\u001b[0;36m0.3\u001b[0m\u001b[0;34m,\u001b[0m \u001b[0;36m0.9\u001b[0m\u001b[0;34m,\u001b[0m \u001b[0;36m0.9\u001b[0m\u001b[0;34m,\u001b[0m \u001b[0;36m1\u001b[0m\u001b[0;34m)\u001b[0m\u001b[0;34m,\u001b[0m \u001b[0mtitle\u001b[0m\u001b[0;34m=\u001b[0m \u001b[0;34m\"Mean Squared Error\"\u001b[0m\u001b[0;34m)\u001b[0m\u001b[0;34m\u001b[0m\u001b[0;34m\u001b[0m\u001b[0m\n",
            "\u001b[0;32m/usr/local/lib/python3.7/dist-packages/pandas/core/frame.py\u001b[0m in \u001b[0;36mset_index\u001b[0;34m(self, keys, drop, append, inplace, verify_integrity)\u001b[0m\n\u001b[1;32m   4553\u001b[0m \u001b[0;34m\u001b[0m\u001b[0m\n\u001b[1;32m   4554\u001b[0m         \u001b[0;32mif\u001b[0m \u001b[0mmissing\u001b[0m\u001b[0;34m:\u001b[0m\u001b[0;34m\u001b[0m\u001b[0;34m\u001b[0m\u001b[0m\n\u001b[0;32m-> 4555\u001b[0;31m             \u001b[0;32mraise\u001b[0m \u001b[0mKeyError\u001b[0m\u001b[0;34m(\u001b[0m\u001b[0;34mf\"None of {missing} are in the columns\"\u001b[0m\u001b[0;34m)\u001b[0m\u001b[0;34m\u001b[0m\u001b[0;34m\u001b[0m\u001b[0m\n\u001b[0m\u001b[1;32m   4556\u001b[0m \u001b[0;34m\u001b[0m\u001b[0m\n\u001b[1;32m   4557\u001b[0m         \u001b[0;32mif\u001b[0m \u001b[0minplace\u001b[0m\u001b[0;34m:\u001b[0m\u001b[0;34m\u001b[0m\u001b[0;34m\u001b[0m\u001b[0m\n",
            "\u001b[0;31mKeyError\u001b[0m: \"None of ['Model Name'] are in the columns\""
          ]
        }
      ]
    }
  ]
}